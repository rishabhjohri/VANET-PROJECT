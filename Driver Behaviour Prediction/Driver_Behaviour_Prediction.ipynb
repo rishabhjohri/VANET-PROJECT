{
  "nbformat": 4,
  "nbformat_minor": 0,
  "metadata": {
    "colab": {
      "provenance": []
    },
    "kernelspec": {
      "name": "python3",
      "display_name": "Python 3"
    },
    "language_info": {
      "name": "python"
    }
  },
  "cells": [
    {
      "cell_type": "code",
      "source": [
        "!pip install flask pyngrok"
      ],
      "metadata": {
        "colab": {
          "base_uri": "https://localhost:8080/"
        },
        "id": "bT_13mjWL8e-",
        "outputId": "d0797486-3ea2-4459-d5b5-7808b073331c"
      },
      "execution_count": 13,
      "outputs": [
        {
          "output_type": "stream",
          "name": "stdout",
          "text": [
            "Requirement already satisfied: flask in /usr/local/lib/python3.10/dist-packages (3.0.3)\n",
            "Collecting pyngrok\n",
            "  Downloading pyngrok-7.2.1-py3-none-any.whl.metadata (8.3 kB)\n",
            "Requirement already satisfied: Werkzeug>=3.0.0 in /usr/local/lib/python3.10/dist-packages (from flask) (3.1.3)\n",
            "Requirement already satisfied: Jinja2>=3.1.2 in /usr/local/lib/python3.10/dist-packages (from flask) (3.1.4)\n",
            "Requirement already satisfied: itsdangerous>=2.1.2 in /usr/local/lib/python3.10/dist-packages (from flask) (2.2.0)\n",
            "Requirement already satisfied: click>=8.1.3 in /usr/local/lib/python3.10/dist-packages (from flask) (8.1.7)\n",
            "Requirement already satisfied: blinker>=1.6.2 in /usr/local/lib/python3.10/dist-packages (from flask) (1.9.0)\n",
            "Requirement already satisfied: PyYAML>=5.1 in /usr/local/lib/python3.10/dist-packages (from pyngrok) (6.0.2)\n",
            "Requirement already satisfied: MarkupSafe>=2.0 in /usr/local/lib/python3.10/dist-packages (from Jinja2>=3.1.2->flask) (3.0.2)\n",
            "Downloading pyngrok-7.2.1-py3-none-any.whl (22 kB)\n",
            "Installing collected packages: pyngrok\n",
            "Successfully installed pyngrok-7.2.1\n"
          ]
        }
      ]
    },
    {
      "cell_type": "code",
      "source": [
        "%%writefile app.py\n",
        "from flask import Flask, request, jsonify, render_template\n",
        "import numpy as np\n",
        "import tensorflow as tf\n",
        "import json\n",
        "\n",
        "app = Flask(__name__)\n",
        "\n",
        "# Load the trained model\n",
        "model = tf.keras.models.load_model('/content/drive/MyDrive/driverBehaviourPrediction/driver_behavior_model.h5')\n",
        "\n",
        "# Load scaling parameters\n",
        "with open('/content/drive/MyDrive/driverBehaviourPrediction/scaling_params.json', 'r') as file:\n",
        "    scaling_params = json.load(file)\n",
        "\n",
        "mean_values = np.array(scaling_params['mean'])\n",
        "std_values = np.array(scaling_params['std'])\n",
        "\n",
        "# HTML template with all fields\n",
        "html_template = \"\"\"\n",
        "<!DOCTYPE html>\n",
        "<html>\n",
        "<head>\n",
        "    <title>Driver Behavior Prediction</title>\n",
        "    <style>\n",
        "        body { font-family: Arial, sans-serif; text-align: center; margin: 0; padding: 0; background-color: #f5f5f5; }\n",
        "        .container { margin-top: 50px; background: #fff; padding: 20px; border-radius: 10px; display: inline-block; box-shadow: 0px 0px 10px 0px rgba(0,0,0,0.1); }\n",
        "        input[type=\"text\"], button { margin: 5px 0; padding: 10px; width: 300px; font-size: 16px; border-radius: 5px; border: 1px solid #ccc; }\n",
        "        button { background-color: #007bff; color: white; cursor: pointer; }\n",
        "        button:hover { background-color: #0056b3; }\n",
        "    </style>\n",
        "</head>\n",
        "<body>\n",
        "    <div class=\"container\">\n",
        "        <h1>Driver Behavior Prediction</h1>\n",
        "        <form action=\"/predict\" method=\"post\">\n",
        "            <input type=\"text\" name=\"Timestamp\" placeholder=\"Timestamp (e.g., 0.5)\" required><br>\n",
        "            <input type=\"text\" name=\"Activation Bool\" placeholder=\"Activation Bool (e.g., 0.0)\" required><br>\n",
        "            <input type=\"text\" name=\"X Accel (Gs)\" placeholder=\"X Accel (Gs) (e.g., 0.2)\" required><br>\n",
        "            <input type=\"text\" name=\"Y Accel (Gs)\" placeholder=\"Y Accel (Gs) (e.g., -0.1)\" required><br>\n",
        "            <input type=\"text\" name=\"Z Accel (Gs)\" placeholder=\"Z Accel (Gs) (e.g., 0.3)\" required><br>\n",
        "            <input type=\"text\" name=\"X Accel KF (Gs)\" placeholder=\"X Accel KF (Gs) (e.g., -0.4)\" required><br>\n",
        "            <input type=\"text\" name=\"Y Accel KF (Gs)\" placeholder=\"Y Accel KF (Gs) (e.g., 0.1)\" required><br>\n",
        "            <input type=\"text\" name=\"Z Accel KF (Gs)\" placeholder=\"Z Accel KF (Gs) (e.g., -0.2)\" required><br>\n",
        "            <input type=\"text\" name=\"Roll (deg)\" placeholder=\"Roll (deg) (e.g., 0.6)\" required><br>\n",
        "            <input type=\"text\" name=\"Pitch (deg)\" placeholder=\"Pitch (deg) (e.g., -0.5)\" required><br>\n",
        "            <input type=\"text\" name=\"Yaw (deg)\" placeholder=\"Yaw (deg) (e.g., 0.2)\" required><br>\n",
        "            <input type=\"text\" name=\"Speed (km/h)\" placeholder=\"Speed (km/h) (e.g., 80.0)\" required><br>\n",
        "            <input type=\"text\" name=\"GPS Speed (km/h)\" placeholder=\"GPS Speed (km/h) (e.g., 78.0)\" required><br>\n",
        "            <input type=\"text\" name=\"Distance to Vehicle (m)\" placeholder=\"Distance to Vehicle (m) (e.g., 25.0)\" required><br>\n",
        "            <input type=\"text\" name=\"Impact Time (s)\" placeholder=\"Impact Time (s) (e.g., 0.5)\" required><br>\n",
        "            <input type=\"text\" name=\"Car Position (m)\" placeholder=\"Car Position (m) (e.g., -0.2)\" required><br>\n",
        "            <input type=\"text\" name=\"Phi\" placeholder=\"Phi (e.g., 0.1)\" required><br>\n",
        "            <input type=\"text\" name=\"Road Width (m)\" placeholder=\"Road Width (m) (e.g., 3.0)\" required><br>\n",
        "            <input type=\"text\" name=\"Lane Estimator State\" placeholder=\"Lane Estimator State (e.g., 1.5)\" required><br>\n",
        "            <button type=\"submit\">Predict</button>\n",
        "        </form>\n",
        "    </div>\n",
        "</body>\n",
        "</html>\n",
        "\"\"\"\n",
        "\n",
        "@app.route('/')\n",
        "def home():\n",
        "    return html_template\n",
        "\n",
        "@app.route('/predict', methods=['POST'])\n",
        "def predict():\n",
        "    # Collect input data\n",
        "    input_features = [\n",
        "        float(request.form['Timestamp']),\n",
        "        float(request.form['Activation Bool']),\n",
        "        float(request.form['X Accel (Gs)']),\n",
        "        float(request.form['Y Accel (Gs)']),\n",
        "        float(request.form['Z Accel (Gs)']),\n",
        "        float(request.form['X Accel KF (Gs)']),\n",
        "        float(request.form['Y Accel KF (Gs)']),\n",
        "        float(request.form['Z Accel KF (Gs)']),\n",
        "        float(request.form['Roll (deg)']),\n",
        "        float(request.form['Pitch (deg)']),\n",
        "        float(request.form['Yaw (deg)']),\n",
        "        float(request.form['Speed (km/h)']),\n",
        "        float(request.form['GPS Speed (km/h)']),\n",
        "        float(request.form['Distance to Vehicle (m)']),\n",
        "        float(request.form['Impact Time (s)']),\n",
        "        float(request.form['Car Position (m)']),\n",
        "        float(request.form['Phi']),\n",
        "        float(request.form['Road Width (m)']),\n",
        "        float(request.form['Lane Estimator State'])\n",
        "    ]\n",
        "\n",
        "    # Normalize the input data using the scaling parameters\n",
        "    input_features_normalized = (np.array(input_features) - mean_values) / std_values\n",
        "\n",
        "    # Make a prediction\n",
        "    prediction = model.predict(input_features_normalized.reshape(1, -1))\n",
        "    predicted_class = np.argmax(prediction)\n",
        "\n",
        "    # Map prediction to labels\n",
        "    labels = ['NORMAL', 'AGGRESSIVE', 'DROWSY']\n",
        "    result = labels[predicted_class]\n",
        "\n",
        "    return f\"<h1>Predicted Behavior: {result}</h1>\"\n",
        "\n",
        "if __name__ == '__main__':\n",
        "    app.run()\n",
        "\n"
      ],
      "metadata": {
        "colab": {
          "base_uri": "https://localhost:8080/"
        },
        "id": "adhrz3tRQVOi",
        "outputId": "c86d4800-743f-416c-a72d-cf82250c0d31"
      },
      "execution_count": 25,
      "outputs": [
        {
          "output_type": "stream",
          "name": "stdout",
          "text": [
            "Overwriting app.py\n"
          ]
        }
      ]
    },
    {
      "cell_type": "code",
      "source": [
        "from google.colab.output import eval_js\n",
        "print(eval_js(\"google.colab.kernel.proxyPort(5000)\"))"
      ],
      "metadata": {
        "colab": {
          "base_uri": "https://localhost:8080/",
          "height": 34
        },
        "id": "7YXUGG2vTrVY",
        "outputId": "d831d5eb-6491-40ec-9224-eced512b94eb"
      },
      "execution_count": 26,
      "outputs": [
        {
          "output_type": "stream",
          "name": "stdout",
          "text": [
            "https://xt93z86eqch-496ff2e9c6d22116-5000-colab.googleusercontent.com/\n"
          ]
        }
      ]
    },
    {
      "cell_type": "code",
      "source": [
        "!python app.py\n",
        "from pyngrok import ngrok\n",
        "\n",
        "# Open an HTTP tunnel to the Flask app\n",
        "public_url = ngrok.connect(5000)\n",
        "print(\"Public URL:\", public_url)\n",
        "# Now your app is accessible at the public URL\n"
      ],
      "metadata": {
        "id": "bi0Up_AnQiGR"
      },
      "execution_count": null,
      "outputs": []
    }
  ]
}