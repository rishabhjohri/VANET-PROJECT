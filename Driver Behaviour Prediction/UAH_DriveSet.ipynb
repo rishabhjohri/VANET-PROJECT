{
  "nbformat": 4,
  "nbformat_minor": 0,
  "metadata": {
    "colab": {
      "provenance": []
    },
    "kernelspec": {
      "name": "python3",
      "display_name": "Python 3"
    },
    "language_info": {
      "name": "python"
    }
  },
  "cells": [
    {
      "cell_type": "code",
      "source": [
        "D1 = [\n",
        "    \"/content/drive/MyDrive/UAH-DRIVESET-v1/D1/20151110175712-16km-D1-NORMAL1-SECONDARY\",\n",
        "    \"/content/drive/MyDrive/UAH-DRIVESET-v1/D1/20151110180824-16km-D1-NORMAL2-SECONDARY\",\n",
        "    \"/content/drive/MyDrive/UAH-DRIVESET-v1/D1/20151111123124-25km-D1-NORMAL-MOTORWAY\",\n",
        "    \"/content/drive/MyDrive/UAH-DRIVESET-v1/D1/20151111125233-24km-D1-AGGRESSIVE-MOTORWAY\",\n",
        "    \"/content/drive/MyDrive/UAH-DRIVESET-v1/D1/20151111132348-25km-D1-DROWSY-MOTORWAY\",\n",
        "    \"/content/drive/MyDrive/UAH-DRIVESET-v1/D1/20151111134545-16km-D1-AGGRESSIVE-SECONDARY\",\n",
        "    \"/content/drive/MyDrive/UAH-DRIVESET-v1/D1/20151111135612-13km-D1-DROWSY-SECONDARY\"\n",
        "]\n",
        "\n",
        "D2 = [\n",
        "    \"/content/drive/MyDrive/UAH-DRIVESET-v1/D2/20151120131714-26km-D2-NORMAL-MOTORWAY\",\n",
        "    \"/content/drive/MyDrive/UAH-DRIVESET-v1/D2/20151120133502-26km-D2-AGGRESSIVE-MOTORWAY\",\n",
        "    \"/content/drive/MyDrive/UAH-DRIVESET-v1/D2/20151120135152-25km-D2-DROWSY-MOTORWAY\",\n",
        "    \"/content/drive/MyDrive/UAH-DRIVESET-v1/D2/20151120160904-16km-D2-NORMAL1-SECONDARY\",\n",
        "    \"/content/drive/MyDrive/UAH-DRIVESET-v1/D2/20151120162105-17km-D2-NORMAL2-SECONDARY\",\n",
        "    \"/content/drive/MyDrive/UAH-DRIVESET-v1/D2/20151120163350-16km-D2-AGGRESSIVE-SECONDARY\",\n",
        "    \"/content/drive/MyDrive/UAH-DRIVESET-v1/D2/20151120164606-16km-D2-DROWSY-SECONDARY\"\n",
        "]\n",
        "\n",
        "D3 = [\n",
        "    \"/content/drive/MyDrive/UAH-DRIVESET-v1/D3/20151126110502-26km-D3-NORMAL-MOTORWAY\",\n",
        "    \"/content/drive/MyDrive/UAH-DRIVESET-v1/D3/20151126113754-26km-D3-DROWSY-MOTORWAY\",\n",
        "    \"/content/drive/MyDrive/UAH-DRIVESET-v1/D3/20151126124208-16km-D3-NORMAL1-SECONDARY\",\n",
        "    \"/content/drive/MyDrive/UAH-DRIVESET-v1/D3/20151126125458-16km-D3-NORMAL2-SECONDARY\",\n",
        "    \"/content/drive/MyDrive/UAH-DRIVESET-v1/D3/20151126130707-16km-D3-AGGRESSIVE-SECONDARY\",\n",
        "    \"/content/drive/MyDrive/UAH-DRIVESET-v1/D3/20151126132013-17km-D3-DROWSY-SECONDARY\",\n",
        "    \"/content/drive/MyDrive/UAH-DRIVESET-v1/D3/20151126134736-26km-D3-AGGRESSIVE-MOTORWAY\"\n",
        "]\n",
        "\n",
        "D4 = [\n",
        "    \"/content/drive/MyDrive/UAH-DRIVESET-v1/D4/20151203171800-16km-D4-NORMAL1-SECONDARY\",\n",
        "    \"/content/drive/MyDrive/UAH-DRIVESET-v1/D4/20151203173103-17km-D4-NORMAL2-SECONDARY\",\n",
        "    \"/content/drive/MyDrive/UAH-DRIVESET-v1/D4/20151203174324-16km-D4-AGGRESSIVE-SECONDARY\",\n",
        "    \"/content/drive/MyDrive/UAH-DRIVESET-v1/D4/20151203175637-17km-D4-DROWSY-SECONDARY\",\n",
        "    \"/content/drive/MyDrive/UAH-DRIVESET-v1/D4/20151204152848-25km-D4-NORMAL-MOTORWAY\",\n",
        "    \"/content/drive/MyDrive/UAH-DRIVESET-v1/D4/20151204154908-25km-D4-AGGRESSIVE-MOTORWAY\",\n",
        "    \"/content/drive/MyDrive/UAH-DRIVESET-v1/D4/20151204160823-25km-D4-DROWSY-MOTORWAY\"\n",
        "]\n",
        "\n",
        "D5 = [\n",
        "    \"/content/drive/MyDrive/UAH-DRIVESET-v1/D5/20151209151242-25km-D5-NORMAL-MOTORWAY\",\n",
        "    \"/content/drive/MyDrive/UAH-DRIVESET-v1/D5/20151209153137-25km-D5-AGGRESSIVE-MOTORWAY\",\n",
        "    \"/content/drive/MyDrive/UAH-DRIVESET-v1/D5/20151211160213-25km-D5-DROWSY-MOTORWAY\",\n",
        "    \"/content/drive/MyDrive/UAH-DRIVESET-v1/D5/20151211162829-16km-D5-NORMAL1-SECONDARY\",\n",
        "    \"/content/drive/MyDrive/UAH-DRIVESET-v1/D5/20151211164124-17km-D5-NORMAL2-SECONDARY\",\n",
        "    \"/content/drive/MyDrive/UAH-DRIVESET-v1/D5/20151211165606-12km-D5-AGGRESSIVE-SECONDARY\",\n",
        "    \"/content/drive/MyDrive/UAH-DRIVESET-v1/D5/20151211170502-16km-D5-DROWSY-SECONDARY\"\n",
        "]\n",
        "\n",
        "D6 = [\n",
        "    \"/content/drive/MyDrive/UAH-DRIVESET-v1/D6/20151217162714-26km-D6-NORMAL-MOTORWAY\",\n",
        "    \"/content/drive/MyDrive/UAH-DRIVESET-v1/D6/20151217164730-25km-D6-DROWSY-MOTORWAY\",\n",
        "    \"/content/drive/MyDrive/UAH-DRIVESET-v1/D6/20151221112434-17km-D6-NORMAL-SECONDARY\",\n",
        "    \"/content/drive/MyDrive/UAH-DRIVESET-v1/D6/20151221113846-16km-D6-DROWSY-SECONDARY\",\n",
        "    \"/content/drive/MyDrive/UAH-DRIVESET-v1/D6/20151221120051-26km-D6-AGGRESSIVE-MOTORWAY\"\n",
        "]\n"
      ],
      "metadata": {
        "id": "B6-2rJpF_DJQ"
      },
      "execution_count": 5,
      "outputs": []
    },
    {
      "cell_type": "code",
      "source": [
        "import pandas as pd\n",
        "import os\n",
        "\n",
        "# Combine all paths into one list\n",
        "ALL_PATHS = D1 + D2 + D3 + D4 + D5 + D6\n",
        "\n",
        "# Functions to process specific file types (same as the earlier code)\n",
        "\n",
        "def process_raw_accelerometers(file_path):\n",
        "    if os.path.getsize(file_path) == 0:\n",
        "        return pd.DataFrame()\n",
        "    try:\n",
        "        columns = [\n",
        "            'Timestamp', 'Activation Bool', 'X Accel (Gs)', 'Y Accel (Gs)', 'Z Accel (Gs)',\n",
        "            'X Accel KF (Gs)', 'Y Accel KF (Gs)', 'Z Accel KF (Gs)',\n",
        "            'Roll (deg)', 'Pitch (deg)', 'Yaw (deg)'\n",
        "        ]\n",
        "        df = pd.read_csv(file_path, delim_whitespace=True, header=None)\n",
        "        df.columns = columns\n",
        "        return df\n",
        "    except Exception as e:\n",
        "        print(f\"Error processing {file_path}: {e}\")\n",
        "        return pd.DataFrame()\n",
        "\n",
        "\n",
        "def process_raw_gps(file_path):\n",
        "    if os.path.getsize(file_path) == 0:\n",
        "        return pd.DataFrame()\n",
        "    try:\n",
        "        columns = [\n",
        "            'Timestamp', 'Speed (km/h)', 'Latitude', 'Longitude', 'Altitude',\n",
        "            'Vertical Accuracy', 'Horizontal Accuracy', 'Course (deg)',\n",
        "            'Course Variation', 'Position State', 'Lane Dist State', 'Lane History'\n",
        "        ]\n",
        "        df = pd.read_csv(file_path, delim_whitespace=True, header=None)\n",
        "        df.columns = columns\n",
        "        return df\n",
        "    except Exception as e:\n",
        "        print(f\"Error processing {file_path}: {e}\")\n",
        "        return pd.DataFrame()\n",
        "\n",
        "\n",
        "def process_proc_lane_detection(file_path):\n",
        "    if os.path.getsize(file_path) == 0:\n",
        "        return pd.DataFrame()\n",
        "    try:\n",
        "        columns = ['Timestamp', 'Car Position (m)', 'Phi', 'Road Width (m)', 'Lane Estimator State']\n",
        "        df = pd.read_csv(file_path, delim_whitespace=True, header=None)\n",
        "        df.columns = columns\n",
        "        return df\n",
        "    except Exception as e:\n",
        "        print(f\"Error processing {file_path}: {e}\")\n",
        "        return pd.DataFrame()\n",
        "\n",
        "\n",
        "def process_proc_vehicle_detection(file_path):\n",
        "    if os.path.getsize(file_path) == 0:\n",
        "        return pd.DataFrame()\n",
        "    try:\n",
        "        columns = [\n",
        "            'Timestamp', 'Distance to Vehicle (m)', 'Impact Time (s)', 'Vehicle Count', 'GPS Speed (km/h)'\n",
        "        ]\n",
        "        df = pd.read_csv(file_path, delim_whitespace=True, header=None)\n",
        "        df.columns = columns\n",
        "        return df\n",
        "    except Exception as e:\n",
        "        print(f\"Error processing {file_path}: {e}\")\n",
        "        return pd.DataFrame()\n",
        "\n",
        "\n",
        "def process_semantic_online(file_path):\n",
        "    if os.path.getsize(file_path) == 0:\n",
        "        return pd.DataFrame()\n",
        "    try:\n",
        "        with open(file_path, 'r') as f:\n",
        "            first_line = f.readline().strip()\n",
        "            num_columns = len(first_line.split())\n",
        "        columns = ['Timestamp', 'Latitude', 'Longitude'] + [f'Semantic_Feature_{i}' for i in range(1, num_columns - 3 + 1)]\n",
        "        df = pd.read_csv(file_path, delim_whitespace=True, header=None)\n",
        "        df.columns = columns\n",
        "        return df\n",
        "    except Exception as e:\n",
        "        print(f\"Error processing {file_path}: {e}\")\n",
        "        return pd.DataFrame()\n",
        "\n",
        "# Main processing function\n",
        "\n",
        "def process_paths(paths):\n",
        "    file_to_function = {\n",
        "        \"RAW_ACCELEROMETERS.txt\": process_raw_accelerometers,\n",
        "        \"RAW_GPS.txt\": process_raw_gps,\n",
        "        \"PROC_LANE_DETECTION.txt\": process_proc_lane_detection,\n",
        "        \"PROC_VEHICLE_DETECTION.txt\": process_proc_vehicle_detection,\n",
        "        \"SEMANTIC_ONLINE.txt\": process_semantic_online,\n",
        "    }\n",
        "\n",
        "    consolidated_data = []\n",
        "\n",
        "    for folder_path in paths:\n",
        "        print(f\"Processing folder: {folder_path}\")\n",
        "\n",
        "        for file_name, processing_function in file_to_function.items():\n",
        "            file_path = os.path.join(folder_path, file_name)\n",
        "            if os.path.exists(file_path):\n",
        "                print(f\"  Reading file: {file_name}\")\n",
        "                try:\n",
        "                    df = processing_function(file_path)\n",
        "                    if not df.empty:\n",
        "                        df['Source File'] = file_name\n",
        "                        df['Folder'] = folder_path\n",
        "                        consolidated_data.append(df)\n",
        "                except Exception as e:\n",
        "                    print(f\"Error processing {file_path}: {e}\")\n",
        "            else:\n",
        "                print(f\"  File not found: {file_name}\")\n",
        "\n",
        "    if consolidated_data:\n",
        "        final_dataframe = pd.concat(consolidated_data, ignore_index=True)\n",
        "        return final_dataframe\n",
        "    else:\n",
        "        print(\"No data processed.\")\n",
        "        return pd.DataFrame()\n",
        "\n",
        "# Example usage\n",
        "\n",
        "if __name__ == \"__main__\":\n",
        "    final_data = process_paths(ALL_PATHS)\n",
        "\n",
        "    if not final_data.empty:\n",
        "        print(\"Data processing completed. Here's a preview:\")\n",
        "        print(final_data.head())\n",
        "        # Save to CSV for further analysis\n",
        "        final_data.to_csv(\"processed_dataset.csv\", index=False)\n",
        "    else:\n",
        "        print(\"No data available.\")\n"
      ],
      "metadata": {
        "colab": {
          "base_uri": "https://localhost:8080/"
        },
        "id": "5pieAAkMBjn1",
        "outputId": "b2ff4aea-85ad-4d28-8ff1-ec17390eedca"
      },
      "execution_count": 6,
      "outputs": [
        {
          "output_type": "stream",
          "name": "stdout",
          "text": [
            "Processing folder: /content/drive/MyDrive/UAH-DRIVESET-v1/D1/20151110175712-16km-D1-NORMAL1-SECONDARY\n",
            "  Reading file: RAW_ACCELEROMETERS.txt\n"
          ]
        },
        {
          "output_type": "stream",
          "name": "stderr",
          "text": [
            "<ipython-input-6-d0a8a006af45>:18: FutureWarning: The 'delim_whitespace' keyword in pd.read_csv is deprecated and will be removed in a future version. Use ``sep='\\s+'`` instead\n",
            "  df = pd.read_csv(file_path, delim_whitespace=True, header=None)\n"
          ]
        },
        {
          "output_type": "stream",
          "name": "stdout",
          "text": [
            "  Reading file: RAW_GPS.txt\n",
            "  Reading file: PROC_LANE_DETECTION.txt\n"
          ]
        },
        {
          "output_type": "stream",
          "name": "stderr",
          "text": [
            "<ipython-input-6-d0a8a006af45>:35: FutureWarning: The 'delim_whitespace' keyword in pd.read_csv is deprecated and will be removed in a future version. Use ``sep='\\s+'`` instead\n",
            "  df = pd.read_csv(file_path, delim_whitespace=True, header=None)\n",
            "<ipython-input-6-d0a8a006af45>:48: FutureWarning: The 'delim_whitespace' keyword in pd.read_csv is deprecated and will be removed in a future version. Use ``sep='\\s+'`` instead\n",
            "  df = pd.read_csv(file_path, delim_whitespace=True, header=None)\n"
          ]
        },
        {
          "output_type": "stream",
          "name": "stdout",
          "text": [
            "  Reading file: PROC_VEHICLE_DETECTION.txt\n"
          ]
        },
        {
          "output_type": "stream",
          "name": "stderr",
          "text": [
            "<ipython-input-6-d0a8a006af45>:63: FutureWarning: The 'delim_whitespace' keyword in pd.read_csv is deprecated and will be removed in a future version. Use ``sep='\\s+'`` instead\n",
            "  df = pd.read_csv(file_path, delim_whitespace=True, header=None)\n"
          ]
        },
        {
          "output_type": "stream",
          "name": "stdout",
          "text": [
            "  Reading file: SEMANTIC_ONLINE.txt\n",
            "Processing folder: /content/drive/MyDrive/UAH-DRIVESET-v1/D1/20151110180824-16km-D1-NORMAL2-SECONDARY\n"
          ]
        },
        {
          "output_type": "stream",
          "name": "stderr",
          "text": [
            "<ipython-input-6-d0a8a006af45>:79: FutureWarning: The 'delim_whitespace' keyword in pd.read_csv is deprecated and will be removed in a future version. Use ``sep='\\s+'`` instead\n",
            "  df = pd.read_csv(file_path, delim_whitespace=True, header=None)\n",
            "<ipython-input-6-d0a8a006af45>:18: FutureWarning: The 'delim_whitespace' keyword in pd.read_csv is deprecated and will be removed in a future version. Use ``sep='\\s+'`` instead\n",
            "  df = pd.read_csv(file_path, delim_whitespace=True, header=None)\n"
          ]
        },
        {
          "output_type": "stream",
          "name": "stdout",
          "text": [
            "  Reading file: RAW_ACCELEROMETERS.txt\n",
            "  Reading file: RAW_GPS.txt\n"
          ]
        },
        {
          "output_type": "stream",
          "name": "stderr",
          "text": [
            "<ipython-input-6-d0a8a006af45>:35: FutureWarning: The 'delim_whitespace' keyword in pd.read_csv is deprecated and will be removed in a future version. Use ``sep='\\s+'`` instead\n",
            "  df = pd.read_csv(file_path, delim_whitespace=True, header=None)\n"
          ]
        },
        {
          "output_type": "stream",
          "name": "stdout",
          "text": [
            "  Reading file: PROC_LANE_DETECTION.txt\n"
          ]
        },
        {
          "output_type": "stream",
          "name": "stderr",
          "text": [
            "<ipython-input-6-d0a8a006af45>:48: FutureWarning: The 'delim_whitespace' keyword in pd.read_csv is deprecated and will be removed in a future version. Use ``sep='\\s+'`` instead\n",
            "  df = pd.read_csv(file_path, delim_whitespace=True, header=None)\n"
          ]
        },
        {
          "output_type": "stream",
          "name": "stdout",
          "text": [
            "  Reading file: PROC_VEHICLE_DETECTION.txt\n"
          ]
        },
        {
          "output_type": "stream",
          "name": "stderr",
          "text": [
            "<ipython-input-6-d0a8a006af45>:63: FutureWarning: The 'delim_whitespace' keyword in pd.read_csv is deprecated and will be removed in a future version. Use ``sep='\\s+'`` instead\n",
            "  df = pd.read_csv(file_path, delim_whitespace=True, header=None)\n"
          ]
        },
        {
          "output_type": "stream",
          "name": "stdout",
          "text": [
            "  Reading file: SEMANTIC_ONLINE.txt\n"
          ]
        },
        {
          "output_type": "stream",
          "name": "stderr",
          "text": [
            "<ipython-input-6-d0a8a006af45>:79: FutureWarning: The 'delim_whitespace' keyword in pd.read_csv is deprecated and will be removed in a future version. Use ``sep='\\s+'`` instead\n",
            "  df = pd.read_csv(file_path, delim_whitespace=True, header=None)\n"
          ]
        },
        {
          "output_type": "stream",
          "name": "stdout",
          "text": [
            "Processing folder: /content/drive/MyDrive/UAH-DRIVESET-v1/D1/20151111123124-25km-D1-NORMAL-MOTORWAY\n",
            "  Reading file: RAW_ACCELEROMETERS.txt\n"
          ]
        },
        {
          "output_type": "stream",
          "name": "stderr",
          "text": [
            "<ipython-input-6-d0a8a006af45>:18: FutureWarning: The 'delim_whitespace' keyword in pd.read_csv is deprecated and will be removed in a future version. Use ``sep='\\s+'`` instead\n",
            "  df = pd.read_csv(file_path, delim_whitespace=True, header=None)\n"
          ]
        },
        {
          "output_type": "stream",
          "name": "stdout",
          "text": [
            "  Reading file: RAW_GPS.txt\n",
            "  Reading file: PROC_LANE_DETECTION.txt\n"
          ]
        },
        {
          "output_type": "stream",
          "name": "stderr",
          "text": [
            "<ipython-input-6-d0a8a006af45>:35: FutureWarning: The 'delim_whitespace' keyword in pd.read_csv is deprecated and will be removed in a future version. Use ``sep='\\s+'`` instead\n",
            "  df = pd.read_csv(file_path, delim_whitespace=True, header=None)\n",
            "<ipython-input-6-d0a8a006af45>:48: FutureWarning: The 'delim_whitespace' keyword in pd.read_csv is deprecated and will be removed in a future version. Use ``sep='\\s+'`` instead\n",
            "  df = pd.read_csv(file_path, delim_whitespace=True, header=None)\n"
          ]
        },
        {
          "output_type": "stream",
          "name": "stdout",
          "text": [
            "  Reading file: PROC_VEHICLE_DETECTION.txt\n"
          ]
        },
        {
          "output_type": "stream",
          "name": "stderr",
          "text": [
            "<ipython-input-6-d0a8a006af45>:63: FutureWarning: The 'delim_whitespace' keyword in pd.read_csv is deprecated and will be removed in a future version. Use ``sep='\\s+'`` instead\n",
            "  df = pd.read_csv(file_path, delim_whitespace=True, header=None)\n"
          ]
        },
        {
          "output_type": "stream",
          "name": "stdout",
          "text": [
            "  Reading file: SEMANTIC_ONLINE.txt\n",
            "Processing folder: /content/drive/MyDrive/UAH-DRIVESET-v1/D1/20151111125233-24km-D1-AGGRESSIVE-MOTORWAY\n"
          ]
        },
        {
          "output_type": "stream",
          "name": "stderr",
          "text": [
            "<ipython-input-6-d0a8a006af45>:79: FutureWarning: The 'delim_whitespace' keyword in pd.read_csv is deprecated and will be removed in a future version. Use ``sep='\\s+'`` instead\n",
            "  df = pd.read_csv(file_path, delim_whitespace=True, header=None)\n",
            "<ipython-input-6-d0a8a006af45>:18: FutureWarning: The 'delim_whitespace' keyword in pd.read_csv is deprecated and will be removed in a future version. Use ``sep='\\s+'`` instead\n",
            "  df = pd.read_csv(file_path, delim_whitespace=True, header=None)\n"
          ]
        },
        {
          "output_type": "stream",
          "name": "stdout",
          "text": [
            "  Reading file: RAW_ACCELEROMETERS.txt\n",
            "  Reading file: RAW_GPS.txt\n",
            "  Reading file: PROC_LANE_DETECTION.txt\n"
          ]
        },
        {
          "output_type": "stream",
          "name": "stderr",
          "text": [
            "<ipython-input-6-d0a8a006af45>:35: FutureWarning: The 'delim_whitespace' keyword in pd.read_csv is deprecated and will be removed in a future version. Use ``sep='\\s+'`` instead\n",
            "  df = pd.read_csv(file_path, delim_whitespace=True, header=None)\n",
            "<ipython-input-6-d0a8a006af45>:48: FutureWarning: The 'delim_whitespace' keyword in pd.read_csv is deprecated and will be removed in a future version. Use ``sep='\\s+'`` instead\n",
            "  df = pd.read_csv(file_path, delim_whitespace=True, header=None)\n"
          ]
        },
        {
          "output_type": "stream",
          "name": "stdout",
          "text": [
            "  Reading file: PROC_VEHICLE_DETECTION.txt\n"
          ]
        },
        {
          "output_type": "stream",
          "name": "stderr",
          "text": [
            "<ipython-input-6-d0a8a006af45>:63: FutureWarning: The 'delim_whitespace' keyword in pd.read_csv is deprecated and will be removed in a future version. Use ``sep='\\s+'`` instead\n",
            "  df = pd.read_csv(file_path, delim_whitespace=True, header=None)\n"
          ]
        },
        {
          "output_type": "stream",
          "name": "stdout",
          "text": [
            "  Reading file: SEMANTIC_ONLINE.txt\n"
          ]
        },
        {
          "output_type": "stream",
          "name": "stderr",
          "text": [
            "<ipython-input-6-d0a8a006af45>:79: FutureWarning: The 'delim_whitespace' keyword in pd.read_csv is deprecated and will be removed in a future version. Use ``sep='\\s+'`` instead\n",
            "  df = pd.read_csv(file_path, delim_whitespace=True, header=None)\n"
          ]
        },
        {
          "output_type": "stream",
          "name": "stdout",
          "text": [
            "Processing folder: /content/drive/MyDrive/UAH-DRIVESET-v1/D1/20151111132348-25km-D1-DROWSY-MOTORWAY\n",
            "  Reading file: RAW_ACCELEROMETERS.txt\n"
          ]
        },
        {
          "output_type": "stream",
          "name": "stderr",
          "text": [
            "<ipython-input-6-d0a8a006af45>:18: FutureWarning: The 'delim_whitespace' keyword in pd.read_csv is deprecated and will be removed in a future version. Use ``sep='\\s+'`` instead\n",
            "  df = pd.read_csv(file_path, delim_whitespace=True, header=None)\n"
          ]
        },
        {
          "output_type": "stream",
          "name": "stdout",
          "text": [
            "  Reading file: RAW_GPS.txt\n",
            "  Reading file: PROC_LANE_DETECTION.txt\n"
          ]
        },
        {
          "output_type": "stream",
          "name": "stderr",
          "text": [
            "<ipython-input-6-d0a8a006af45>:35: FutureWarning: The 'delim_whitespace' keyword in pd.read_csv is deprecated and will be removed in a future version. Use ``sep='\\s+'`` instead\n",
            "  df = pd.read_csv(file_path, delim_whitespace=True, header=None)\n",
            "<ipython-input-6-d0a8a006af45>:48: FutureWarning: The 'delim_whitespace' keyword in pd.read_csv is deprecated and will be removed in a future version. Use ``sep='\\s+'`` instead\n",
            "  df = pd.read_csv(file_path, delim_whitespace=True, header=None)\n"
          ]
        },
        {
          "output_type": "stream",
          "name": "stdout",
          "text": [
            "  Reading file: PROC_VEHICLE_DETECTION.txt\n"
          ]
        },
        {
          "output_type": "stream",
          "name": "stderr",
          "text": [
            "<ipython-input-6-d0a8a006af45>:63: FutureWarning: The 'delim_whitespace' keyword in pd.read_csv is deprecated and will be removed in a future version. Use ``sep='\\s+'`` instead\n",
            "  df = pd.read_csv(file_path, delim_whitespace=True, header=None)\n"
          ]
        },
        {
          "output_type": "stream",
          "name": "stdout",
          "text": [
            "  Reading file: SEMANTIC_ONLINE.txt\n"
          ]
        },
        {
          "output_type": "stream",
          "name": "stderr",
          "text": [
            "<ipython-input-6-d0a8a006af45>:79: FutureWarning: The 'delim_whitespace' keyword in pd.read_csv is deprecated and will be removed in a future version. Use ``sep='\\s+'`` instead\n",
            "  df = pd.read_csv(file_path, delim_whitespace=True, header=None)\n"
          ]
        },
        {
          "output_type": "stream",
          "name": "stdout",
          "text": [
            "Processing folder: /content/drive/MyDrive/UAH-DRIVESET-v1/D1/20151111134545-16km-D1-AGGRESSIVE-SECONDARY\n",
            "  Reading file: RAW_ACCELEROMETERS.txt\n"
          ]
        },
        {
          "output_type": "stream",
          "name": "stderr",
          "text": [
            "<ipython-input-6-d0a8a006af45>:18: FutureWarning: The 'delim_whitespace' keyword in pd.read_csv is deprecated and will be removed in a future version. Use ``sep='\\s+'`` instead\n",
            "  df = pd.read_csv(file_path, delim_whitespace=True, header=None)\n"
          ]
        },
        {
          "output_type": "stream",
          "name": "stdout",
          "text": [
            "  Reading file: RAW_GPS.txt\n"
          ]
        },
        {
          "output_type": "stream",
          "name": "stderr",
          "text": [
            "<ipython-input-6-d0a8a006af45>:35: FutureWarning: The 'delim_whitespace' keyword in pd.read_csv is deprecated and will be removed in a future version. Use ``sep='\\s+'`` instead\n",
            "  df = pd.read_csv(file_path, delim_whitespace=True, header=None)\n"
          ]
        },
        {
          "output_type": "stream",
          "name": "stdout",
          "text": [
            "  Reading file: PROC_LANE_DETECTION.txt\n"
          ]
        },
        {
          "output_type": "stream",
          "name": "stderr",
          "text": [
            "<ipython-input-6-d0a8a006af45>:48: FutureWarning: The 'delim_whitespace' keyword in pd.read_csv is deprecated and will be removed in a future version. Use ``sep='\\s+'`` instead\n",
            "  df = pd.read_csv(file_path, delim_whitespace=True, header=None)\n"
          ]
        },
        {
          "output_type": "stream",
          "name": "stdout",
          "text": [
            "  Reading file: PROC_VEHICLE_DETECTION.txt\n",
            "  Reading file: SEMANTIC_ONLINE.txt\n"
          ]
        },
        {
          "output_type": "stream",
          "name": "stderr",
          "text": [
            "<ipython-input-6-d0a8a006af45>:63: FutureWarning: The 'delim_whitespace' keyword in pd.read_csv is deprecated and will be removed in a future version. Use ``sep='\\s+'`` instead\n",
            "  df = pd.read_csv(file_path, delim_whitespace=True, header=None)\n",
            "<ipython-input-6-d0a8a006af45>:79: FutureWarning: The 'delim_whitespace' keyword in pd.read_csv is deprecated and will be removed in a future version. Use ``sep='\\s+'`` instead\n",
            "  df = pd.read_csv(file_path, delim_whitespace=True, header=None)\n"
          ]
        },
        {
          "output_type": "stream",
          "name": "stdout",
          "text": [
            "Processing folder: /content/drive/MyDrive/UAH-DRIVESET-v1/D1/20151111135612-13km-D1-DROWSY-SECONDARY\n",
            "  Reading file: RAW_ACCELEROMETERS.txt\n"
          ]
        },
        {
          "output_type": "stream",
          "name": "stderr",
          "text": [
            "<ipython-input-6-d0a8a006af45>:18: FutureWarning: The 'delim_whitespace' keyword in pd.read_csv is deprecated and will be removed in a future version. Use ``sep='\\s+'`` instead\n",
            "  df = pd.read_csv(file_path, delim_whitespace=True, header=None)\n"
          ]
        },
        {
          "output_type": "stream",
          "name": "stdout",
          "text": [
            "  Reading file: RAW_GPS.txt\n"
          ]
        },
        {
          "output_type": "stream",
          "name": "stderr",
          "text": [
            "<ipython-input-6-d0a8a006af45>:35: FutureWarning: The 'delim_whitespace' keyword in pd.read_csv is deprecated and will be removed in a future version. Use ``sep='\\s+'`` instead\n",
            "  df = pd.read_csv(file_path, delim_whitespace=True, header=None)\n"
          ]
        },
        {
          "output_type": "stream",
          "name": "stdout",
          "text": [
            "  Reading file: PROC_LANE_DETECTION.txt\n",
            "  Reading file: PROC_VEHICLE_DETECTION.txt\n"
          ]
        },
        {
          "output_type": "stream",
          "name": "stderr",
          "text": [
            "<ipython-input-6-d0a8a006af45>:48: FutureWarning: The 'delim_whitespace' keyword in pd.read_csv is deprecated and will be removed in a future version. Use ``sep='\\s+'`` instead\n",
            "  df = pd.read_csv(file_path, delim_whitespace=True, header=None)\n",
            "<ipython-input-6-d0a8a006af45>:63: FutureWarning: The 'delim_whitespace' keyword in pd.read_csv is deprecated and will be removed in a future version. Use ``sep='\\s+'`` instead\n",
            "  df = pd.read_csv(file_path, delim_whitespace=True, header=None)\n"
          ]
        },
        {
          "output_type": "stream",
          "name": "stdout",
          "text": [
            "  Reading file: SEMANTIC_ONLINE.txt\n"
          ]
        },
        {
          "output_type": "stream",
          "name": "stderr",
          "text": [
            "<ipython-input-6-d0a8a006af45>:79: FutureWarning: The 'delim_whitespace' keyword in pd.read_csv is deprecated and will be removed in a future version. Use ``sep='\\s+'`` instead\n",
            "  df = pd.read_csv(file_path, delim_whitespace=True, header=None)\n"
          ]
        },
        {
          "output_type": "stream",
          "name": "stdout",
          "text": [
            "Processing folder: /content/drive/MyDrive/UAH-DRIVESET-v1/D2/20151120131714-26km-D2-NORMAL-MOTORWAY\n",
            "  Reading file: RAW_ACCELEROMETERS.txt\n"
          ]
        },
        {
          "output_type": "stream",
          "name": "stderr",
          "text": [
            "<ipython-input-6-d0a8a006af45>:18: FutureWarning: The 'delim_whitespace' keyword in pd.read_csv is deprecated and will be removed in a future version. Use ``sep='\\s+'`` instead\n",
            "  df = pd.read_csv(file_path, delim_whitespace=True, header=None)\n"
          ]
        },
        {
          "output_type": "stream",
          "name": "stdout",
          "text": [
            "  Reading file: RAW_GPS.txt\n",
            "  Reading file: PROC_LANE_DETECTION.txt\n"
          ]
        },
        {
          "output_type": "stream",
          "name": "stderr",
          "text": [
            "<ipython-input-6-d0a8a006af45>:35: FutureWarning: The 'delim_whitespace' keyword in pd.read_csv is deprecated and will be removed in a future version. Use ``sep='\\s+'`` instead\n",
            "  df = pd.read_csv(file_path, delim_whitespace=True, header=None)\n",
            "<ipython-input-6-d0a8a006af45>:48: FutureWarning: The 'delim_whitespace' keyword in pd.read_csv is deprecated and will be removed in a future version. Use ``sep='\\s+'`` instead\n",
            "  df = pd.read_csv(file_path, delim_whitespace=True, header=None)\n"
          ]
        },
        {
          "output_type": "stream",
          "name": "stdout",
          "text": [
            "  Reading file: PROC_VEHICLE_DETECTION.txt\n"
          ]
        },
        {
          "output_type": "stream",
          "name": "stderr",
          "text": [
            "<ipython-input-6-d0a8a006af45>:63: FutureWarning: The 'delim_whitespace' keyword in pd.read_csv is deprecated and will be removed in a future version. Use ``sep='\\s+'`` instead\n",
            "  df = pd.read_csv(file_path, delim_whitespace=True, header=None)\n"
          ]
        },
        {
          "output_type": "stream",
          "name": "stdout",
          "text": [
            "  Reading file: SEMANTIC_ONLINE.txt\n"
          ]
        },
        {
          "output_type": "stream",
          "name": "stderr",
          "text": [
            "<ipython-input-6-d0a8a006af45>:79: FutureWarning: The 'delim_whitespace' keyword in pd.read_csv is deprecated and will be removed in a future version. Use ``sep='\\s+'`` instead\n",
            "  df = pd.read_csv(file_path, delim_whitespace=True, header=None)\n"
          ]
        },
        {
          "output_type": "stream",
          "name": "stdout",
          "text": [
            "Processing folder: /content/drive/MyDrive/UAH-DRIVESET-v1/D2/20151120133502-26km-D2-AGGRESSIVE-MOTORWAY\n",
            "  Reading file: RAW_ACCELEROMETERS.txt\n"
          ]
        },
        {
          "output_type": "stream",
          "name": "stderr",
          "text": [
            "<ipython-input-6-d0a8a006af45>:18: FutureWarning: The 'delim_whitespace' keyword in pd.read_csv is deprecated and will be removed in a future version. Use ``sep='\\s+'`` instead\n",
            "  df = pd.read_csv(file_path, delim_whitespace=True, header=None)\n"
          ]
        },
        {
          "output_type": "stream",
          "name": "stdout",
          "text": [
            "  Reading file: RAW_GPS.txt\n"
          ]
        },
        {
          "output_type": "stream",
          "name": "stderr",
          "text": [
            "<ipython-input-6-d0a8a006af45>:35: FutureWarning: The 'delim_whitespace' keyword in pd.read_csv is deprecated and will be removed in a future version. Use ``sep='\\s+'`` instead\n",
            "  df = pd.read_csv(file_path, delim_whitespace=True, header=None)\n"
          ]
        },
        {
          "output_type": "stream",
          "name": "stdout",
          "text": [
            "  Reading file: PROC_LANE_DETECTION.txt\n"
          ]
        },
        {
          "output_type": "stream",
          "name": "stderr",
          "text": [
            "<ipython-input-6-d0a8a006af45>:48: FutureWarning: The 'delim_whitespace' keyword in pd.read_csv is deprecated and will be removed in a future version. Use ``sep='\\s+'`` instead\n",
            "  df = pd.read_csv(file_path, delim_whitespace=True, header=None)\n"
          ]
        },
        {
          "output_type": "stream",
          "name": "stdout",
          "text": [
            "  Reading file: PROC_VEHICLE_DETECTION.txt\n",
            "  Reading file: SEMANTIC_ONLINE.txt\n"
          ]
        },
        {
          "output_type": "stream",
          "name": "stderr",
          "text": [
            "<ipython-input-6-d0a8a006af45>:63: FutureWarning: The 'delim_whitespace' keyword in pd.read_csv is deprecated and will be removed in a future version. Use ``sep='\\s+'`` instead\n",
            "  df = pd.read_csv(file_path, delim_whitespace=True, header=None)\n",
            "<ipython-input-6-d0a8a006af45>:79: FutureWarning: The 'delim_whitespace' keyword in pd.read_csv is deprecated and will be removed in a future version. Use ``sep='\\s+'`` instead\n",
            "  df = pd.read_csv(file_path, delim_whitespace=True, header=None)\n"
          ]
        },
        {
          "output_type": "stream",
          "name": "stdout",
          "text": [
            "Processing folder: /content/drive/MyDrive/UAH-DRIVESET-v1/D2/20151120135152-25km-D2-DROWSY-MOTORWAY\n",
            "  Reading file: RAW_ACCELEROMETERS.txt\n"
          ]
        },
        {
          "output_type": "stream",
          "name": "stderr",
          "text": [
            "<ipython-input-6-d0a8a006af45>:18: FutureWarning: The 'delim_whitespace' keyword in pd.read_csv is deprecated and will be removed in a future version. Use ``sep='\\s+'`` instead\n",
            "  df = pd.read_csv(file_path, delim_whitespace=True, header=None)\n"
          ]
        },
        {
          "output_type": "stream",
          "name": "stdout",
          "text": [
            "  Reading file: RAW_GPS.txt\n",
            "  Reading file: PROC_LANE_DETECTION.txt\n"
          ]
        },
        {
          "output_type": "stream",
          "name": "stderr",
          "text": [
            "<ipython-input-6-d0a8a006af45>:35: FutureWarning: The 'delim_whitespace' keyword in pd.read_csv is deprecated and will be removed in a future version. Use ``sep='\\s+'`` instead\n",
            "  df = pd.read_csv(file_path, delim_whitespace=True, header=None)\n",
            "<ipython-input-6-d0a8a006af45>:48: FutureWarning: The 'delim_whitespace' keyword in pd.read_csv is deprecated and will be removed in a future version. Use ``sep='\\s+'`` instead\n",
            "  df = pd.read_csv(file_path, delim_whitespace=True, header=None)\n"
          ]
        },
        {
          "output_type": "stream",
          "name": "stdout",
          "text": [
            "  Reading file: PROC_VEHICLE_DETECTION.txt\n",
            "  Reading file: SEMANTIC_ONLINE.txt\n"
          ]
        },
        {
          "output_type": "stream",
          "name": "stderr",
          "text": [
            "<ipython-input-6-d0a8a006af45>:63: FutureWarning: The 'delim_whitespace' keyword in pd.read_csv is deprecated and will be removed in a future version. Use ``sep='\\s+'`` instead\n",
            "  df = pd.read_csv(file_path, delim_whitespace=True, header=None)\n",
            "<ipython-input-6-d0a8a006af45>:79: FutureWarning: The 'delim_whitespace' keyword in pd.read_csv is deprecated and will be removed in a future version. Use ``sep='\\s+'`` instead\n",
            "  df = pd.read_csv(file_path, delim_whitespace=True, header=None)\n"
          ]
        },
        {
          "output_type": "stream",
          "name": "stdout",
          "text": [
            "Processing folder: /content/drive/MyDrive/UAH-DRIVESET-v1/D2/20151120160904-16km-D2-NORMAL1-SECONDARY\n",
            "  Reading file: RAW_ACCELEROMETERS.txt\n",
            "  Reading file: RAW_GPS.txt\n"
          ]
        },
        {
          "output_type": "stream",
          "name": "stderr",
          "text": [
            "<ipython-input-6-d0a8a006af45>:18: FutureWarning: The 'delim_whitespace' keyword in pd.read_csv is deprecated and will be removed in a future version. Use ``sep='\\s+'`` instead\n",
            "  df = pd.read_csv(file_path, delim_whitespace=True, header=None)\n",
            "<ipython-input-6-d0a8a006af45>:35: FutureWarning: The 'delim_whitespace' keyword in pd.read_csv is deprecated and will be removed in a future version. Use ``sep='\\s+'`` instead\n",
            "  df = pd.read_csv(file_path, delim_whitespace=True, header=None)\n"
          ]
        },
        {
          "output_type": "stream",
          "name": "stdout",
          "text": [
            "  Reading file: PROC_LANE_DETECTION.txt\n"
          ]
        },
        {
          "output_type": "stream",
          "name": "stderr",
          "text": [
            "<ipython-input-6-d0a8a006af45>:48: FutureWarning: The 'delim_whitespace' keyword in pd.read_csv is deprecated and will be removed in a future version. Use ``sep='\\s+'`` instead\n",
            "  df = pd.read_csv(file_path, delim_whitespace=True, header=None)\n"
          ]
        },
        {
          "output_type": "stream",
          "name": "stdout",
          "text": [
            "  Reading file: PROC_VEHICLE_DETECTION.txt\n",
            "  Reading file: SEMANTIC_ONLINE.txt\n"
          ]
        },
        {
          "output_type": "stream",
          "name": "stderr",
          "text": [
            "<ipython-input-6-d0a8a006af45>:63: FutureWarning: The 'delim_whitespace' keyword in pd.read_csv is deprecated and will be removed in a future version. Use ``sep='\\s+'`` instead\n",
            "  df = pd.read_csv(file_path, delim_whitespace=True, header=None)\n",
            "<ipython-input-6-d0a8a006af45>:79: FutureWarning: The 'delim_whitespace' keyword in pd.read_csv is deprecated and will be removed in a future version. Use ``sep='\\s+'`` instead\n",
            "  df = pd.read_csv(file_path, delim_whitespace=True, header=None)\n"
          ]
        },
        {
          "output_type": "stream",
          "name": "stdout",
          "text": [
            "Processing folder: /content/drive/MyDrive/UAH-DRIVESET-v1/D2/20151120162105-17km-D2-NORMAL2-SECONDARY\n",
            "  Reading file: RAW_ACCELEROMETERS.txt\n"
          ]
        },
        {
          "output_type": "stream",
          "name": "stderr",
          "text": [
            "<ipython-input-6-d0a8a006af45>:18: FutureWarning: The 'delim_whitespace' keyword in pd.read_csv is deprecated and will be removed in a future version. Use ``sep='\\s+'`` instead\n",
            "  df = pd.read_csv(file_path, delim_whitespace=True, header=None)\n"
          ]
        },
        {
          "output_type": "stream",
          "name": "stdout",
          "text": [
            "  Reading file: RAW_GPS.txt\n",
            "  Reading file: PROC_LANE_DETECTION.txt\n"
          ]
        },
        {
          "output_type": "stream",
          "name": "stderr",
          "text": [
            "<ipython-input-6-d0a8a006af45>:35: FutureWarning: The 'delim_whitespace' keyword in pd.read_csv is deprecated and will be removed in a future version. Use ``sep='\\s+'`` instead\n",
            "  df = pd.read_csv(file_path, delim_whitespace=True, header=None)\n",
            "<ipython-input-6-d0a8a006af45>:48: FutureWarning: The 'delim_whitespace' keyword in pd.read_csv is deprecated and will be removed in a future version. Use ``sep='\\s+'`` instead\n",
            "  df = pd.read_csv(file_path, delim_whitespace=True, header=None)\n"
          ]
        },
        {
          "output_type": "stream",
          "name": "stdout",
          "text": [
            "  Reading file: PROC_VEHICLE_DETECTION.txt\n"
          ]
        },
        {
          "output_type": "stream",
          "name": "stderr",
          "text": [
            "<ipython-input-6-d0a8a006af45>:63: FutureWarning: The 'delim_whitespace' keyword in pd.read_csv is deprecated and will be removed in a future version. Use ``sep='\\s+'`` instead\n",
            "  df = pd.read_csv(file_path, delim_whitespace=True, header=None)\n"
          ]
        },
        {
          "output_type": "stream",
          "name": "stdout",
          "text": [
            "  Reading file: SEMANTIC_ONLINE.txt\n",
            "Processing folder: /content/drive/MyDrive/UAH-DRIVESET-v1/D2/20151120163350-16km-D2-AGGRESSIVE-SECONDARY\n"
          ]
        },
        {
          "output_type": "stream",
          "name": "stderr",
          "text": [
            "<ipython-input-6-d0a8a006af45>:79: FutureWarning: The 'delim_whitespace' keyword in pd.read_csv is deprecated and will be removed in a future version. Use ``sep='\\s+'`` instead\n",
            "  df = pd.read_csv(file_path, delim_whitespace=True, header=None)\n"
          ]
        },
        {
          "output_type": "stream",
          "name": "stdout",
          "text": [
            "  Reading file: RAW_ACCELEROMETERS.txt\n"
          ]
        },
        {
          "output_type": "stream",
          "name": "stderr",
          "text": [
            "<ipython-input-6-d0a8a006af45>:18: FutureWarning: The 'delim_whitespace' keyword in pd.read_csv is deprecated and will be removed in a future version. Use ``sep='\\s+'`` instead\n",
            "  df = pd.read_csv(file_path, delim_whitespace=True, header=None)\n"
          ]
        },
        {
          "output_type": "stream",
          "name": "stdout",
          "text": [
            "  Reading file: RAW_GPS.txt\n"
          ]
        },
        {
          "output_type": "stream",
          "name": "stderr",
          "text": [
            "<ipython-input-6-d0a8a006af45>:35: FutureWarning: The 'delim_whitespace' keyword in pd.read_csv is deprecated and will be removed in a future version. Use ``sep='\\s+'`` instead\n",
            "  df = pd.read_csv(file_path, delim_whitespace=True, header=None)\n"
          ]
        },
        {
          "output_type": "stream",
          "name": "stdout",
          "text": [
            "  Reading file: PROC_LANE_DETECTION.txt\n",
            "  Reading file: PROC_VEHICLE_DETECTION.txt\n"
          ]
        },
        {
          "output_type": "stream",
          "name": "stderr",
          "text": [
            "<ipython-input-6-d0a8a006af45>:48: FutureWarning: The 'delim_whitespace' keyword in pd.read_csv is deprecated and will be removed in a future version. Use ``sep='\\s+'`` instead\n",
            "  df = pd.read_csv(file_path, delim_whitespace=True, header=None)\n",
            "<ipython-input-6-d0a8a006af45>:63: FutureWarning: The 'delim_whitespace' keyword in pd.read_csv is deprecated and will be removed in a future version. Use ``sep='\\s+'`` instead\n",
            "  df = pd.read_csv(file_path, delim_whitespace=True, header=None)\n"
          ]
        },
        {
          "output_type": "stream",
          "name": "stdout",
          "text": [
            "  Reading file: SEMANTIC_ONLINE.txt\n",
            "Processing folder: /content/drive/MyDrive/UAH-DRIVESET-v1/D2/20151120164606-16km-D2-DROWSY-SECONDARY\n"
          ]
        },
        {
          "output_type": "stream",
          "name": "stderr",
          "text": [
            "<ipython-input-6-d0a8a006af45>:79: FutureWarning: The 'delim_whitespace' keyword in pd.read_csv is deprecated and will be removed in a future version. Use ``sep='\\s+'`` instead\n",
            "  df = pd.read_csv(file_path, delim_whitespace=True, header=None)\n"
          ]
        },
        {
          "output_type": "stream",
          "name": "stdout",
          "text": [
            "  Reading file: RAW_ACCELEROMETERS.txt\n"
          ]
        },
        {
          "output_type": "stream",
          "name": "stderr",
          "text": [
            "<ipython-input-6-d0a8a006af45>:18: FutureWarning: The 'delim_whitespace' keyword in pd.read_csv is deprecated and will be removed in a future version. Use ``sep='\\s+'`` instead\n",
            "  df = pd.read_csv(file_path, delim_whitespace=True, header=None)\n"
          ]
        },
        {
          "output_type": "stream",
          "name": "stdout",
          "text": [
            "  Reading file: RAW_GPS.txt\n"
          ]
        },
        {
          "output_type": "stream",
          "name": "stderr",
          "text": [
            "<ipython-input-6-d0a8a006af45>:35: FutureWarning: The 'delim_whitespace' keyword in pd.read_csv is deprecated and will be removed in a future version. Use ``sep='\\s+'`` instead\n",
            "  df = pd.read_csv(file_path, delim_whitespace=True, header=None)\n"
          ]
        },
        {
          "output_type": "stream",
          "name": "stdout",
          "text": [
            "  Reading file: PROC_LANE_DETECTION.txt\n"
          ]
        },
        {
          "output_type": "stream",
          "name": "stderr",
          "text": [
            "<ipython-input-6-d0a8a006af45>:48: FutureWarning: The 'delim_whitespace' keyword in pd.read_csv is deprecated and will be removed in a future version. Use ``sep='\\s+'`` instead\n",
            "  df = pd.read_csv(file_path, delim_whitespace=True, header=None)\n"
          ]
        },
        {
          "output_type": "stream",
          "name": "stdout",
          "text": [
            "  Reading file: PROC_VEHICLE_DETECTION.txt\n",
            "  Reading file: SEMANTIC_ONLINE.txt\n"
          ]
        },
        {
          "output_type": "stream",
          "name": "stderr",
          "text": [
            "<ipython-input-6-d0a8a006af45>:63: FutureWarning: The 'delim_whitespace' keyword in pd.read_csv is deprecated and will be removed in a future version. Use ``sep='\\s+'`` instead\n",
            "  df = pd.read_csv(file_path, delim_whitespace=True, header=None)\n",
            "<ipython-input-6-d0a8a006af45>:79: FutureWarning: The 'delim_whitespace' keyword in pd.read_csv is deprecated and will be removed in a future version. Use ``sep='\\s+'`` instead\n",
            "  df = pd.read_csv(file_path, delim_whitespace=True, header=None)\n",
            "<ipython-input-6-d0a8a006af45>:18: FutureWarning: The 'delim_whitespace' keyword in pd.read_csv is deprecated and will be removed in a future version. Use ``sep='\\s+'`` instead\n",
            "  df = pd.read_csv(file_path, delim_whitespace=True, header=None)\n"
          ]
        },
        {
          "output_type": "stream",
          "name": "stdout",
          "text": [
            "Processing folder: /content/drive/MyDrive/UAH-DRIVESET-v1/D3/20151126110502-26km-D3-NORMAL-MOTORWAY\n",
            "  Reading file: RAW_ACCELEROMETERS.txt\n",
            "  Reading file: RAW_GPS.txt\n"
          ]
        },
        {
          "output_type": "stream",
          "name": "stderr",
          "text": [
            "<ipython-input-6-d0a8a006af45>:35: FutureWarning: The 'delim_whitespace' keyword in pd.read_csv is deprecated and will be removed in a future version. Use ``sep='\\s+'`` instead\n",
            "  df = pd.read_csv(file_path, delim_whitespace=True, header=None)\n"
          ]
        },
        {
          "output_type": "stream",
          "name": "stdout",
          "text": [
            "  Reading file: PROC_LANE_DETECTION.txt\n"
          ]
        },
        {
          "output_type": "stream",
          "name": "stderr",
          "text": [
            "<ipython-input-6-d0a8a006af45>:48: FutureWarning: The 'delim_whitespace' keyword in pd.read_csv is deprecated and will be removed in a future version. Use ``sep='\\s+'`` instead\n",
            "  df = pd.read_csv(file_path, delim_whitespace=True, header=None)\n"
          ]
        },
        {
          "output_type": "stream",
          "name": "stdout",
          "text": [
            "  Reading file: PROC_VEHICLE_DETECTION.txt\n"
          ]
        },
        {
          "output_type": "stream",
          "name": "stderr",
          "text": [
            "<ipython-input-6-d0a8a006af45>:63: FutureWarning: The 'delim_whitespace' keyword in pd.read_csv is deprecated and will be removed in a future version. Use ``sep='\\s+'`` instead\n",
            "  df = pd.read_csv(file_path, delim_whitespace=True, header=None)\n"
          ]
        },
        {
          "output_type": "stream",
          "name": "stdout",
          "text": [
            "  Reading file: SEMANTIC_ONLINE.txt\n"
          ]
        },
        {
          "output_type": "stream",
          "name": "stderr",
          "text": [
            "<ipython-input-6-d0a8a006af45>:79: FutureWarning: The 'delim_whitespace' keyword in pd.read_csv is deprecated and will be removed in a future version. Use ``sep='\\s+'`` instead\n",
            "  df = pd.read_csv(file_path, delim_whitespace=True, header=None)\n",
            "<ipython-input-6-d0a8a006af45>:18: FutureWarning: The 'delim_whitespace' keyword in pd.read_csv is deprecated and will be removed in a future version. Use ``sep='\\s+'`` instead\n",
            "  df = pd.read_csv(file_path, delim_whitespace=True, header=None)\n"
          ]
        },
        {
          "output_type": "stream",
          "name": "stdout",
          "text": [
            "Processing folder: /content/drive/MyDrive/UAH-DRIVESET-v1/D3/20151126113754-26km-D3-DROWSY-MOTORWAY\n",
            "  Reading file: RAW_ACCELEROMETERS.txt\n",
            "  Reading file: RAW_GPS.txt\n",
            "  Reading file: PROC_LANE_DETECTION.txt\n"
          ]
        },
        {
          "output_type": "stream",
          "name": "stderr",
          "text": [
            "<ipython-input-6-d0a8a006af45>:35: FutureWarning: The 'delim_whitespace' keyword in pd.read_csv is deprecated and will be removed in a future version. Use ``sep='\\s+'`` instead\n",
            "  df = pd.read_csv(file_path, delim_whitespace=True, header=None)\n",
            "<ipython-input-6-d0a8a006af45>:48: FutureWarning: The 'delim_whitespace' keyword in pd.read_csv is deprecated and will be removed in a future version. Use ``sep='\\s+'`` instead\n",
            "  df = pd.read_csv(file_path, delim_whitespace=True, header=None)\n"
          ]
        },
        {
          "output_type": "stream",
          "name": "stdout",
          "text": [
            "  Reading file: PROC_VEHICLE_DETECTION.txt\n"
          ]
        },
        {
          "output_type": "stream",
          "name": "stderr",
          "text": [
            "<ipython-input-6-d0a8a006af45>:63: FutureWarning: The 'delim_whitespace' keyword in pd.read_csv is deprecated and will be removed in a future version. Use ``sep='\\s+'`` instead\n",
            "  df = pd.read_csv(file_path, delim_whitespace=True, header=None)\n"
          ]
        },
        {
          "output_type": "stream",
          "name": "stdout",
          "text": [
            "  Reading file: SEMANTIC_ONLINE.txt\n"
          ]
        },
        {
          "output_type": "stream",
          "name": "stderr",
          "text": [
            "<ipython-input-6-d0a8a006af45>:79: FutureWarning: The 'delim_whitespace' keyword in pd.read_csv is deprecated and will be removed in a future version. Use ``sep='\\s+'`` instead\n",
            "  df = pd.read_csv(file_path, delim_whitespace=True, header=None)\n",
            "<ipython-input-6-d0a8a006af45>:18: FutureWarning: The 'delim_whitespace' keyword in pd.read_csv is deprecated and will be removed in a future version. Use ``sep='\\s+'`` instead\n",
            "  df = pd.read_csv(file_path, delim_whitespace=True, header=None)\n"
          ]
        },
        {
          "output_type": "stream",
          "name": "stdout",
          "text": [
            "Processing folder: /content/drive/MyDrive/UAH-DRIVESET-v1/D3/20151126124208-16km-D3-NORMAL1-SECONDARY\n",
            "  Reading file: RAW_ACCELEROMETERS.txt\n",
            "  Reading file: RAW_GPS.txt\n",
            "  Reading file: PROC_LANE_DETECTION.txt\n"
          ]
        },
        {
          "output_type": "stream",
          "name": "stderr",
          "text": [
            "<ipython-input-6-d0a8a006af45>:35: FutureWarning: The 'delim_whitespace' keyword in pd.read_csv is deprecated and will be removed in a future version. Use ``sep='\\s+'`` instead\n",
            "  df = pd.read_csv(file_path, delim_whitespace=True, header=None)\n",
            "<ipython-input-6-d0a8a006af45>:48: FutureWarning: The 'delim_whitespace' keyword in pd.read_csv is deprecated and will be removed in a future version. Use ``sep='\\s+'`` instead\n",
            "  df = pd.read_csv(file_path, delim_whitespace=True, header=None)\n"
          ]
        },
        {
          "output_type": "stream",
          "name": "stdout",
          "text": [
            "  Reading file: PROC_VEHICLE_DETECTION.txt\n"
          ]
        },
        {
          "output_type": "stream",
          "name": "stderr",
          "text": [
            "<ipython-input-6-d0a8a006af45>:63: FutureWarning: The 'delim_whitespace' keyword in pd.read_csv is deprecated and will be removed in a future version. Use ``sep='\\s+'`` instead\n",
            "  df = pd.read_csv(file_path, delim_whitespace=True, header=None)\n"
          ]
        },
        {
          "output_type": "stream",
          "name": "stdout",
          "text": [
            "  Reading file: SEMANTIC_ONLINE.txt\n",
            "Processing folder: /content/drive/MyDrive/UAH-DRIVESET-v1/D3/20151126125458-16km-D3-NORMAL2-SECONDARY\n",
            "  Reading file: RAW_ACCELEROMETERS.txt\n"
          ]
        },
        {
          "output_type": "stream",
          "name": "stderr",
          "text": [
            "<ipython-input-6-d0a8a006af45>:79: FutureWarning: The 'delim_whitespace' keyword in pd.read_csv is deprecated and will be removed in a future version. Use ``sep='\\s+'`` instead\n",
            "  df = pd.read_csv(file_path, delim_whitespace=True, header=None)\n",
            "<ipython-input-6-d0a8a006af45>:18: FutureWarning: The 'delim_whitespace' keyword in pd.read_csv is deprecated and will be removed in a future version. Use ``sep='\\s+'`` instead\n",
            "  df = pd.read_csv(file_path, delim_whitespace=True, header=None)\n",
            "<ipython-input-6-d0a8a006af45>:35: FutureWarning: The 'delim_whitespace' keyword in pd.read_csv is deprecated and will be removed in a future version. Use ``sep='\\s+'`` instead\n",
            "  df = pd.read_csv(file_path, delim_whitespace=True, header=None)\n"
          ]
        },
        {
          "output_type": "stream",
          "name": "stdout",
          "text": [
            "  Reading file: RAW_GPS.txt\n",
            "  Reading file: PROC_LANE_DETECTION.txt\n"
          ]
        },
        {
          "output_type": "stream",
          "name": "stderr",
          "text": [
            "<ipython-input-6-d0a8a006af45>:48: FutureWarning: The 'delim_whitespace' keyword in pd.read_csv is deprecated and will be removed in a future version. Use ``sep='\\s+'`` instead\n",
            "  df = pd.read_csv(file_path, delim_whitespace=True, header=None)\n"
          ]
        },
        {
          "output_type": "stream",
          "name": "stdout",
          "text": [
            "  Reading file: PROC_VEHICLE_DETECTION.txt\n"
          ]
        },
        {
          "output_type": "stream",
          "name": "stderr",
          "text": [
            "<ipython-input-6-d0a8a006af45>:63: FutureWarning: The 'delim_whitespace' keyword in pd.read_csv is deprecated and will be removed in a future version. Use ``sep='\\s+'`` instead\n",
            "  df = pd.read_csv(file_path, delim_whitespace=True, header=None)\n"
          ]
        },
        {
          "output_type": "stream",
          "name": "stdout",
          "text": [
            "  Reading file: SEMANTIC_ONLINE.txt\n"
          ]
        },
        {
          "output_type": "stream",
          "name": "stderr",
          "text": [
            "<ipython-input-6-d0a8a006af45>:79: FutureWarning: The 'delim_whitespace' keyword in pd.read_csv is deprecated and will be removed in a future version. Use ``sep='\\s+'`` instead\n",
            "  df = pd.read_csv(file_path, delim_whitespace=True, header=None)\n",
            "<ipython-input-6-d0a8a006af45>:18: FutureWarning: The 'delim_whitespace' keyword in pd.read_csv is deprecated and will be removed in a future version. Use ``sep='\\s+'`` instead\n",
            "  df = pd.read_csv(file_path, delim_whitespace=True, header=None)\n"
          ]
        },
        {
          "output_type": "stream",
          "name": "stdout",
          "text": [
            "Processing folder: /content/drive/MyDrive/UAH-DRIVESET-v1/D3/20151126130707-16km-D3-AGGRESSIVE-SECONDARY\n",
            "  Reading file: RAW_ACCELEROMETERS.txt\n",
            "  Reading file: RAW_GPS.txt\n",
            "  Reading file: PROC_LANE_DETECTION.txt\n"
          ]
        },
        {
          "output_type": "stream",
          "name": "stderr",
          "text": [
            "<ipython-input-6-d0a8a006af45>:35: FutureWarning: The 'delim_whitespace' keyword in pd.read_csv is deprecated and will be removed in a future version. Use ``sep='\\s+'`` instead\n",
            "  df = pd.read_csv(file_path, delim_whitespace=True, header=None)\n",
            "<ipython-input-6-d0a8a006af45>:48: FutureWarning: The 'delim_whitespace' keyword in pd.read_csv is deprecated and will be removed in a future version. Use ``sep='\\s+'`` instead\n",
            "  df = pd.read_csv(file_path, delim_whitespace=True, header=None)\n"
          ]
        },
        {
          "output_type": "stream",
          "name": "stdout",
          "text": [
            "  Reading file: PROC_VEHICLE_DETECTION.txt\n",
            "  Reading file: SEMANTIC_ONLINE.txt\n"
          ]
        },
        {
          "output_type": "stream",
          "name": "stderr",
          "text": [
            "<ipython-input-6-d0a8a006af45>:63: FutureWarning: The 'delim_whitespace' keyword in pd.read_csv is deprecated and will be removed in a future version. Use ``sep='\\s+'`` instead\n",
            "  df = pd.read_csv(file_path, delim_whitespace=True, header=None)\n",
            "<ipython-input-6-d0a8a006af45>:79: FutureWarning: The 'delim_whitespace' keyword in pd.read_csv is deprecated and will be removed in a future version. Use ``sep='\\s+'`` instead\n",
            "  df = pd.read_csv(file_path, delim_whitespace=True, header=None)\n",
            "<ipython-input-6-d0a8a006af45>:18: FutureWarning: The 'delim_whitespace' keyword in pd.read_csv is deprecated and will be removed in a future version. Use ``sep='\\s+'`` instead\n",
            "  df = pd.read_csv(file_path, delim_whitespace=True, header=None)\n",
            "<ipython-input-6-d0a8a006af45>:35: FutureWarning: The 'delim_whitespace' keyword in pd.read_csv is deprecated and will be removed in a future version. Use ``sep='\\s+'`` instead\n",
            "  df = pd.read_csv(file_path, delim_whitespace=True, header=None)\n"
          ]
        },
        {
          "output_type": "stream",
          "name": "stdout",
          "text": [
            "Processing folder: /content/drive/MyDrive/UAH-DRIVESET-v1/D3/20151126132013-17km-D3-DROWSY-SECONDARY\n",
            "  Reading file: RAW_ACCELEROMETERS.txt\n",
            "  Reading file: RAW_GPS.txt\n",
            "  Reading file: PROC_LANE_DETECTION.txt\n"
          ]
        },
        {
          "output_type": "stream",
          "name": "stderr",
          "text": [
            "<ipython-input-6-d0a8a006af45>:48: FutureWarning: The 'delim_whitespace' keyword in pd.read_csv is deprecated and will be removed in a future version. Use ``sep='\\s+'`` instead\n",
            "  df = pd.read_csv(file_path, delim_whitespace=True, header=None)\n"
          ]
        },
        {
          "output_type": "stream",
          "name": "stdout",
          "text": [
            "  Reading file: PROC_VEHICLE_DETECTION.txt\n",
            "  Reading file: SEMANTIC_ONLINE.txt\n"
          ]
        },
        {
          "output_type": "stream",
          "name": "stderr",
          "text": [
            "<ipython-input-6-d0a8a006af45>:63: FutureWarning: The 'delim_whitespace' keyword in pd.read_csv is deprecated and will be removed in a future version. Use ``sep='\\s+'`` instead\n",
            "  df = pd.read_csv(file_path, delim_whitespace=True, header=None)\n"
          ]
        },
        {
          "output_type": "stream",
          "name": "stdout",
          "text": [
            "Processing folder: /content/drive/MyDrive/UAH-DRIVESET-v1/D3/20151126134736-26km-D3-AGGRESSIVE-MOTORWAY\n",
            "  Reading file: RAW_ACCELEROMETERS.txt\n"
          ]
        },
        {
          "output_type": "stream",
          "name": "stderr",
          "text": [
            "<ipython-input-6-d0a8a006af45>:79: FutureWarning: The 'delim_whitespace' keyword in pd.read_csv is deprecated and will be removed in a future version. Use ``sep='\\s+'`` instead\n",
            "  df = pd.read_csv(file_path, delim_whitespace=True, header=None)\n",
            "<ipython-input-6-d0a8a006af45>:18: FutureWarning: The 'delim_whitespace' keyword in pd.read_csv is deprecated and will be removed in a future version. Use ``sep='\\s+'`` instead\n",
            "  df = pd.read_csv(file_path, delim_whitespace=True, header=None)\n"
          ]
        },
        {
          "output_type": "stream",
          "name": "stdout",
          "text": [
            "  Reading file: RAW_GPS.txt\n",
            "  Reading file: PROC_LANE_DETECTION.txt\n"
          ]
        },
        {
          "output_type": "stream",
          "name": "stderr",
          "text": [
            "<ipython-input-6-d0a8a006af45>:35: FutureWarning: The 'delim_whitespace' keyword in pd.read_csv is deprecated and will be removed in a future version. Use ``sep='\\s+'`` instead\n",
            "  df = pd.read_csv(file_path, delim_whitespace=True, header=None)\n",
            "<ipython-input-6-d0a8a006af45>:48: FutureWarning: The 'delim_whitespace' keyword in pd.read_csv is deprecated and will be removed in a future version. Use ``sep='\\s+'`` instead\n",
            "  df = pd.read_csv(file_path, delim_whitespace=True, header=None)\n"
          ]
        },
        {
          "output_type": "stream",
          "name": "stdout",
          "text": [
            "  Reading file: PROC_VEHICLE_DETECTION.txt\n",
            "  Reading file: SEMANTIC_ONLINE.txt\n"
          ]
        },
        {
          "output_type": "stream",
          "name": "stderr",
          "text": [
            "<ipython-input-6-d0a8a006af45>:63: FutureWarning: The 'delim_whitespace' keyword in pd.read_csv is deprecated and will be removed in a future version. Use ``sep='\\s+'`` instead\n",
            "  df = pd.read_csv(file_path, delim_whitespace=True, header=None)\n",
            "<ipython-input-6-d0a8a006af45>:79: FutureWarning: The 'delim_whitespace' keyword in pd.read_csv is deprecated and will be removed in a future version. Use ``sep='\\s+'`` instead\n",
            "  df = pd.read_csv(file_path, delim_whitespace=True, header=None)\n",
            "<ipython-input-6-d0a8a006af45>:18: FutureWarning: The 'delim_whitespace' keyword in pd.read_csv is deprecated and will be removed in a future version. Use ``sep='\\s+'`` instead\n",
            "  df = pd.read_csv(file_path, delim_whitespace=True, header=None)\n"
          ]
        },
        {
          "output_type": "stream",
          "name": "stdout",
          "text": [
            "Processing folder: /content/drive/MyDrive/UAH-DRIVESET-v1/D4/20151203171800-16km-D4-NORMAL1-SECONDARY\n",
            "  Reading file: RAW_ACCELEROMETERS.txt\n",
            "  Reading file: RAW_GPS.txt\n"
          ]
        },
        {
          "output_type": "stream",
          "name": "stderr",
          "text": [
            "<ipython-input-6-d0a8a006af45>:35: FutureWarning: The 'delim_whitespace' keyword in pd.read_csv is deprecated and will be removed in a future version. Use ``sep='\\s+'`` instead\n",
            "  df = pd.read_csv(file_path, delim_whitespace=True, header=None)\n"
          ]
        },
        {
          "output_type": "stream",
          "name": "stdout",
          "text": [
            "  Reading file: PROC_LANE_DETECTION.txt\n"
          ]
        },
        {
          "output_type": "stream",
          "name": "stderr",
          "text": [
            "<ipython-input-6-d0a8a006af45>:48: FutureWarning: The 'delim_whitespace' keyword in pd.read_csv is deprecated and will be removed in a future version. Use ``sep='\\s+'`` instead\n",
            "  df = pd.read_csv(file_path, delim_whitespace=True, header=None)\n"
          ]
        },
        {
          "output_type": "stream",
          "name": "stdout",
          "text": [
            "  Reading file: PROC_VEHICLE_DETECTION.txt\n"
          ]
        },
        {
          "output_type": "stream",
          "name": "stderr",
          "text": [
            "<ipython-input-6-d0a8a006af45>:63: FutureWarning: The 'delim_whitespace' keyword in pd.read_csv is deprecated and will be removed in a future version. Use ``sep='\\s+'`` instead\n",
            "  df = pd.read_csv(file_path, delim_whitespace=True, header=None)\n"
          ]
        },
        {
          "output_type": "stream",
          "name": "stdout",
          "text": [
            "  Reading file: SEMANTIC_ONLINE.txt\n",
            "Processing folder: /content/drive/MyDrive/UAH-DRIVESET-v1/D4/20151203173103-17km-D4-NORMAL2-SECONDARY\n"
          ]
        },
        {
          "output_type": "stream",
          "name": "stderr",
          "text": [
            "<ipython-input-6-d0a8a006af45>:79: FutureWarning: The 'delim_whitespace' keyword in pd.read_csv is deprecated and will be removed in a future version. Use ``sep='\\s+'`` instead\n",
            "  df = pd.read_csv(file_path, delim_whitespace=True, header=None)\n"
          ]
        },
        {
          "output_type": "stream",
          "name": "stdout",
          "text": [
            "  Reading file: RAW_ACCELEROMETERS.txt\n"
          ]
        },
        {
          "output_type": "stream",
          "name": "stderr",
          "text": [
            "<ipython-input-6-d0a8a006af45>:18: FutureWarning: The 'delim_whitespace' keyword in pd.read_csv is deprecated and will be removed in a future version. Use ``sep='\\s+'`` instead\n",
            "  df = pd.read_csv(file_path, delim_whitespace=True, header=None)\n"
          ]
        },
        {
          "output_type": "stream",
          "name": "stdout",
          "text": [
            "  Reading file: RAW_GPS.txt\n"
          ]
        },
        {
          "output_type": "stream",
          "name": "stderr",
          "text": [
            "<ipython-input-6-d0a8a006af45>:35: FutureWarning: The 'delim_whitespace' keyword in pd.read_csv is deprecated and will be removed in a future version. Use ``sep='\\s+'`` instead\n",
            "  df = pd.read_csv(file_path, delim_whitespace=True, header=None)\n"
          ]
        },
        {
          "output_type": "stream",
          "name": "stdout",
          "text": [
            "  Reading file: PROC_LANE_DETECTION.txt\n"
          ]
        },
        {
          "output_type": "stream",
          "name": "stderr",
          "text": [
            "<ipython-input-6-d0a8a006af45>:48: FutureWarning: The 'delim_whitespace' keyword in pd.read_csv is deprecated and will be removed in a future version. Use ``sep='\\s+'`` instead\n",
            "  df = pd.read_csv(file_path, delim_whitespace=True, header=None)\n"
          ]
        },
        {
          "output_type": "stream",
          "name": "stdout",
          "text": [
            "  Reading file: PROC_VEHICLE_DETECTION.txt\n",
            "  Reading file: SEMANTIC_ONLINE.txt\n"
          ]
        },
        {
          "output_type": "stream",
          "name": "stderr",
          "text": [
            "<ipython-input-6-d0a8a006af45>:63: FutureWarning: The 'delim_whitespace' keyword in pd.read_csv is deprecated and will be removed in a future version. Use ``sep='\\s+'`` instead\n",
            "  df = pd.read_csv(file_path, delim_whitespace=True, header=None)\n",
            "<ipython-input-6-d0a8a006af45>:79: FutureWarning: The 'delim_whitespace' keyword in pd.read_csv is deprecated and will be removed in a future version. Use ``sep='\\s+'`` instead\n",
            "  df = pd.read_csv(file_path, delim_whitespace=True, header=None)\n",
            "<ipython-input-6-d0a8a006af45>:18: FutureWarning: The 'delim_whitespace' keyword in pd.read_csv is deprecated and will be removed in a future version. Use ``sep='\\s+'`` instead\n",
            "  df = pd.read_csv(file_path, delim_whitespace=True, header=None)\n"
          ]
        },
        {
          "output_type": "stream",
          "name": "stdout",
          "text": [
            "Processing folder: /content/drive/MyDrive/UAH-DRIVESET-v1/D4/20151203174324-16km-D4-AGGRESSIVE-SECONDARY\n",
            "  Reading file: RAW_ACCELEROMETERS.txt\n",
            "  Reading file: RAW_GPS.txt\n",
            "  Reading file: PROC_LANE_DETECTION.txt\n"
          ]
        },
        {
          "output_type": "stream",
          "name": "stderr",
          "text": [
            "<ipython-input-6-d0a8a006af45>:35: FutureWarning: The 'delim_whitespace' keyword in pd.read_csv is deprecated and will be removed in a future version. Use ``sep='\\s+'`` instead\n",
            "  df = pd.read_csv(file_path, delim_whitespace=True, header=None)\n",
            "<ipython-input-6-d0a8a006af45>:48: FutureWarning: The 'delim_whitespace' keyword in pd.read_csv is deprecated and will be removed in a future version. Use ``sep='\\s+'`` instead\n",
            "  df = pd.read_csv(file_path, delim_whitespace=True, header=None)\n"
          ]
        },
        {
          "output_type": "stream",
          "name": "stdout",
          "text": [
            "  Reading file: PROC_VEHICLE_DETECTION.txt\n",
            "  Reading file: SEMANTIC_ONLINE.txt\n"
          ]
        },
        {
          "output_type": "stream",
          "name": "stderr",
          "text": [
            "<ipython-input-6-d0a8a006af45>:63: FutureWarning: The 'delim_whitespace' keyword in pd.read_csv is deprecated and will be removed in a future version. Use ``sep='\\s+'`` instead\n",
            "  df = pd.read_csv(file_path, delim_whitespace=True, header=None)\n",
            "<ipython-input-6-d0a8a006af45>:79: FutureWarning: The 'delim_whitespace' keyword in pd.read_csv is deprecated and will be removed in a future version. Use ``sep='\\s+'`` instead\n",
            "  df = pd.read_csv(file_path, delim_whitespace=True, header=None)\n"
          ]
        },
        {
          "output_type": "stream",
          "name": "stdout",
          "text": [
            "Processing folder: /content/drive/MyDrive/UAH-DRIVESET-v1/D4/20151203175637-17km-D4-DROWSY-SECONDARY\n",
            "  Reading file: RAW_ACCELEROMETERS.txt\n"
          ]
        },
        {
          "output_type": "stream",
          "name": "stderr",
          "text": [
            "<ipython-input-6-d0a8a006af45>:18: FutureWarning: The 'delim_whitespace' keyword in pd.read_csv is deprecated and will be removed in a future version. Use ``sep='\\s+'`` instead\n",
            "  df = pd.read_csv(file_path, delim_whitespace=True, header=None)\n"
          ]
        },
        {
          "output_type": "stream",
          "name": "stdout",
          "text": [
            "  Reading file: RAW_GPS.txt\n",
            "  Reading file: PROC_LANE_DETECTION.txt\n"
          ]
        },
        {
          "output_type": "stream",
          "name": "stderr",
          "text": [
            "<ipython-input-6-d0a8a006af45>:35: FutureWarning: The 'delim_whitespace' keyword in pd.read_csv is deprecated and will be removed in a future version. Use ``sep='\\s+'`` instead\n",
            "  df = pd.read_csv(file_path, delim_whitespace=True, header=None)\n",
            "<ipython-input-6-d0a8a006af45>:48: FutureWarning: The 'delim_whitespace' keyword in pd.read_csv is deprecated and will be removed in a future version. Use ``sep='\\s+'`` instead\n",
            "  df = pd.read_csv(file_path, delim_whitespace=True, header=None)\n"
          ]
        },
        {
          "output_type": "stream",
          "name": "stdout",
          "text": [
            "  Reading file: PROC_VEHICLE_DETECTION.txt\n",
            "  Reading file: SEMANTIC_ONLINE.txt\n"
          ]
        },
        {
          "output_type": "stream",
          "name": "stderr",
          "text": [
            "<ipython-input-6-d0a8a006af45>:63: FutureWarning: The 'delim_whitespace' keyword in pd.read_csv is deprecated and will be removed in a future version. Use ``sep='\\s+'`` instead\n",
            "  df = pd.read_csv(file_path, delim_whitespace=True, header=None)\n",
            "<ipython-input-6-d0a8a006af45>:79: FutureWarning: The 'delim_whitespace' keyword in pd.read_csv is deprecated and will be removed in a future version. Use ``sep='\\s+'`` instead\n",
            "  df = pd.read_csv(file_path, delim_whitespace=True, header=None)\n"
          ]
        },
        {
          "output_type": "stream",
          "name": "stdout",
          "text": [
            "Processing folder: /content/drive/MyDrive/UAH-DRIVESET-v1/D4/20151204152848-25km-D4-NORMAL-MOTORWAY\n",
            "  Reading file: RAW_ACCELEROMETERS.txt\n"
          ]
        },
        {
          "output_type": "stream",
          "name": "stderr",
          "text": [
            "<ipython-input-6-d0a8a006af45>:18: FutureWarning: The 'delim_whitespace' keyword in pd.read_csv is deprecated and will be removed in a future version. Use ``sep='\\s+'`` instead\n",
            "  df = pd.read_csv(file_path, delim_whitespace=True, header=None)\n"
          ]
        },
        {
          "output_type": "stream",
          "name": "stdout",
          "text": [
            "  Reading file: RAW_GPS.txt\n"
          ]
        },
        {
          "output_type": "stream",
          "name": "stderr",
          "text": [
            "<ipython-input-6-d0a8a006af45>:35: FutureWarning: The 'delim_whitespace' keyword in pd.read_csv is deprecated and will be removed in a future version. Use ``sep='\\s+'`` instead\n",
            "  df = pd.read_csv(file_path, delim_whitespace=True, header=None)\n"
          ]
        },
        {
          "output_type": "stream",
          "name": "stdout",
          "text": [
            "  Reading file: PROC_LANE_DETECTION.txt\n",
            "  Reading file: PROC_VEHICLE_DETECTION.txt\n"
          ]
        },
        {
          "output_type": "stream",
          "name": "stderr",
          "text": [
            "<ipython-input-6-d0a8a006af45>:48: FutureWarning: The 'delim_whitespace' keyword in pd.read_csv is deprecated and will be removed in a future version. Use ``sep='\\s+'`` instead\n",
            "  df = pd.read_csv(file_path, delim_whitespace=True, header=None)\n",
            "<ipython-input-6-d0a8a006af45>:63: FutureWarning: The 'delim_whitespace' keyword in pd.read_csv is deprecated and will be removed in a future version. Use ``sep='\\s+'`` instead\n",
            "  df = pd.read_csv(file_path, delim_whitespace=True, header=None)\n"
          ]
        },
        {
          "output_type": "stream",
          "name": "stdout",
          "text": [
            "  Reading file: SEMANTIC_ONLINE.txt\n",
            "Processing folder: /content/drive/MyDrive/UAH-DRIVESET-v1/D4/20151204154908-25km-D4-AGGRESSIVE-MOTORWAY\n"
          ]
        },
        {
          "output_type": "stream",
          "name": "stderr",
          "text": [
            "<ipython-input-6-d0a8a006af45>:79: FutureWarning: The 'delim_whitespace' keyword in pd.read_csv is deprecated and will be removed in a future version. Use ``sep='\\s+'`` instead\n",
            "  df = pd.read_csv(file_path, delim_whitespace=True, header=None)\n"
          ]
        },
        {
          "output_type": "stream",
          "name": "stdout",
          "text": [
            "  Reading file: RAW_ACCELEROMETERS.txt\n"
          ]
        },
        {
          "output_type": "stream",
          "name": "stderr",
          "text": [
            "<ipython-input-6-d0a8a006af45>:18: FutureWarning: The 'delim_whitespace' keyword in pd.read_csv is deprecated and will be removed in a future version. Use ``sep='\\s+'`` instead\n",
            "  df = pd.read_csv(file_path, delim_whitespace=True, header=None)\n"
          ]
        },
        {
          "output_type": "stream",
          "name": "stdout",
          "text": [
            "  Reading file: RAW_GPS.txt\n",
            "  Reading file: PROC_LANE_DETECTION.txt\n"
          ]
        },
        {
          "output_type": "stream",
          "name": "stderr",
          "text": [
            "<ipython-input-6-d0a8a006af45>:35: FutureWarning: The 'delim_whitespace' keyword in pd.read_csv is deprecated and will be removed in a future version. Use ``sep='\\s+'`` instead\n",
            "  df = pd.read_csv(file_path, delim_whitespace=True, header=None)\n",
            "<ipython-input-6-d0a8a006af45>:48: FutureWarning: The 'delim_whitespace' keyword in pd.read_csv is deprecated and will be removed in a future version. Use ``sep='\\s+'`` instead\n",
            "  df = pd.read_csv(file_path, delim_whitespace=True, header=None)\n"
          ]
        },
        {
          "output_type": "stream",
          "name": "stdout",
          "text": [
            "  Reading file: PROC_VEHICLE_DETECTION.txt\n",
            "  Reading file: SEMANTIC_ONLINE.txt\n"
          ]
        },
        {
          "output_type": "stream",
          "name": "stderr",
          "text": [
            "<ipython-input-6-d0a8a006af45>:63: FutureWarning: The 'delim_whitespace' keyword in pd.read_csv is deprecated and will be removed in a future version. Use ``sep='\\s+'`` instead\n",
            "  df = pd.read_csv(file_path, delim_whitespace=True, header=None)\n",
            "<ipython-input-6-d0a8a006af45>:79: FutureWarning: The 'delim_whitespace' keyword in pd.read_csv is deprecated and will be removed in a future version. Use ``sep='\\s+'`` instead\n",
            "  df = pd.read_csv(file_path, delim_whitespace=True, header=None)\n"
          ]
        },
        {
          "output_type": "stream",
          "name": "stdout",
          "text": [
            "Processing folder: /content/drive/MyDrive/UAH-DRIVESET-v1/D4/20151204160823-25km-D4-DROWSY-MOTORWAY\n",
            "  Reading file: RAW_ACCELEROMETERS.txt\n"
          ]
        },
        {
          "output_type": "stream",
          "name": "stderr",
          "text": [
            "<ipython-input-6-d0a8a006af45>:18: FutureWarning: The 'delim_whitespace' keyword in pd.read_csv is deprecated and will be removed in a future version. Use ``sep='\\s+'`` instead\n",
            "  df = pd.read_csv(file_path, delim_whitespace=True, header=None)\n"
          ]
        },
        {
          "output_type": "stream",
          "name": "stdout",
          "text": [
            "  Reading file: RAW_GPS.txt\n"
          ]
        },
        {
          "output_type": "stream",
          "name": "stderr",
          "text": [
            "<ipython-input-6-d0a8a006af45>:35: FutureWarning: The 'delim_whitespace' keyword in pd.read_csv is deprecated and will be removed in a future version. Use ``sep='\\s+'`` instead\n",
            "  df = pd.read_csv(file_path, delim_whitespace=True, header=None)\n"
          ]
        },
        {
          "output_type": "stream",
          "name": "stdout",
          "text": [
            "  Reading file: PROC_LANE_DETECTION.txt\n"
          ]
        },
        {
          "output_type": "stream",
          "name": "stderr",
          "text": [
            "<ipython-input-6-d0a8a006af45>:48: FutureWarning: The 'delim_whitespace' keyword in pd.read_csv is deprecated and will be removed in a future version. Use ``sep='\\s+'`` instead\n",
            "  df = pd.read_csv(file_path, delim_whitespace=True, header=None)\n"
          ]
        },
        {
          "output_type": "stream",
          "name": "stdout",
          "text": [
            "  Reading file: PROC_VEHICLE_DETECTION.txt\n",
            "  Reading file: SEMANTIC_ONLINE.txt\n"
          ]
        },
        {
          "output_type": "stream",
          "name": "stderr",
          "text": [
            "<ipython-input-6-d0a8a006af45>:63: FutureWarning: The 'delim_whitespace' keyword in pd.read_csv is deprecated and will be removed in a future version. Use ``sep='\\s+'`` instead\n",
            "  df = pd.read_csv(file_path, delim_whitespace=True, header=None)\n",
            "<ipython-input-6-d0a8a006af45>:79: FutureWarning: The 'delim_whitespace' keyword in pd.read_csv is deprecated and will be removed in a future version. Use ``sep='\\s+'`` instead\n",
            "  df = pd.read_csv(file_path, delim_whitespace=True, header=None)\n"
          ]
        },
        {
          "output_type": "stream",
          "name": "stdout",
          "text": [
            "Processing folder: /content/drive/MyDrive/UAH-DRIVESET-v1/D5/20151209151242-25km-D5-NORMAL-MOTORWAY\n",
            "  Reading file: RAW_ACCELEROMETERS.txt\n"
          ]
        },
        {
          "output_type": "stream",
          "name": "stderr",
          "text": [
            "<ipython-input-6-d0a8a006af45>:18: FutureWarning: The 'delim_whitespace' keyword in pd.read_csv is deprecated and will be removed in a future version. Use ``sep='\\s+'`` instead\n",
            "  df = pd.read_csv(file_path, delim_whitespace=True, header=None)\n"
          ]
        },
        {
          "output_type": "stream",
          "name": "stdout",
          "text": [
            "  Reading file: RAW_GPS.txt\n",
            "  Reading file: PROC_LANE_DETECTION.txt\n"
          ]
        },
        {
          "output_type": "stream",
          "name": "stderr",
          "text": [
            "<ipython-input-6-d0a8a006af45>:35: FutureWarning: The 'delim_whitespace' keyword in pd.read_csv is deprecated and will be removed in a future version. Use ``sep='\\s+'`` instead\n",
            "  df = pd.read_csv(file_path, delim_whitespace=True, header=None)\n",
            "<ipython-input-6-d0a8a006af45>:48: FutureWarning: The 'delim_whitespace' keyword in pd.read_csv is deprecated and will be removed in a future version. Use ``sep='\\s+'`` instead\n",
            "  df = pd.read_csv(file_path, delim_whitespace=True, header=None)\n"
          ]
        },
        {
          "output_type": "stream",
          "name": "stdout",
          "text": [
            "  Reading file: PROC_VEHICLE_DETECTION.txt\n"
          ]
        },
        {
          "output_type": "stream",
          "name": "stderr",
          "text": [
            "<ipython-input-6-d0a8a006af45>:63: FutureWarning: The 'delim_whitespace' keyword in pd.read_csv is deprecated and will be removed in a future version. Use ``sep='\\s+'`` instead\n",
            "  df = pd.read_csv(file_path, delim_whitespace=True, header=None)\n"
          ]
        },
        {
          "output_type": "stream",
          "name": "stdout",
          "text": [
            "  Reading file: SEMANTIC_ONLINE.txt\n",
            "Processing folder: /content/drive/MyDrive/UAH-DRIVESET-v1/D5/20151209153137-25km-D5-AGGRESSIVE-MOTORWAY\n"
          ]
        },
        {
          "output_type": "stream",
          "name": "stderr",
          "text": [
            "<ipython-input-6-d0a8a006af45>:79: FutureWarning: The 'delim_whitespace' keyword in pd.read_csv is deprecated and will be removed in a future version. Use ``sep='\\s+'`` instead\n",
            "  df = pd.read_csv(file_path, delim_whitespace=True, header=None)\n"
          ]
        },
        {
          "output_type": "stream",
          "name": "stdout",
          "text": [
            "  Reading file: RAW_ACCELEROMETERS.txt\n",
            "  Reading file: RAW_GPS.txt\n"
          ]
        },
        {
          "output_type": "stream",
          "name": "stderr",
          "text": [
            "<ipython-input-6-d0a8a006af45>:18: FutureWarning: The 'delim_whitespace' keyword in pd.read_csv is deprecated and will be removed in a future version. Use ``sep='\\s+'`` instead\n",
            "  df = pd.read_csv(file_path, delim_whitespace=True, header=None)\n",
            "<ipython-input-6-d0a8a006af45>:35: FutureWarning: The 'delim_whitespace' keyword in pd.read_csv is deprecated and will be removed in a future version. Use ``sep='\\s+'`` instead\n",
            "  df = pd.read_csv(file_path, delim_whitespace=True, header=None)\n"
          ]
        },
        {
          "output_type": "stream",
          "name": "stdout",
          "text": [
            "  Reading file: PROC_LANE_DETECTION.txt\n"
          ]
        },
        {
          "output_type": "stream",
          "name": "stderr",
          "text": [
            "<ipython-input-6-d0a8a006af45>:48: FutureWarning: The 'delim_whitespace' keyword in pd.read_csv is deprecated and will be removed in a future version. Use ``sep='\\s+'`` instead\n",
            "  df = pd.read_csv(file_path, delim_whitespace=True, header=None)\n"
          ]
        },
        {
          "output_type": "stream",
          "name": "stdout",
          "text": [
            "  Reading file: PROC_VEHICLE_DETECTION.txt\n",
            "  Reading file: SEMANTIC_ONLINE.txt\n"
          ]
        },
        {
          "output_type": "stream",
          "name": "stderr",
          "text": [
            "<ipython-input-6-d0a8a006af45>:63: FutureWarning: The 'delim_whitespace' keyword in pd.read_csv is deprecated and will be removed in a future version. Use ``sep='\\s+'`` instead\n",
            "  df = pd.read_csv(file_path, delim_whitespace=True, header=None)\n",
            "<ipython-input-6-d0a8a006af45>:79: FutureWarning: The 'delim_whitespace' keyword in pd.read_csv is deprecated and will be removed in a future version. Use ``sep='\\s+'`` instead\n",
            "  df = pd.read_csv(file_path, delim_whitespace=True, header=None)\n"
          ]
        },
        {
          "output_type": "stream",
          "name": "stdout",
          "text": [
            "Processing folder: /content/drive/MyDrive/UAH-DRIVESET-v1/D5/20151211160213-25km-D5-DROWSY-MOTORWAY\n",
            "  Reading file: RAW_ACCELEROMETERS.txt\n",
            "  Reading file: RAW_GPS.txt\n"
          ]
        },
        {
          "output_type": "stream",
          "name": "stderr",
          "text": [
            "<ipython-input-6-d0a8a006af45>:18: FutureWarning: The 'delim_whitespace' keyword in pd.read_csv is deprecated and will be removed in a future version. Use ``sep='\\s+'`` instead\n",
            "  df = pd.read_csv(file_path, delim_whitespace=True, header=None)\n",
            "<ipython-input-6-d0a8a006af45>:35: FutureWarning: The 'delim_whitespace' keyword in pd.read_csv is deprecated and will be removed in a future version. Use ``sep='\\s+'`` instead\n",
            "  df = pd.read_csv(file_path, delim_whitespace=True, header=None)\n"
          ]
        },
        {
          "output_type": "stream",
          "name": "stdout",
          "text": [
            "  Reading file: PROC_LANE_DETECTION.txt\n"
          ]
        },
        {
          "output_type": "stream",
          "name": "stderr",
          "text": [
            "<ipython-input-6-d0a8a006af45>:48: FutureWarning: The 'delim_whitespace' keyword in pd.read_csv is deprecated and will be removed in a future version. Use ``sep='\\s+'`` instead\n",
            "  df = pd.read_csv(file_path, delim_whitespace=True, header=None)\n"
          ]
        },
        {
          "output_type": "stream",
          "name": "stdout",
          "text": [
            "  Reading file: PROC_VEHICLE_DETECTION.txt\n"
          ]
        },
        {
          "output_type": "stream",
          "name": "stderr",
          "text": [
            "<ipython-input-6-d0a8a006af45>:63: FutureWarning: The 'delim_whitespace' keyword in pd.read_csv is deprecated and will be removed in a future version. Use ``sep='\\s+'`` instead\n",
            "  df = pd.read_csv(file_path, delim_whitespace=True, header=None)\n"
          ]
        },
        {
          "output_type": "stream",
          "name": "stdout",
          "text": [
            "  Reading file: SEMANTIC_ONLINE.txt\n",
            "Processing folder: /content/drive/MyDrive/UAH-DRIVESET-v1/D5/20151211162829-16km-D5-NORMAL1-SECONDARY\n"
          ]
        },
        {
          "output_type": "stream",
          "name": "stderr",
          "text": [
            "<ipython-input-6-d0a8a006af45>:79: FutureWarning: The 'delim_whitespace' keyword in pd.read_csv is deprecated and will be removed in a future version. Use ``sep='\\s+'`` instead\n",
            "  df = pd.read_csv(file_path, delim_whitespace=True, header=None)\n"
          ]
        },
        {
          "output_type": "stream",
          "name": "stdout",
          "text": [
            "  Reading file: RAW_ACCELEROMETERS.txt\n"
          ]
        },
        {
          "output_type": "stream",
          "name": "stderr",
          "text": [
            "<ipython-input-6-d0a8a006af45>:18: FutureWarning: The 'delim_whitespace' keyword in pd.read_csv is deprecated and will be removed in a future version. Use ``sep='\\s+'`` instead\n",
            "  df = pd.read_csv(file_path, delim_whitespace=True, header=None)\n"
          ]
        },
        {
          "output_type": "stream",
          "name": "stdout",
          "text": [
            "  Reading file: RAW_GPS.txt\n"
          ]
        },
        {
          "output_type": "stream",
          "name": "stderr",
          "text": [
            "<ipython-input-6-d0a8a006af45>:35: FutureWarning: The 'delim_whitespace' keyword in pd.read_csv is deprecated and will be removed in a future version. Use ``sep='\\s+'`` instead\n",
            "  df = pd.read_csv(file_path, delim_whitespace=True, header=None)\n"
          ]
        },
        {
          "output_type": "stream",
          "name": "stdout",
          "text": [
            "  Reading file: PROC_LANE_DETECTION.txt\n"
          ]
        },
        {
          "output_type": "stream",
          "name": "stderr",
          "text": [
            "<ipython-input-6-d0a8a006af45>:48: FutureWarning: The 'delim_whitespace' keyword in pd.read_csv is deprecated and will be removed in a future version. Use ``sep='\\s+'`` instead\n",
            "  df = pd.read_csv(file_path, delim_whitespace=True, header=None)\n"
          ]
        },
        {
          "output_type": "stream",
          "name": "stdout",
          "text": [
            "  Reading file: PROC_VEHICLE_DETECTION.txt\n"
          ]
        },
        {
          "output_type": "stream",
          "name": "stderr",
          "text": [
            "<ipython-input-6-d0a8a006af45>:63: FutureWarning: The 'delim_whitespace' keyword in pd.read_csv is deprecated and will be removed in a future version. Use ``sep='\\s+'`` instead\n",
            "  df = pd.read_csv(file_path, delim_whitespace=True, header=None)\n"
          ]
        },
        {
          "output_type": "stream",
          "name": "stdout",
          "text": [
            "  Reading file: SEMANTIC_ONLINE.txt\n"
          ]
        },
        {
          "output_type": "stream",
          "name": "stderr",
          "text": [
            "<ipython-input-6-d0a8a006af45>:79: FutureWarning: The 'delim_whitespace' keyword in pd.read_csv is deprecated and will be removed in a future version. Use ``sep='\\s+'`` instead\n",
            "  df = pd.read_csv(file_path, delim_whitespace=True, header=None)\n"
          ]
        },
        {
          "output_type": "stream",
          "name": "stdout",
          "text": [
            "Processing folder: /content/drive/MyDrive/UAH-DRIVESET-v1/D5/20151211164124-17km-D5-NORMAL2-SECONDARY\n",
            "  Reading file: RAW_ACCELEROMETERS.txt\n"
          ]
        },
        {
          "output_type": "stream",
          "name": "stderr",
          "text": [
            "<ipython-input-6-d0a8a006af45>:18: FutureWarning: The 'delim_whitespace' keyword in pd.read_csv is deprecated and will be removed in a future version. Use ``sep='\\s+'`` instead\n",
            "  df = pd.read_csv(file_path, delim_whitespace=True, header=None)\n"
          ]
        },
        {
          "output_type": "stream",
          "name": "stdout",
          "text": [
            "  Reading file: RAW_GPS.txt\n"
          ]
        },
        {
          "output_type": "stream",
          "name": "stderr",
          "text": [
            "<ipython-input-6-d0a8a006af45>:35: FutureWarning: The 'delim_whitespace' keyword in pd.read_csv is deprecated and will be removed in a future version. Use ``sep='\\s+'`` instead\n",
            "  df = pd.read_csv(file_path, delim_whitespace=True, header=None)\n"
          ]
        },
        {
          "output_type": "stream",
          "name": "stdout",
          "text": [
            "  Reading file: PROC_LANE_DETECTION.txt\n"
          ]
        },
        {
          "output_type": "stream",
          "name": "stderr",
          "text": [
            "<ipython-input-6-d0a8a006af45>:48: FutureWarning: The 'delim_whitespace' keyword in pd.read_csv is deprecated and will be removed in a future version. Use ``sep='\\s+'`` instead\n",
            "  df = pd.read_csv(file_path, delim_whitespace=True, header=None)\n"
          ]
        },
        {
          "output_type": "stream",
          "name": "stdout",
          "text": [
            "  Reading file: PROC_VEHICLE_DETECTION.txt\n",
            "  Reading file: SEMANTIC_ONLINE.txt\n"
          ]
        },
        {
          "output_type": "stream",
          "name": "stderr",
          "text": [
            "<ipython-input-6-d0a8a006af45>:63: FutureWarning: The 'delim_whitespace' keyword in pd.read_csv is deprecated and will be removed in a future version. Use ``sep='\\s+'`` instead\n",
            "  df = pd.read_csv(file_path, delim_whitespace=True, header=None)\n",
            "<ipython-input-6-d0a8a006af45>:79: FutureWarning: The 'delim_whitespace' keyword in pd.read_csv is deprecated and will be removed in a future version. Use ``sep='\\s+'`` instead\n",
            "  df = pd.read_csv(file_path, delim_whitespace=True, header=None)\n",
            "<ipython-input-6-d0a8a006af45>:18: FutureWarning: The 'delim_whitespace' keyword in pd.read_csv is deprecated and will be removed in a future version. Use ``sep='\\s+'`` instead\n",
            "  df = pd.read_csv(file_path, delim_whitespace=True, header=None)\n"
          ]
        },
        {
          "output_type": "stream",
          "name": "stdout",
          "text": [
            "Processing folder: /content/drive/MyDrive/UAH-DRIVESET-v1/D5/20151211165606-12km-D5-AGGRESSIVE-SECONDARY\n",
            "  Reading file: RAW_ACCELEROMETERS.txt\n",
            "  Reading file: RAW_GPS.txt\n",
            "  Reading file: PROC_LANE_DETECTION.txt\n"
          ]
        },
        {
          "output_type": "stream",
          "name": "stderr",
          "text": [
            "<ipython-input-6-d0a8a006af45>:35: FutureWarning: The 'delim_whitespace' keyword in pd.read_csv is deprecated and will be removed in a future version. Use ``sep='\\s+'`` instead\n",
            "  df = pd.read_csv(file_path, delim_whitespace=True, header=None)\n",
            "<ipython-input-6-d0a8a006af45>:48: FutureWarning: The 'delim_whitespace' keyword in pd.read_csv is deprecated and will be removed in a future version. Use ``sep='\\s+'`` instead\n",
            "  df = pd.read_csv(file_path, delim_whitespace=True, header=None)\n"
          ]
        },
        {
          "output_type": "stream",
          "name": "stdout",
          "text": [
            "  Reading file: PROC_VEHICLE_DETECTION.txt\n"
          ]
        },
        {
          "output_type": "stream",
          "name": "stderr",
          "text": [
            "<ipython-input-6-d0a8a006af45>:63: FutureWarning: The 'delim_whitespace' keyword in pd.read_csv is deprecated and will be removed in a future version. Use ``sep='\\s+'`` instead\n",
            "  df = pd.read_csv(file_path, delim_whitespace=True, header=None)\n"
          ]
        },
        {
          "output_type": "stream",
          "name": "stdout",
          "text": [
            "  Reading file: SEMANTIC_ONLINE.txt\n",
            "Processing folder: /content/drive/MyDrive/UAH-DRIVESET-v1/D5/20151211170502-16km-D5-DROWSY-SECONDARY\n"
          ]
        },
        {
          "output_type": "stream",
          "name": "stderr",
          "text": [
            "<ipython-input-6-d0a8a006af45>:79: FutureWarning: The 'delim_whitespace' keyword in pd.read_csv is deprecated and will be removed in a future version. Use ``sep='\\s+'`` instead\n",
            "  df = pd.read_csv(file_path, delim_whitespace=True, header=None)\n",
            "<ipython-input-6-d0a8a006af45>:18: FutureWarning: The 'delim_whitespace' keyword in pd.read_csv is deprecated and will be removed in a future version. Use ``sep='\\s+'`` instead\n",
            "  df = pd.read_csv(file_path, delim_whitespace=True, header=None)\n"
          ]
        },
        {
          "output_type": "stream",
          "name": "stdout",
          "text": [
            "  Reading file: RAW_ACCELEROMETERS.txt\n",
            "  Reading file: RAW_GPS.txt\n"
          ]
        },
        {
          "output_type": "stream",
          "name": "stderr",
          "text": [
            "<ipython-input-6-d0a8a006af45>:35: FutureWarning: The 'delim_whitespace' keyword in pd.read_csv is deprecated and will be removed in a future version. Use ``sep='\\s+'`` instead\n",
            "  df = pd.read_csv(file_path, delim_whitespace=True, header=None)\n"
          ]
        },
        {
          "output_type": "stream",
          "name": "stdout",
          "text": [
            "  Reading file: PROC_LANE_DETECTION.txt\n"
          ]
        },
        {
          "output_type": "stream",
          "name": "stderr",
          "text": [
            "<ipython-input-6-d0a8a006af45>:48: FutureWarning: The 'delim_whitespace' keyword in pd.read_csv is deprecated and will be removed in a future version. Use ``sep='\\s+'`` instead\n",
            "  df = pd.read_csv(file_path, delim_whitespace=True, header=None)\n"
          ]
        },
        {
          "output_type": "stream",
          "name": "stdout",
          "text": [
            "  Reading file: PROC_VEHICLE_DETECTION.txt\n",
            "  Reading file: SEMANTIC_ONLINE.txt\n"
          ]
        },
        {
          "output_type": "stream",
          "name": "stderr",
          "text": [
            "<ipython-input-6-d0a8a006af45>:63: FutureWarning: The 'delim_whitespace' keyword in pd.read_csv is deprecated and will be removed in a future version. Use ``sep='\\s+'`` instead\n",
            "  df = pd.read_csv(file_path, delim_whitespace=True, header=None)\n",
            "<ipython-input-6-d0a8a006af45>:79: FutureWarning: The 'delim_whitespace' keyword in pd.read_csv is deprecated and will be removed in a future version. Use ``sep='\\s+'`` instead\n",
            "  df = pd.read_csv(file_path, delim_whitespace=True, header=None)\n"
          ]
        },
        {
          "output_type": "stream",
          "name": "stdout",
          "text": [
            "Processing folder: /content/drive/MyDrive/UAH-DRIVESET-v1/D6/20151217162714-26km-D6-NORMAL-MOTORWAY\n",
            "  Reading file: RAW_ACCELEROMETERS.txt\n"
          ]
        },
        {
          "output_type": "stream",
          "name": "stderr",
          "text": [
            "<ipython-input-6-d0a8a006af45>:18: FutureWarning: The 'delim_whitespace' keyword in pd.read_csv is deprecated and will be removed in a future version. Use ``sep='\\s+'`` instead\n",
            "  df = pd.read_csv(file_path, delim_whitespace=True, header=None)\n"
          ]
        },
        {
          "output_type": "stream",
          "name": "stdout",
          "text": [
            "  Reading file: RAW_GPS.txt\n"
          ]
        },
        {
          "output_type": "stream",
          "name": "stderr",
          "text": [
            "<ipython-input-6-d0a8a006af45>:35: FutureWarning: The 'delim_whitespace' keyword in pd.read_csv is deprecated and will be removed in a future version. Use ``sep='\\s+'`` instead\n",
            "  df = pd.read_csv(file_path, delim_whitespace=True, header=None)\n"
          ]
        },
        {
          "output_type": "stream",
          "name": "stdout",
          "text": [
            "  Reading file: PROC_LANE_DETECTION.txt\n"
          ]
        },
        {
          "output_type": "stream",
          "name": "stderr",
          "text": [
            "<ipython-input-6-d0a8a006af45>:48: FutureWarning: The 'delim_whitespace' keyword in pd.read_csv is deprecated and will be removed in a future version. Use ``sep='\\s+'`` instead\n",
            "  df = pd.read_csv(file_path, delim_whitespace=True, header=None)\n"
          ]
        },
        {
          "output_type": "stream",
          "name": "stdout",
          "text": [
            "  Reading file: PROC_VEHICLE_DETECTION.txt\n",
            "  Reading file: SEMANTIC_ONLINE.txt\n"
          ]
        },
        {
          "output_type": "stream",
          "name": "stderr",
          "text": [
            "<ipython-input-6-d0a8a006af45>:63: FutureWarning: The 'delim_whitespace' keyword in pd.read_csv is deprecated and will be removed in a future version. Use ``sep='\\s+'`` instead\n",
            "  df = pd.read_csv(file_path, delim_whitespace=True, header=None)\n",
            "<ipython-input-6-d0a8a006af45>:79: FutureWarning: The 'delim_whitespace' keyword in pd.read_csv is deprecated and will be removed in a future version. Use ``sep='\\s+'`` instead\n",
            "  df = pd.read_csv(file_path, delim_whitespace=True, header=None)\n"
          ]
        },
        {
          "output_type": "stream",
          "name": "stdout",
          "text": [
            "Processing folder: /content/drive/MyDrive/UAH-DRIVESET-v1/D6/20151217164730-25km-D6-DROWSY-MOTORWAY\n",
            "  Reading file: RAW_ACCELEROMETERS.txt\n"
          ]
        },
        {
          "output_type": "stream",
          "name": "stderr",
          "text": [
            "<ipython-input-6-d0a8a006af45>:18: FutureWarning: The 'delim_whitespace' keyword in pd.read_csv is deprecated and will be removed in a future version. Use ``sep='\\s+'`` instead\n",
            "  df = pd.read_csv(file_path, delim_whitespace=True, header=None)\n"
          ]
        },
        {
          "output_type": "stream",
          "name": "stdout",
          "text": [
            "  Reading file: RAW_GPS.txt\n"
          ]
        },
        {
          "output_type": "stream",
          "name": "stderr",
          "text": [
            "<ipython-input-6-d0a8a006af45>:35: FutureWarning: The 'delim_whitespace' keyword in pd.read_csv is deprecated and will be removed in a future version. Use ``sep='\\s+'`` instead\n",
            "  df = pd.read_csv(file_path, delim_whitespace=True, header=None)\n"
          ]
        },
        {
          "output_type": "stream",
          "name": "stdout",
          "text": [
            "  Reading file: PROC_LANE_DETECTION.txt\n"
          ]
        },
        {
          "output_type": "stream",
          "name": "stderr",
          "text": [
            "<ipython-input-6-d0a8a006af45>:48: FutureWarning: The 'delim_whitespace' keyword in pd.read_csv is deprecated and will be removed in a future version. Use ``sep='\\s+'`` instead\n",
            "  df = pd.read_csv(file_path, delim_whitespace=True, header=None)\n"
          ]
        },
        {
          "output_type": "stream",
          "name": "stdout",
          "text": [
            "  Reading file: PROC_VEHICLE_DETECTION.txt\n",
            "  Reading file: SEMANTIC_ONLINE.txt\n"
          ]
        },
        {
          "output_type": "stream",
          "name": "stderr",
          "text": [
            "<ipython-input-6-d0a8a006af45>:63: FutureWarning: The 'delim_whitespace' keyword in pd.read_csv is deprecated and will be removed in a future version. Use ``sep='\\s+'`` instead\n",
            "  df = pd.read_csv(file_path, delim_whitespace=True, header=None)\n",
            "<ipython-input-6-d0a8a006af45>:79: FutureWarning: The 'delim_whitespace' keyword in pd.read_csv is deprecated and will be removed in a future version. Use ``sep='\\s+'`` instead\n",
            "  df = pd.read_csv(file_path, delim_whitespace=True, header=None)\n"
          ]
        },
        {
          "output_type": "stream",
          "name": "stdout",
          "text": [
            "Processing folder: /content/drive/MyDrive/UAH-DRIVESET-v1/D6/20151221112434-17km-D6-NORMAL-SECONDARY\n",
            "  Reading file: RAW_ACCELEROMETERS.txt\n"
          ]
        },
        {
          "output_type": "stream",
          "name": "stderr",
          "text": [
            "<ipython-input-6-d0a8a006af45>:18: FutureWarning: The 'delim_whitespace' keyword in pd.read_csv is deprecated and will be removed in a future version. Use ``sep='\\s+'`` instead\n",
            "  df = pd.read_csv(file_path, delim_whitespace=True, header=None)\n"
          ]
        },
        {
          "output_type": "stream",
          "name": "stdout",
          "text": [
            "  Reading file: RAW_GPS.txt\n",
            "  Reading file: PROC_LANE_DETECTION.txt\n"
          ]
        },
        {
          "output_type": "stream",
          "name": "stderr",
          "text": [
            "<ipython-input-6-d0a8a006af45>:35: FutureWarning: The 'delim_whitespace' keyword in pd.read_csv is deprecated and will be removed in a future version. Use ``sep='\\s+'`` instead\n",
            "  df = pd.read_csv(file_path, delim_whitespace=True, header=None)\n",
            "<ipython-input-6-d0a8a006af45>:48: FutureWarning: The 'delim_whitespace' keyword in pd.read_csv is deprecated and will be removed in a future version. Use ``sep='\\s+'`` instead\n",
            "  df = pd.read_csv(file_path, delim_whitespace=True, header=None)\n"
          ]
        },
        {
          "output_type": "stream",
          "name": "stdout",
          "text": [
            "  Reading file: PROC_VEHICLE_DETECTION.txt\n"
          ]
        },
        {
          "output_type": "stream",
          "name": "stderr",
          "text": [
            "<ipython-input-6-d0a8a006af45>:63: FutureWarning: The 'delim_whitespace' keyword in pd.read_csv is deprecated and will be removed in a future version. Use ``sep='\\s+'`` instead\n",
            "  df = pd.read_csv(file_path, delim_whitespace=True, header=None)\n"
          ]
        },
        {
          "output_type": "stream",
          "name": "stdout",
          "text": [
            "  Reading file: SEMANTIC_ONLINE.txt\n"
          ]
        },
        {
          "output_type": "stream",
          "name": "stderr",
          "text": [
            "<ipython-input-6-d0a8a006af45>:79: FutureWarning: The 'delim_whitespace' keyword in pd.read_csv is deprecated and will be removed in a future version. Use ``sep='\\s+'`` instead\n",
            "  df = pd.read_csv(file_path, delim_whitespace=True, header=None)\n",
            "<ipython-input-6-d0a8a006af45>:18: FutureWarning: The 'delim_whitespace' keyword in pd.read_csv is deprecated and will be removed in a future version. Use ``sep='\\s+'`` instead\n",
            "  df = pd.read_csv(file_path, delim_whitespace=True, header=None)\n"
          ]
        },
        {
          "output_type": "stream",
          "name": "stdout",
          "text": [
            "Processing folder: /content/drive/MyDrive/UAH-DRIVESET-v1/D6/20151221113846-16km-D6-DROWSY-SECONDARY\n",
            "  Reading file: RAW_ACCELEROMETERS.txt\n",
            "  Reading file: RAW_GPS.txt\n"
          ]
        },
        {
          "output_type": "stream",
          "name": "stderr",
          "text": [
            "<ipython-input-6-d0a8a006af45>:35: FutureWarning: The 'delim_whitespace' keyword in pd.read_csv is deprecated and will be removed in a future version. Use ``sep='\\s+'`` instead\n",
            "  df = pd.read_csv(file_path, delim_whitespace=True, header=None)\n"
          ]
        },
        {
          "output_type": "stream",
          "name": "stdout",
          "text": [
            "  Reading file: PROC_LANE_DETECTION.txt\n"
          ]
        },
        {
          "output_type": "stream",
          "name": "stderr",
          "text": [
            "<ipython-input-6-d0a8a006af45>:48: FutureWarning: The 'delim_whitespace' keyword in pd.read_csv is deprecated and will be removed in a future version. Use ``sep='\\s+'`` instead\n",
            "  df = pd.read_csv(file_path, delim_whitespace=True, header=None)\n"
          ]
        },
        {
          "output_type": "stream",
          "name": "stdout",
          "text": [
            "  Reading file: PROC_VEHICLE_DETECTION.txt\n"
          ]
        },
        {
          "output_type": "stream",
          "name": "stderr",
          "text": [
            "<ipython-input-6-d0a8a006af45>:63: FutureWarning: The 'delim_whitespace' keyword in pd.read_csv is deprecated and will be removed in a future version. Use ``sep='\\s+'`` instead\n",
            "  df = pd.read_csv(file_path, delim_whitespace=True, header=None)\n"
          ]
        },
        {
          "output_type": "stream",
          "name": "stdout",
          "text": [
            "  Reading file: SEMANTIC_ONLINE.txt\n"
          ]
        },
        {
          "output_type": "stream",
          "name": "stderr",
          "text": [
            "<ipython-input-6-d0a8a006af45>:79: FutureWarning: The 'delim_whitespace' keyword in pd.read_csv is deprecated and will be removed in a future version. Use ``sep='\\s+'`` instead\n",
            "  df = pd.read_csv(file_path, delim_whitespace=True, header=None)\n"
          ]
        },
        {
          "output_type": "stream",
          "name": "stdout",
          "text": [
            "Processing folder: /content/drive/MyDrive/UAH-DRIVESET-v1/D6/20151221120051-26km-D6-AGGRESSIVE-MOTORWAY\n",
            "  Reading file: RAW_ACCELEROMETERS.txt\n"
          ]
        },
        {
          "output_type": "stream",
          "name": "stderr",
          "text": [
            "<ipython-input-6-d0a8a006af45>:18: FutureWarning: The 'delim_whitespace' keyword in pd.read_csv is deprecated and will be removed in a future version. Use ``sep='\\s+'`` instead\n",
            "  df = pd.read_csv(file_path, delim_whitespace=True, header=None)\n"
          ]
        },
        {
          "output_type": "stream",
          "name": "stdout",
          "text": [
            "  Reading file: RAW_GPS.txt\n",
            "  Reading file: PROC_LANE_DETECTION.txt\n"
          ]
        },
        {
          "output_type": "stream",
          "name": "stderr",
          "text": [
            "<ipython-input-6-d0a8a006af45>:35: FutureWarning: The 'delim_whitespace' keyword in pd.read_csv is deprecated and will be removed in a future version. Use ``sep='\\s+'`` instead\n",
            "  df = pd.read_csv(file_path, delim_whitespace=True, header=None)\n",
            "<ipython-input-6-d0a8a006af45>:48: FutureWarning: The 'delim_whitespace' keyword in pd.read_csv is deprecated and will be removed in a future version. Use ``sep='\\s+'`` instead\n",
            "  df = pd.read_csv(file_path, delim_whitespace=True, header=None)\n"
          ]
        },
        {
          "output_type": "stream",
          "name": "stdout",
          "text": [
            "  Reading file: PROC_VEHICLE_DETECTION.txt\n",
            "  Reading file: SEMANTIC_ONLINE.txt\n"
          ]
        },
        {
          "output_type": "stream",
          "name": "stderr",
          "text": [
            "<ipython-input-6-d0a8a006af45>:63: FutureWarning: The 'delim_whitespace' keyword in pd.read_csv is deprecated and will be removed in a future version. Use ``sep='\\s+'`` instead\n",
            "  df = pd.read_csv(file_path, delim_whitespace=True, header=None)\n",
            "<ipython-input-6-d0a8a006af45>:79: FutureWarning: The 'delim_whitespace' keyword in pd.read_csv is deprecated and will be removed in a future version. Use ``sep='\\s+'`` instead\n",
            "  df = pd.read_csv(file_path, delim_whitespace=True, header=None)\n"
          ]
        },
        {
          "output_type": "stream",
          "name": "stdout",
          "text": [
            "Data processing completed. Here's a preview:\n",
            "   Timestamp  Activation Bool  X Accel (Gs)  Y Accel (Gs)  Z Accel (Gs)  \\\n",
            "0       6.94              1.0         0.017        -0.011         0.018   \n",
            "1       7.03              1.0         0.046         0.007         0.019   \n",
            "2       7.14              1.0         0.052        -0.016         0.027   \n",
            "3       7.24              1.0         0.015        -0.016         0.026   \n",
            "4       7.34              1.0        -0.014        -0.017         0.040   \n",
            "\n",
            "   X Accel KF (Gs)  Y Accel KF (Gs)  Z Accel KF (Gs)  Roll (deg)  Pitch (deg)  \\\n",
            "0           -0.005            0.008            0.018      -1.523        0.015   \n",
            "1            0.016           -0.002            0.018      -1.522        0.012   \n",
            "2            0.037           -0.005            0.018      -1.520        0.014   \n",
            "3            0.038           -0.009            0.024      -1.523        0.014   \n",
            "4            0.012           -0.016            0.032      -1.525        0.012   \n",
            "\n",
            "   ...  Semantic_Feature_15 Semantic_Feature_16 Semantic_Feature_17  \\\n",
            "0  ...                  NaN                 NaN                 NaN   \n",
            "1  ...                  NaN                 NaN                 NaN   \n",
            "2  ...                  NaN                 NaN                 NaN   \n",
            "3  ...                  NaN                 NaN                 NaN   \n",
            "4  ...                  NaN                 NaN                 NaN   \n",
            "\n",
            "   Semantic_Feature_18  Semantic_Feature_19  Semantic_Feature_20  \\\n",
            "0                  NaN                  NaN                  NaN   \n",
            "1                  NaN                  NaN                  NaN   \n",
            "2                  NaN                  NaN                  NaN   \n",
            "3                  NaN                  NaN                  NaN   \n",
            "4                  NaN                  NaN                  NaN   \n",
            "\n",
            "   Semantic_Feature_21  Semantic_Feature_22  Semantic_Feature_23  \\\n",
            "0                  NaN                  NaN                  NaN   \n",
            "1                  NaN                  NaN                  NaN   \n",
            "2                  NaN                  NaN                  NaN   \n",
            "3                  NaN                  NaN                  NaN   \n",
            "4                  NaN                  NaN                  NaN   \n",
            "\n",
            "   Semantic_Feature_24  \n",
            "0                  NaN  \n",
            "1                  NaN  \n",
            "2                  NaN  \n",
            "3                  NaN  \n",
            "4                  NaN  \n",
            "\n",
            "[5 rows x 56 columns]\n"
          ]
        }
      ]
    },
    {
      "cell_type": "code",
      "source": [
        "import pandas as pd\n",
        "import matplotlib.pyplot as plt\n",
        "import seaborn as sns\n",
        "\n",
        "# Load the processed dataset\n",
        "file_path = \"processed_dataset.csv\"  # Update this to your dataset path\n",
        "data = pd.read_csv(file_path)\n",
        "\n",
        "# 1. Basic info about the dataset\n",
        "print(\"Dataset Info:\")\n",
        "print(data.info())\n",
        "\n",
        "# 2. Summary statistics for numerical columns\n",
        "print(\"\\nSummary Statistics:\")\n",
        "print(data.describe())\n",
        "\n",
        "# 3. Checking for missing values\n",
        "print(\"\\nMissing Values:\")\n",
        "print(data.isnull().sum())\n",
        "\n",
        "# 4. Removing columns with too many missing values (threshold: 50%)\n",
        "threshold = 0.5  # You can adjust this threshold\n",
        "missing_percentage = data.isnull().mean()\n",
        "columns_to_drop = missing_percentage[missing_percentage > threshold].index\n",
        "data_cleaned = data.drop(columns=columns_to_drop)\n",
        "\n",
        "print(f\"\\nDropped columns: {list(columns_to_drop)}\")\n",
        "print(f\"Remaining columns: {data_cleaned.columns.tolist()}\")\n",
        "\n",
        "# 5. Filling remaining missing values (numerical with mean, categorical with mode)\n",
        "for column in data_cleaned.columns:\n",
        "    if data_cleaned[column].dtype == 'float64' or data_cleaned[column].dtype == 'int64':\n",
        "        data_cleaned[column].fillna(data_cleaned[column].mean(), inplace=True)\n",
        "    elif data_cleaned[column].dtype == 'object':\n",
        "        data_cleaned[column].fillna(data_cleaned[column].mode()[0], inplace=True)\n",
        "\n",
        "print(\"\\nMissing values after cleaning:\")\n",
        "print(data_cleaned.isnull().sum())\n",
        "\n",
        "# 6. Save the cleaned dataset\n",
        "data_cleaned.to_csv(\"cleaned_dataset.csv\", index=False)\n",
        "print(\"\\nCleaned dataset saved as 'cleaned_dataset.csv'.\")\n",
        "\n",
        "# Visualization (Optional)\n",
        "# 7. Distribution of numerical features\n",
        "numerical_columns = data_cleaned.select_dtypes(include=['float64', 'int64']).columns\n",
        "for column in numerical_columns:\n",
        "    plt.figure()\n",
        "    sns.histplot(data_cleaned[column], kde=True, bins=30)\n",
        "    plt.title(f\"Distribution of {column}\")\n",
        "    plt.show()\n",
        "\n",
        "# Exclude non-numeric columns\n",
        "numeric_columns = data_cleaned.select_dtypes(include=['float64', 'int64'])\n",
        "\n",
        "# Calculate the correlation matrix for numeric columns only\n",
        "correlation_matrix = numeric_columns.corr()\n",
        "\n",
        "# Plot the correlation heatmap\n",
        "plt.figure(figsize=(12, 8))\n",
        "sns.heatmap(correlation_matrix, annot=True, fmt=\".2f\", cmap=\"coolwarm\")\n",
        "plt.title(\"Correlation Heatmap\")\n",
        "plt.show()\n"
      ],
      "metadata": {
        "colab": {
          "base_uri": "https://localhost:8080/",
          "height": 1000
        },
        "id": "Wj3zSDbICbZK",
        "outputId": "28fd1715-394b-476a-92be-9a230efe46dd"
      },
      "execution_count": 8,
      "outputs": [
        {
          "output_type": "stream",
          "name": "stdout",
          "text": [
            "Dataset Info:\n",
            "<class 'pandas.core.frame.DataFrame'>\n",
            "RangeIndex: 1263393 entries, 0 to 1263392\n",
            "Data columns (total 56 columns):\n",
            " #   Column                   Non-Null Count    Dtype  \n",
            "---  ------                   --------------    -----  \n",
            " 0   Timestamp                1263393 non-null  float64\n",
            " 1   Activation Bool          311385 non-null   float64\n",
            " 2   X Accel (Gs)             311385 non-null   float64\n",
            " 3   Y Accel (Gs)             311385 non-null   float64\n",
            " 4   Z Accel (Gs)             311385 non-null   float64\n",
            " 5   X Accel KF (Gs)          311385 non-null   float64\n",
            " 6   Y Accel KF (Gs)          311385 non-null   float64\n",
            " 7   Z Accel KF (Gs)          311385 non-null   float64\n",
            " 8   Roll (deg)               311385 non-null   float64\n",
            " 9   Pitch (deg)              311385 non-null   float64\n",
            " 10  Yaw (deg)                311385 non-null   float64\n",
            " 11  Source File              1263393 non-null  object \n",
            " 12  Folder                   1263393 non-null  object \n",
            " 13  Speed (km/h)             30969 non-null    float64\n",
            " 14  Latitude                 61760 non-null    float64\n",
            " 15  Longitude                61760 non-null    float64\n",
            " 16  Altitude                 30969 non-null    float64\n",
            " 17  Vertical Accuracy        30969 non-null    float64\n",
            " 18  Horizontal Accuracy      30969 non-null    float64\n",
            " 19  Course (deg)             30969 non-null    float64\n",
            " 20  Course Variation         30969 non-null    float64\n",
            " 21  Position State           30969 non-null    float64\n",
            " 22  Lane Dist State          30969 non-null    float64\n",
            " 23  Lane History             30969 non-null    float64\n",
            " 24  Car Position (m)         735115 non-null   float64\n",
            " 25  Phi                      735115 non-null   float64\n",
            " 26  Road Width (m)           735115 non-null   float64\n",
            " 27  Lane Estimator State     735115 non-null   float64\n",
            " 28  Distance to Vehicle (m)  155133 non-null   float64\n",
            " 29  Impact Time (s)          155133 non-null   float64\n",
            " 30  Vehicle Count            155133 non-null   float64\n",
            " 31  GPS Speed (km/h)         155133 non-null   float64\n",
            " 32  Semantic_Feature_1       30791 non-null    float64\n",
            " 33  Semantic_Feature_2       30791 non-null    float64\n",
            " 34  Semantic_Feature_3       30791 non-null    float64\n",
            " 35  Semantic_Feature_4       30791 non-null    float64\n",
            " 36  Semantic_Feature_5       30791 non-null    float64\n",
            " 37  Semantic_Feature_6       30791 non-null    float64\n",
            " 38  Semantic_Feature_7       30791 non-null    float64\n",
            " 39  Semantic_Feature_8       30791 non-null    float64\n",
            " 40  Semantic_Feature_9       30790 non-null    float64\n",
            " 41  Semantic_Feature_10      30790 non-null    float64\n",
            " 42  Semantic_Feature_11      30790 non-null    float64\n",
            " 43  Semantic_Feature_12      30791 non-null    float64\n",
            " 44  Semantic_Feature_13      30791 non-null    float64\n",
            " 45  Semantic_Feature_14      30791 non-null    float64\n",
            " 46  Semantic_Feature_15      30791 non-null    float64\n",
            " 47  Semantic_Feature_16      30791 non-null    float64\n",
            " 48  Semantic_Feature_17      30791 non-null    float64\n",
            " 49  Semantic_Feature_18      30791 non-null    float64\n",
            " 50  Semantic_Feature_19      30791 non-null    float64\n",
            " 51  Semantic_Feature_20      30791 non-null    float64\n",
            " 52  Semantic_Feature_21      30790 non-null    float64\n",
            " 53  Semantic_Feature_22      30790 non-null    float64\n",
            " 54  Semantic_Feature_23      30790 non-null    float64\n",
            " 55  Semantic_Feature_24      30791 non-null    float64\n",
            "dtypes: float64(54), object(2)\n",
            "memory usage: 539.8+ MB\n",
            "None\n",
            "\n",
            "Summary Statistics:\n",
            "          Timestamp  Activation Bool   X Accel (Gs)   Y Accel (Gs)  \\\n",
            "count  1.263393e+06    311385.000000  311385.000000  311385.000000   \n",
            "mean   4.071986e+02         0.978849      -0.013232      -0.009342   \n",
            "std    2.520784e+02         0.143887       0.039458       0.069286   \n",
            "min    7.000000e-02         0.000000      -0.454000      -0.618000   \n",
            "25%    1.940700e+02         1.000000      -0.034000      -0.019000   \n",
            "50%    3.855600e+02         1.000000      -0.012000      -0.001000   \n",
            "75%    5.931900e+02         1.000000       0.009000       0.017000   \n",
            "max    1.118720e+03         1.000000       0.539000       0.376000   \n",
            "\n",
            "        Z Accel (Gs)  X Accel KF (Gs)  Y Accel KF (Gs)  Z Accel KF (Gs)  \\\n",
            "count  311385.000000    311385.000000    311385.000000    311385.000000   \n",
            "mean       -0.003754        -0.013223        -0.009346        -0.003749   \n",
            "std         0.033065         0.027383         0.067224         0.029434   \n",
            "min        -0.659000        -0.263000        -0.615000        -0.572000   \n",
            "25%        -0.018000        -0.026000        -0.015000        -0.015000   \n",
            "50%        -0.002000        -0.012000         0.000000        -0.002000   \n",
            "75%         0.014000         0.002000         0.014000         0.010000   \n",
            "max         0.248000         0.270000         0.352000         0.186000   \n",
            "\n",
            "          Roll (deg)    Pitch (deg)  ...  Semantic_Feature_15  \\\n",
            "count  311385.000000  311385.000000  ...         30791.000000   \n",
            "mean       -1.556747      -0.011793  ...            85.043253   \n",
            "std         0.038278       0.072740  ...            30.770938   \n",
            "min        -1.896000      -0.461000  ...             0.000000   \n",
            "25%        -1.578000      -0.026000  ...            83.200000   \n",
            "50%        -1.556000      -0.004000  ...           100.000000   \n",
            "75%        -1.534000       0.016000  ...           100.000000   \n",
            "max        -1.219000       0.352000  ...           100.000000   \n",
            "\n",
            "       Semantic_Feature_16  Semantic_Feature_17  Semantic_Feature_18  \\\n",
            "count         30791.000000         30791.000000         30791.000000   \n",
            "mean             81.252778            91.498457            76.682180   \n",
            "std              33.599325            27.453112            20.236561   \n",
            "min               0.000000             0.000000             0.200000   \n",
            "25%              60.600000           100.000000            62.300000   \n",
            "50%             100.000000           100.000000            82.800000   \n",
            "75%             100.000000           100.000000            93.400000   \n",
            "max             100.000000           100.000000           100.000000   \n",
            "\n",
            "       Semantic_Feature_19  Semantic_Feature_20  Semantic_Feature_21  \\\n",
            "count         30791.000000         30791.000000         30790.000000   \n",
            "mean             86.319938            86.754617             0.639760   \n",
            "std              25.388316            29.275063             0.267719   \n",
            "min               0.000000             0.000000             0.000000   \n",
            "25%              86.000000            95.000000             0.424000   \n",
            "50%              98.300000           100.000000             0.702500   \n",
            "75%             100.000000           100.000000             0.856000   \n",
            "max             100.000000           100.000000             1.000000   \n",
            "\n",
            "       Semantic_Feature_22  Semantic_Feature_23  Semantic_Feature_24  \n",
            "count         30790.000000         30790.000000         30791.000000  \n",
            "mean              0.174972             0.187126             0.048293  \n",
            "std               0.189334             0.221667             0.214389  \n",
            "min               0.000000             0.000000             0.000000  \n",
            "25%               0.040000             0.029000             0.000000  \n",
            "50%               0.101000             0.097000             0.000000  \n",
            "75%               0.252000             0.248000             0.000000  \n",
            "max               0.764000             0.938000             1.000000  \n",
            "\n",
            "[8 rows x 54 columns]\n",
            "\n",
            "Missing Values:\n",
            "Timestamp                        0\n",
            "Activation Bool             952008\n",
            "X Accel (Gs)                952008\n",
            "Y Accel (Gs)                952008\n",
            "Z Accel (Gs)                952008\n",
            "X Accel KF (Gs)             952008\n",
            "Y Accel KF (Gs)             952008\n",
            "Z Accel KF (Gs)             952008\n",
            "Roll (deg)                  952008\n",
            "Pitch (deg)                 952008\n",
            "Yaw (deg)                   952008\n",
            "Source File                      0\n",
            "Folder                           0\n",
            "Speed (km/h)               1232424\n",
            "Latitude                   1201633\n",
            "Longitude                  1201633\n",
            "Altitude                   1232424\n",
            "Vertical Accuracy          1232424\n",
            "Horizontal Accuracy        1232424\n",
            "Course (deg)               1232424\n",
            "Course Variation           1232424\n",
            "Position State             1232424\n",
            "Lane Dist State            1232424\n",
            "Lane History               1232424\n",
            "Car Position (m)            528278\n",
            "Phi                         528278\n",
            "Road Width (m)              528278\n",
            "Lane Estimator State        528278\n",
            "Distance to Vehicle (m)    1108260\n",
            "Impact Time (s)            1108260\n",
            "Vehicle Count              1108260\n",
            "GPS Speed (km/h)           1108260\n",
            "Semantic_Feature_1         1232602\n",
            "Semantic_Feature_2         1232602\n",
            "Semantic_Feature_3         1232602\n",
            "Semantic_Feature_4         1232602\n",
            "Semantic_Feature_5         1232602\n",
            "Semantic_Feature_6         1232602\n",
            "Semantic_Feature_7         1232602\n",
            "Semantic_Feature_8         1232602\n",
            "Semantic_Feature_9         1232603\n",
            "Semantic_Feature_10        1232603\n",
            "Semantic_Feature_11        1232603\n",
            "Semantic_Feature_12        1232602\n",
            "Semantic_Feature_13        1232602\n",
            "Semantic_Feature_14        1232602\n",
            "Semantic_Feature_15        1232602\n",
            "Semantic_Feature_16        1232602\n",
            "Semantic_Feature_17        1232602\n",
            "Semantic_Feature_18        1232602\n",
            "Semantic_Feature_19        1232602\n",
            "Semantic_Feature_20        1232602\n",
            "Semantic_Feature_21        1232603\n",
            "Semantic_Feature_22        1232603\n",
            "Semantic_Feature_23        1232603\n",
            "Semantic_Feature_24        1232602\n",
            "dtype: int64\n",
            "\n",
            "Dropped columns: ['Activation Bool', 'X Accel (Gs)', 'Y Accel (Gs)', 'Z Accel (Gs)', 'X Accel KF (Gs)', 'Y Accel KF (Gs)', 'Z Accel KF (Gs)', 'Roll (deg)', 'Pitch (deg)', 'Yaw (deg)', 'Speed (km/h)', 'Latitude', 'Longitude', 'Altitude', 'Vertical Accuracy', 'Horizontal Accuracy', 'Course (deg)', 'Course Variation', 'Position State', 'Lane Dist State', 'Lane History', 'Distance to Vehicle (m)', 'Impact Time (s)', 'Vehicle Count', 'GPS Speed (km/h)', 'Semantic_Feature_1', 'Semantic_Feature_2', 'Semantic_Feature_3', 'Semantic_Feature_4', 'Semantic_Feature_5', 'Semantic_Feature_6', 'Semantic_Feature_7', 'Semantic_Feature_8', 'Semantic_Feature_9', 'Semantic_Feature_10', 'Semantic_Feature_11', 'Semantic_Feature_12', 'Semantic_Feature_13', 'Semantic_Feature_14', 'Semantic_Feature_15', 'Semantic_Feature_16', 'Semantic_Feature_17', 'Semantic_Feature_18', 'Semantic_Feature_19', 'Semantic_Feature_20', 'Semantic_Feature_21', 'Semantic_Feature_22', 'Semantic_Feature_23', 'Semantic_Feature_24']\n",
            "Remaining columns: ['Timestamp', 'Source File', 'Folder', 'Car Position (m)', 'Phi', 'Road Width (m)', 'Lane Estimator State']\n"
          ]
        },
        {
          "output_type": "stream",
          "name": "stderr",
          "text": [
            "<ipython-input-8-92ce86bd7e37>:33: FutureWarning: A value is trying to be set on a copy of a DataFrame or Series through chained assignment using an inplace method.\n",
            "The behavior will change in pandas 3.0. This inplace method will never work because the intermediate object on which we are setting values always behaves as a copy.\n",
            "\n",
            "For example, when doing 'df[col].method(value, inplace=True)', try using 'df.method({col: value}, inplace=True)' or df[col] = df[col].method(value) instead, to perform the operation inplace on the original object.\n",
            "\n",
            "\n",
            "  data_cleaned[column].fillna(data_cleaned[column].mean(), inplace=True)\n",
            "<ipython-input-8-92ce86bd7e37>:35: FutureWarning: A value is trying to be set on a copy of a DataFrame or Series through chained assignment using an inplace method.\n",
            "The behavior will change in pandas 3.0. This inplace method will never work because the intermediate object on which we are setting values always behaves as a copy.\n",
            "\n",
            "For example, when doing 'df[col].method(value, inplace=True)', try using 'df.method({col: value}, inplace=True)' or df[col] = df[col].method(value) instead, to perform the operation inplace on the original object.\n",
            "\n",
            "\n",
            "  data_cleaned[column].fillna(data_cleaned[column].mode()[0], inplace=True)\n"
          ]
        },
        {
          "output_type": "stream",
          "name": "stdout",
          "text": [
            "\n",
            "Missing values after cleaning:\n",
            "Timestamp               0\n",
            "Source File             0\n",
            "Folder                  0\n",
            "Car Position (m)        0\n",
            "Phi                     0\n",
            "Road Width (m)          0\n",
            "Lane Estimator State    0\n",
            "dtype: int64\n",
            "\n",
            "Cleaned dataset saved as 'cleaned_dataset.csv'.\n"
          ]
        },
        {
          "output_type": "display_data",
          "data": {
            "text/plain": [
              "<Figure size 640x480 with 1 Axes>"
            ],
            "image/png": "[encoded data removed]"
          },
          "metadata": {}
        },
        {
          "output_type": "display_data",
          "data": {
            "text/plain": [
              "<Figure size 640x480 with 1 Axes>"
            ],
            "image/png": "[encoded data removed]"
          },
          "metadata": {}
        },
        {
          "output_type": "display_data",
          "data": {
            "text/plain": [
              "<Figure size 640x480 with 1 Axes>"
            ],
            "image/png": "[encoded data removed]"
          },
          "metadata": {}
        },
        {
          "output_type": "display_data",
          "data": {
            "text/plain": [
              "<Figure size 640x480 with 1 Axes>"
            ],
            "image/png": "[encoded data removed]"
          },
          "metadata": {}
        },
        {
          "output_type": "display_data",
          "data": {
            "text/plain": [
              "<Figure size 640x480 with 1 Axes>"
            ],
            "image/png": "[encoded data removed]"
          },
          "metadata": {}
        },
        {
          "output_type": "display_data",
          "data": {
            "text/plain": [
              "<Figure size 1200x800 with 2 Axes>"
            ],
            "image/png": "[encoded data removed]"
          },
          "metadata": {}
        }
      ]
    },
    {
      "cell_type": "code",
      "source": [
        "import pandas as pd\n",
        "import os\n",
        "\n",
        "# Load the original dataset with all columns\n",
        "data_original = pd.read_csv('processed_dataset.csv')  # Replace with your original dataset file path\n",
        "\n",
        "# Define the columns to retain\n",
        "columns_to_keep = [\n",
        "    'Timestamp', 'Activation Bool', 'X Accel (Gs)', 'Y Accel (Gs)', 'Z Accel (Gs)',\n",
        "    'X Accel KF (Gs)', 'Y Accel KF (Gs)', 'Z Accel KF (Gs)',\n",
        "    'Roll (deg)', 'Pitch (deg)', 'Yaw (deg)', 'Speed (km/h)', 'GPS Speed (km/h)',\n",
        "    'Distance to Vehicle (m)', 'Impact Time (s)', 'Car Position (m)', 'Phi', 'Road Width (m)',\n",
        "    'Lane Estimator State', 'Source File', 'Folder'\n",
        "]\n",
        "\n",
        "# Filter the dataset for only the relevant columns\n",
        "data_filtered = data_original[columns_to_keep]\n",
        "\n",
        "# Extract labels (Normal, Aggressive, Drowsy) from the Folder column\n",
        "def extract_behavior_label(folder_path):\n",
        "    try:\n",
        "        # Split by \"/\" or \"\\\\\" and extract the part containing the behavior label\n",
        "        filename = os.path.basename(folder_path)  # Extract the file name from the full path\n",
        "        label = filename.split('-')[-2].upper()  # Extract the second-to-last part of the file name\n",
        "        if label in ['NORMAL', 'AGGRESSIVE', 'DROWSY']:\n",
        "            return label\n",
        "        else:\n",
        "            return None  # Handle unexpected cases\n",
        "    except Exception as e:\n",
        "        print(f\"Error extracting label from path {folder_path}: {e}\")\n",
        "        return None\n",
        "\n",
        "# Apply the extraction function to create the Behavior Label column\n",
        "data_filtered['Behavior Label'] = data_filtered['Folder'].apply(extract_behavior_label)\n",
        "\n",
        "# Drop rows where the Behavior Label could not be identified\n",
        "data_filtered = data_filtered.dropna(subset=['Behavior Label'])\n",
        "\n",
        "# Handle missing values for each column\n",
        "for column in data_filtered.columns:\n",
        "    if data_filtered[column].dtype == 'object':  # Categorical/Text columns\n",
        "        data_filtered[column].fillna(data_filtered[column].mode()[0], inplace=True)\n",
        "    else:  # Numerical columns\n",
        "        data_filtered[column].fillna(data_filtered[column].mean(), inplace=True)\n",
        "\n",
        "# Save the cleaned and labeled dataset\n",
        "data_filtered.to_csv('labeled_cleaned_dataset.csv', index=False)\n",
        "\n",
        "print(\"Dataset prepared with behavior labels and saved as 'labeled_cleaned_dataset.csv'. Here's a preview:\")\n",
        "print(data_filtered.head())\n"
      ],
      "metadata": {
        "colab": {
          "base_uri": "https://localhost:8080/"
        },
        "id": "oTaSbgg_JsK4",
        "outputId": "cc6969c8-5646-4ddb-b4c1-d266ba071e2c"
      },
      "execution_count": 9,
      "outputs": [
        {
          "output_type": "stream",
          "name": "stderr",
          "text": [
            "<ipython-input-9-3ca729869582>:34: SettingWithCopyWarning: \n",
            "A value is trying to be set on a copy of a slice from a DataFrame.\n",
            "Try using .loc[row_indexer,col_indexer] = value instead\n",
            "\n",
            "See the caveats in the documentation: https://pandas.pydata.org/pandas-docs/stable/user_guide/indexing.html#returning-a-view-versus-a-copy\n",
            "  data_filtered['Behavior Label'] = data_filtered['Folder'].apply(extract_behavior_label)\n",
            "<ipython-input-9-3ca729869582>:44: FutureWarning: A value is trying to be set on a copy of a DataFrame or Series through chained assignment using an inplace method.\n",
            "The behavior will change in pandas 3.0. This inplace method will never work because the intermediate object on which we are setting values always behaves as a copy.\n",
            "\n",
            "For example, when doing 'df[col].method(value, inplace=True)', try using 'df.method({col: value}, inplace=True)' or df[col] = df[col].method(value) instead, to perform the operation inplace on the original object.\n",
            "\n",
            "\n",
            "  data_filtered[column].fillna(data_filtered[column].mean(), inplace=True)\n",
            "<ipython-input-9-3ca729869582>:44: SettingWithCopyWarning: \n",
            "A value is trying to be set on a copy of a slice from a DataFrame\n",
            "\n",
            "See the caveats in the documentation: https://pandas.pydata.org/pandas-docs/stable/user_guide/indexing.html#returning-a-view-versus-a-copy\n",
            "  data_filtered[column].fillna(data_filtered[column].mean(), inplace=True)\n",
            "<ipython-input-9-3ca729869582>:42: FutureWarning: A value is trying to be set on a copy of a DataFrame or Series through chained assignment using an inplace method.\n",
            "The behavior will change in pandas 3.0. This inplace method will never work because the intermediate object on which we are setting values always behaves as a copy.\n",
            "\n",
            "For example, when doing 'df[col].method(value, inplace=True)', try using 'df.method({col: value}, inplace=True)' or df[col] = df[col].method(value) instead, to perform the operation inplace on the original object.\n",
            "\n",
            "\n",
            "  data_filtered[column].fillna(data_filtered[column].mode()[0], inplace=True)\n"
          ]
        },
        {
          "output_type": "stream",
          "name": "stdout",
          "text": [
            "Dataset prepared with behavior labels and saved as 'labeled_cleaned_dataset.csv'. Here's a preview:\n",
            "       Timestamp  Activation Bool  X Accel (Gs)  Y Accel (Gs)  Z Accel (Gs)  \\\n",
            "53005       0.69              0.0         0.066          0.12         0.033   \n",
            "53006       0.69              0.0         0.083          0.15         0.049   \n",
            "53007       0.70              0.0         0.083          0.15         0.049   \n",
            "53008       0.70              0.0         0.083          0.15         0.049   \n",
            "53009       0.70              0.0         0.083          0.15         0.049   \n",
            "\n",
            "       X Accel KF (Gs)  Y Accel KF (Gs)  Z Accel KF (Gs)  Roll (deg)  \\\n",
            "53005            0.012            0.022            0.006      -1.487   \n",
            "53006            0.049            0.088            0.028      -1.652   \n",
            "53007            0.070            0.126            0.041      -1.652   \n",
            "53008            0.078            0.141            0.046      -1.652   \n",
            "53009            0.081            0.147            0.048      -1.652   \n",
            "\n",
            "       Pitch (deg)  ...  GPS Speed (km/h)  Distance to Vehicle (m)  \\\n",
            "53005       -0.223  ...         95.873605                15.415012   \n",
            "53006       -0.248  ...         95.873605                15.415012   \n",
            "53007       -0.248  ...         95.873605                15.415012   \n",
            "53008       -0.248  ...         95.873605                15.415012   \n",
            "53009       -0.248  ...         95.873605                15.415012   \n",
            "\n",
            "       Impact Time (s)  Car Position (m)       Phi  Road Width (m)  \\\n",
            "53005         0.052581         -0.058577 -0.056203        2.979821   \n",
            "53006         0.052581         -0.058577 -0.056203        2.979821   \n",
            "53007         0.052581         -0.058577 -0.056203        2.979821   \n",
            "53008         0.052581         -0.058577 -0.056203        2.979821   \n",
            "53009         0.052581         -0.058577 -0.056203        2.979821   \n",
            "\n",
            "       Lane Estimator State             Source File  \\\n",
            "53005              1.703611  RAW_ACCELEROMETERS.txt   \n",
            "53006              1.703611  RAW_ACCELEROMETERS.txt   \n",
            "53007              1.703611  RAW_ACCELEROMETERS.txt   \n",
            "53008              1.703611  RAW_ACCELEROMETERS.txt   \n",
            "53009              1.703611  RAW_ACCELEROMETERS.txt   \n",
            "\n",
            "                                                  Folder Behavior Label  \n",
            "53005  /content/drive/MyDrive/UAH-DRIVESET-v1/D1/2015...         NORMAL  \n",
            "53006  /content/drive/MyDrive/UAH-DRIVESET-v1/D1/2015...         NORMAL  \n",
            "53007  /content/drive/MyDrive/UAH-DRIVESET-v1/D1/2015...         NORMAL  \n",
            "53008  /content/drive/MyDrive/UAH-DRIVESET-v1/D1/2015...         NORMAL  \n",
            "53009  /content/drive/MyDrive/UAH-DRIVESET-v1/D1/2015...         NORMAL  \n",
            "\n",
            "[5 rows x 22 columns]\n"
          ]
        }
      ]
    },
    {
      "cell_type": "code",
      "source": [
        "import pandas as pd\n",
        "import os\n",
        "\n",
        "# Load the original dataset\n",
        "data_original = pd.read_csv('processed_dataset.csv')  # Replace with your original dataset file path\n",
        "\n",
        "# Define the columns to retain\n",
        "columns_to_keep = [\n",
        "    'Timestamp', 'Activation Bool', 'X Accel (Gs)', 'Y Accel (Gs)', 'Z Accel (Gs)',\n",
        "    'X Accel KF (Gs)', 'Y Accel KF (Gs)', 'Z Accel KF (Gs)',\n",
        "    'Roll (deg)', 'Pitch (deg)', 'Yaw (deg)', 'Speed (km/h)', 'GPS Speed (km/h)',\n",
        "    'Distance to Vehicle (m)', 'Impact Time (s)', 'Car Position (m)', 'Phi', 'Road Width (m)',\n",
        "    'Lane Estimator State', 'Source File', 'Folder'\n",
        "]\n",
        "\n",
        "# Filter the dataset for only the relevant columns\n",
        "data_filtered = data_original.loc[:, columns_to_keep]\n",
        "\n",
        "# Extract labels (Normal, Aggressive, Drowsy) from the Folder column\n",
        "def extract_behavior_label(folder_path):\n",
        "    try:\n",
        "        # Extract the part containing the behavior label\n",
        "        filename = os.path.basename(folder_path)  # Extract the file name from the full path\n",
        "        label = filename.split('-')[-2].upper()  # Extract the second-to-last part of the file name\n",
        "        if label in ['NORMAL', 'AGGRESSIVE', 'DROWSY']:\n",
        "            return label\n",
        "        else:\n",
        "            return None\n",
        "    except Exception as e:\n",
        "        print(f\"Error extracting label from path {folder_path}: {e}\")\n",
        "        return None\n",
        "\n",
        "# Apply the extraction function\n",
        "data_filtered['Behavior Label'] = data_filtered['Folder'].apply(extract_behavior_label)\n",
        "\n",
        "# Drop rows where the Behavior Label could not be identified\n",
        "data_filtered = data_filtered.dropna(subset=['Behavior Label'])\n",
        "\n",
        "# Handle missing values for each column\n",
        "for column in data_filtered.columns:\n",
        "    if data_filtered[column].dtype == 'object':  # Categorical/Text columns\n",
        "        mode_value = data_filtered[column].mode()[0]\n",
        "        data_filtered.loc[:, column] = data_filtered[column].fillna(mode_value)\n",
        "    else:  # Numerical columns\n",
        "        mean_value = data_filtered[column].mean()\n",
        "        data_filtered.loc[:, column] = data_filtered[column].fillna(mean_value)\n",
        "\n",
        "# Save the cleaned and labeled dataset\n",
        "data_filtered.to_csv('labeled_cleaned_dataset.csv', index=False)\n",
        "\n",
        "print(\"Dataset prepared with behavior labels and saved as 'labeled_cleaned_dataset.csv'. Here's a preview:\")\n",
        "print(data_filtered.head())\n"
      ],
      "metadata": {
        "colab": {
          "base_uri": "https://localhost:8080/"
        },
        "id": "CYz7o7IdTWGY",
        "outputId": "44cd1e08-e61d-404b-c457-f6b3a67a68e6"
      },
      "execution_count": 10,
      "outputs": [
        {
          "output_type": "stream",
          "name": "stdout",
          "text": [
            "Dataset prepared with behavior labels and saved as 'labeled_cleaned_dataset.csv'. Here's a preview:\n",
            "       Timestamp  Activation Bool  X Accel (Gs)  Y Accel (Gs)  Z Accel (Gs)  \\\n",
            "53005       0.69              0.0         0.066          0.12         0.033   \n",
            "53006       0.69              0.0         0.083          0.15         0.049   \n",
            "53007       0.70              0.0         0.083          0.15         0.049   \n",
            "53008       0.70              0.0         0.083          0.15         0.049   \n",
            "53009       0.70              0.0         0.083          0.15         0.049   \n",
            "\n",
            "       X Accel KF (Gs)  Y Accel KF (Gs)  Z Accel KF (Gs)  Roll (deg)  \\\n",
            "53005            0.012            0.022            0.006      -1.487   \n",
            "53006            0.049            0.088            0.028      -1.652   \n",
            "53007            0.070            0.126            0.041      -1.652   \n",
            "53008            0.078            0.141            0.046      -1.652   \n",
            "53009            0.081            0.147            0.048      -1.652   \n",
            "\n",
            "       Pitch (deg)  ...  GPS Speed (km/h)  Distance to Vehicle (m)  \\\n",
            "53005       -0.223  ...         95.873605                15.415012   \n",
            "53006       -0.248  ...         95.873605                15.415012   \n",
            "53007       -0.248  ...         95.873605                15.415012   \n",
            "53008       -0.248  ...         95.873605                15.415012   \n",
            "53009       -0.248  ...         95.873605                15.415012   \n",
            "\n",
            "       Impact Time (s)  Car Position (m)       Phi  Road Width (m)  \\\n",
            "53005         0.052581         -0.058577 -0.056203        2.979821   \n",
            "53006         0.052581         -0.058577 -0.056203        2.979821   \n",
            "53007         0.052581         -0.058577 -0.056203        2.979821   \n",
            "53008         0.052581         -0.058577 -0.056203        2.979821   \n",
            "53009         0.052581         -0.058577 -0.056203        2.979821   \n",
            "\n",
            "       Lane Estimator State             Source File  \\\n",
            "53005              1.703611  RAW_ACCELEROMETERS.txt   \n",
            "53006              1.703611  RAW_ACCELEROMETERS.txt   \n",
            "53007              1.703611  RAW_ACCELEROMETERS.txt   \n",
            "53008              1.703611  RAW_ACCELEROMETERS.txt   \n",
            "53009              1.703611  RAW_ACCELEROMETERS.txt   \n",
            "\n",
            "                                                  Folder Behavior Label  \n",
            "53005  /content/drive/MyDrive/UAH-DRIVESET-v1/D1/2015...         NORMAL  \n",
            "53006  /content/drive/MyDrive/UAH-DRIVESET-v1/D1/2015...         NORMAL  \n",
            "53007  /content/drive/MyDrive/UAH-DRIVESET-v1/D1/2015...         NORMAL  \n",
            "53008  /content/drive/MyDrive/UAH-DRIVESET-v1/D1/2015...         NORMAL  \n",
            "53009  /content/drive/MyDrive/UAH-DRIVESET-v1/D1/2015...         NORMAL  \n",
            "\n",
            "[5 rows x 22 columns]\n"
          ]
        }
      ]
    },
    {
      "cell_type": "code",
      "source": [
        "from sklearn.model_selection import train_test_split\n",
        "from sklearn.preprocessing import StandardScaler, LabelEncoder\n",
        "import numpy as np\n",
        "\n",
        "# Load the prepared dataset\n",
        "data = pd.read_csv('labeled_cleaned_dataset.csv')\n",
        "\n",
        "# Separate features and labels\n",
        "X = data.drop(columns=['Behavior Label', 'Source File', 'Folder'])  # Features\n",
        "y = data['Behavior Label']  # Labels\n",
        "\n",
        "# Encode labels (e.g., NORMAL -> 0, AGGRESSIVE -> 1, DROWSY -> 2)\n",
        "label_encoder = LabelEncoder()\n",
        "y_encoded = label_encoder.fit_transform(y)\n",
        "\n",
        "# Normalize the numerical features\n",
        "scaler = StandardScaler()\n",
        "X_scaled = scaler.fit_transform(X)\n",
        "\n",
        "# Split the dataset into training and testing sets (80% train, 20% test)\n",
        "X_train, X_test, y_train, y_test = train_test_split(X_scaled, y_encoded, test_size=0.2, random_state=42, stratify=y_encoded)\n",
        "\n",
        "# Save the processed data for modeling\n",
        "np.savez('processed_data.npz', X_train=X_train, X_test=X_test, y_train=y_train, y_test=y_test)\n",
        "\n",
        "print(\"Data preprocessing complete. Saved processed data as 'processed_data.npz'.\")\n",
        "print(f\"Training set size: {len(X_train)}, Testing set size: {len(X_test)}\")\n"
      ],
      "metadata": {
        "colab": {
          "base_uri": "https://localhost:8080/"
        },
        "id": "POnPLCO0UMXf",
        "outputId": "52cd4992-a7be-45d1-fde9-bc35b4e0908e"
      },
      "execution_count": 11,
      "outputs": [
        {
          "output_type": "stream",
          "name": "stdout",
          "text": [
            "Data preprocessing complete. Saved processed data as 'processed_data.npz'.\n",
            "Training set size: 785228, Testing set size: 196307\n"
          ]
        }
      ]
    },
    {
      "cell_type": "code",
      "source": [
        "import tensorflow as tf\n",
        "from tensorflow.keras.models import Sequential\n",
        "from tensorflow.keras.layers import Dense, Dropout\n",
        "from tensorflow.keras.callbacks import EarlyStopping\n",
        "import numpy as np\n",
        "\n",
        "# Load the processed data\n",
        "data = np.load('processed_data.npz')\n",
        "X_train, X_test, y_train, y_test = data['X_train'], data['X_test'], data['y_train'], data['y_test']\n",
        "\n",
        "# Define the neural network architecture\n",
        "model = Sequential([\n",
        "    Dense(784, activation='relu', input_shape=(X_train.shape[1],)),  # Input layer\n",
        "    Dense(32, activation='relu'),  # Hidden layer 1\n",
        "    Dropout(0.3),  # Dropout for regularization\n",
        "    Dense(16, activation='relu'),  # Hidden layer 2\n",
        "    Dropout(0.3),  # Dropout for regularization\n",
        "    Dense(3, activation='softmax')  # Output layer for 3-class classification\n",
        "])\n",
        "\n",
        "# Compile the model\n",
        "model.compile(\n",
        "    optimizer='adam',  # Optimizer for loss function optimization\n",
        "    loss='sparse_categorical_crossentropy',  # Loss function for multi-class classification\n",
        "    metrics=['accuracy']  # Metrics to monitor during training\n",
        ")\n",
        "\n",
        "# Early stopping to prevent overfitting\n",
        "early_stopping = EarlyStopping(monitor='val_loss', patience=5, restore_best_weights=True)\n",
        "\n",
        "# Train the model\n",
        "history = model.fit(\n",
        "    X_train, y_train,\n",
        "    epochs=50,  # Maximum number of epochs\n",
        "    batch_size=128,  # Mini-batch size\n",
        "    validation_split=0.2,  # Use 20% of the training data for validation\n",
        "    callbacks=[early_stopping],  # Add early stopping\n",
        "    verbose=1  # Show training progress\n",
        ")\n",
        "\n",
        "# Evaluate the model on the test set\n",
        "test_loss, test_accuracy = model.evaluate(X_test, y_test, verbose=1)\n",
        "print(f\"Test Accuracy: {test_accuracy * 100:.2f}%\")\n",
        "print(f\"Test Loss: {test_loss:.4f}\")\n",
        "\n",
        "# Save the model for future use\n",
        "model.save('driver_behavior_model.h5')\n",
        "print(\"Model saved as 'driver_behavior_model.h5'.\")\n"
      ],
      "metadata": {
        "colab": {
          "base_uri": "https://localhost:8080/"
        },
        "id": "IJMw1CuUXE3R",
        "outputId": "f4109512-1d33-4153-ae6f-931405e1fd9d"
      },
      "execution_count": 12,
      "outputs": [
        {
          "output_type": "stream",
          "name": "stderr",
          "text": [
            "/usr/local/lib/python3.10/dist-packages/keras/src/layers/core/dense.py:87: UserWarning: Do not pass an `input_shape`/`input_dim` argument to a layer. When using Sequential models, prefer using an `Input(shape)` object as the first layer in the model instead.\n",
            "  super().__init__(activity_regularizer=activity_regularizer, **kwargs)\n"
          ]
        },
        {
          "output_type": "stream",
          "name": "stdout",
          "text": [
            "Epoch 1/50\n",
            "\u001b[1m4908/4908\u001b[0m \u001b[32m━━━━━━━━━━━━━━━━━━━━\u001b[0m\u001b[37m\u001b[0m \u001b[1m28s\u001b[0m 5ms/step - accuracy: 0.5380 - loss: 0.9462 - val_accuracy: 0.6293 - val_loss: 0.8116\n",
            "Epoch 2/50\n",
            "\u001b[1m4908/4908\u001b[0m \u001b[32m━━━━━━━━━━━━━━━━━━━━\u001b[0m\u001b[37m\u001b[0m \u001b[1m30s\u001b[0m 6ms/step - accuracy: 0.6102 - loss: 0.8444 - val_accuracy: 0.6419 - val_loss: 0.7839\n",
            "Epoch 3/50\n",
            "\u001b[1m4908/4908\u001b[0m \u001b[32m━━━━━━━━━━━━━━━━━━━━\u001b[0m\u001b[37m\u001b[0m \u001b[1m41s\u001b[0m 6ms/step - accuracy: 0.6237 - loss: 0.8187 - val_accuracy: 0.6495 - val_loss: 0.7651\n",
            "Epoch 4/50\n",
            "\u001b[1m4908/4908\u001b[0m \u001b[32m━━━━━━━━━━━━━━━━━━━━\u001b[0m\u001b[37m\u001b[0m \u001b[1m37s\u001b[0m 5ms/step - accuracy: 0.6322 - loss: 0.8021 - val_accuracy: 0.6556 - val_loss: 0.7526\n",
            "Epoch 5/50\n",
            "\u001b[1m4908/4908\u001b[0m \u001b[32m━━━━━━━━━━━━━━━━━━━━\u001b[0m\u001b[37m\u001b[0m \u001b[1m28s\u001b[0m 6ms/step - accuracy: 0.6379 - loss: 0.7905 - val_accuracy: 0.6628 - val_loss: 0.7401\n",
            "Epoch 6/50\n",
            "\u001b[1m4908/4908\u001b[0m \u001b[32m━━━━━━━━━━━━━━━━━━━━\u001b[0m\u001b[37m\u001b[0m \u001b[1m37s\u001b[0m 5ms/step - accuracy: 0.6438 - loss: 0.7811 - val_accuracy: 0.6666 - val_loss: 0.7301\n",
            "Epoch 7/50\n",
            "\u001b[1m4908/4908\u001b[0m \u001b[32m━━━━━━━━━━━━━━━━━━━━\u001b[0m\u001b[37m\u001b[0m \u001b[1m27s\u001b[0m 6ms/step - accuracy: 0.6450 - loss: 0.7733 - val_accuracy: 0.6678 - val_loss: 0.7265\n",
            "Epoch 8/50\n",
            "\u001b[1m4908/4908\u001b[0m \u001b[32m━━━━━━━━━━━━━━━━━━━━\u001b[0m\u001b[37m\u001b[0m \u001b[1m39s\u001b[0m 5ms/step - accuracy: 0.6485 - loss: 0.7662 - val_accuracy: 0.6730 - val_loss: 0.7159\n",
            "Epoch 9/50\n",
            "\u001b[1m4908/4908\u001b[0m \u001b[32m━━━━━━━━━━━━━━━━━━━━\u001b[0m\u001b[37m\u001b[0m \u001b[1m24s\u001b[0m 5ms/step - accuracy: 0.6497 - loss: 0.7620 - val_accuracy: 0.6732 - val_loss: 0.7108\n",
            "Epoch 10/50\n",
            "\u001b[1m4908/4908\u001b[0m \u001b[32m━━━━━━━━━━━━━━━━━━━━\u001b[0m\u001b[37m\u001b[0m \u001b[1m24s\u001b[0m 5ms/step - accuracy: 0.6531 - loss: 0.7537 - val_accuracy: 0.6722 - val_loss: 0.7091\n",
            "Epoch 11/50\n",
            "\u001b[1m4908/4908\u001b[0m \u001b[32m━━━━━━━━━━━━━━━━━━━━\u001b[0m\u001b[37m\u001b[0m \u001b[1m24s\u001b[0m 5ms/step - accuracy: 0.6545 - loss: 0.7517 - val_accuracy: 0.6754 - val_loss: 0.7038\n",
            "Epoch 12/50\n",
            "\u001b[1m4908/4908\u001b[0m \u001b[32m━━━━━━━━━━━━━━━━━━━━\u001b[0m\u001b[37m\u001b[0m \u001b[1m25s\u001b[0m 5ms/step - accuracy: 0.6576 - loss: 0.7442 - val_accuracy: 0.6799 - val_loss: 0.6983\n",
            "Epoch 13/50\n",
            "\u001b[1m4908/4908\u001b[0m \u001b[32m━━━━━━━━━━━━━━━━━━━━\u001b[0m\u001b[37m\u001b[0m \u001b[1m39s\u001b[0m 5ms/step - accuracy: 0.6597 - loss: 0.7416 - val_accuracy: 0.6793 - val_loss: 0.6941\n",
            "Epoch 14/50\n",
            "\u001b[1m4908/4908\u001b[0m \u001b[32m━━━━━━━━━━━━━━━━━━━━\u001b[0m\u001b[37m\u001b[0m \u001b[1m41s\u001b[0m 5ms/step - accuracy: 0.6613 - loss: 0.7373 - val_accuracy: 0.6871 - val_loss: 0.6878\n",
            "Epoch 15/50\n",
            "\u001b[1m4908/4908\u001b[0m \u001b[32m━━━━━━━━━━━━━━━━━━━━\u001b[0m\u001b[37m\u001b[0m \u001b[1m43s\u001b[0m 5ms/step - accuracy: 0.6634 - loss: 0.7335 - val_accuracy: 0.6830 - val_loss: 0.6900\n",
            "Epoch 16/50\n",
            "\u001b[1m4908/4908\u001b[0m \u001b[32m━━━━━━━━━━━━━━━━━━━━\u001b[0m\u001b[37m\u001b[0m \u001b[1m40s\u001b[0m 5ms/step - accuracy: 0.6640 - loss: 0.7315 - val_accuracy: 0.6843 - val_loss: 0.6827\n",
            "Epoch 17/50\n",
            "\u001b[1m4908/4908\u001b[0m \u001b[32m━━━━━━━━━━━━━━━━━━━━\u001b[0m\u001b[37m\u001b[0m \u001b[1m22s\u001b[0m 5ms/step - accuracy: 0.6641 - loss: 0.7297 - val_accuracy: 0.6877 - val_loss: 0.6792\n",
            "Epoch 18/50\n",
            "\u001b[1m4908/4908\u001b[0m \u001b[32m━━━━━━━━━━━━━━━━━━━━\u001b[0m\u001b[37m\u001b[0m \u001b[1m42s\u001b[0m 5ms/step - accuracy: 0.6645 - loss: 0.7263 - val_accuracy: 0.6881 - val_loss: 0.6840\n",
            "Epoch 19/50\n",
            "\u001b[1m4908/4908\u001b[0m \u001b[32m━━━━━━━━━━━━━━━━━━━━\u001b[0m\u001b[37m\u001b[0m \u001b[1m43s\u001b[0m 5ms/step - accuracy: 0.6660 - loss: 0.7244 - val_accuracy: 0.6894 - val_loss: 0.6752\n",
            "Epoch 20/50\n",
            "\u001b[1m4908/4908\u001b[0m \u001b[32m━━━━━━━━━━━━━━━━━━━━\u001b[0m\u001b[37m\u001b[0m \u001b[1m23s\u001b[0m 5ms/step - accuracy: 0.6681 - loss: 0.7217 - val_accuracy: 0.6930 - val_loss: 0.6733\n",
            "Epoch 21/50\n",
            "\u001b[1m4908/4908\u001b[0m \u001b[32m━━━━━━━━━━━━━━━━━━━━\u001b[0m\u001b[37m\u001b[0m \u001b[1m23s\u001b[0m 5ms/step - accuracy: 0.6695 - loss: 0.7188 - val_accuracy: 0.6877 - val_loss: 0.6755\n",
            "Epoch 22/50\n",
            "\u001b[1m4908/4908\u001b[0m \u001b[32m━━━━━━━━━━━━━━━━━━━━\u001b[0m\u001b[37m\u001b[0m \u001b[1m45s\u001b[0m 5ms/step - accuracy: 0.6701 - loss: 0.7170 - val_accuracy: 0.6877 - val_loss: 0.6761\n",
            "Epoch 23/50\n",
            "\u001b[1m4908/4908\u001b[0m \u001b[32m━━━━━━━━━━━━━━━━━━━━\u001b[0m\u001b[37m\u001b[0m \u001b[1m39s\u001b[0m 5ms/step - accuracy: 0.6694 - loss: 0.7163 - val_accuracy: 0.6916 - val_loss: 0.6712\n",
            "Epoch 24/50\n",
            "\u001b[1m4908/4908\u001b[0m \u001b[32m━━━━━━━━━━━━━━━━━━━━\u001b[0m\u001b[37m\u001b[0m \u001b[1m22s\u001b[0m 5ms/step - accuracy: 0.6720 - loss: 0.7135 - val_accuracy: 0.6933 - val_loss: 0.6689\n",
            "Epoch 25/50\n",
            "\u001b[1m4908/4908\u001b[0m \u001b[32m━━━━━━━━━━━━━━━━━━━━\u001b[0m\u001b[37m\u001b[0m \u001b[1m42s\u001b[0m 5ms/step - accuracy: 0.6724 - loss: 0.7108 - val_accuracy: 0.6953 - val_loss: 0.6637\n",
            "Epoch 26/50\n",
            "\u001b[1m4908/4908\u001b[0m \u001b[32m━━━━━━━━━━━━━━━━━━━━\u001b[0m\u001b[37m\u001b[0m \u001b[1m46s\u001b[0m 6ms/step - accuracy: 0.6726 - loss: 0.7094 - val_accuracy: 0.6929 - val_loss: 0.6665\n",
            "Epoch 27/50\n",
            "\u001b[1m4908/4908\u001b[0m \u001b[32m━━━━━━━━━━━━━━━━━━━━\u001b[0m\u001b[37m\u001b[0m \u001b[1m24s\u001b[0m 5ms/step - accuracy: 0.6737 - loss: 0.7086 - val_accuracy: 0.6956 - val_loss: 0.6631\n",
            "Epoch 28/50\n",
            "\u001b[1m4908/4908\u001b[0m \u001b[32m━━━━━━━━━━━━━━━━━━━━\u001b[0m\u001b[37m\u001b[0m \u001b[1m24s\u001b[0m 5ms/step - accuracy: 0.6738 - loss: 0.7066 - val_accuracy: 0.6994 - val_loss: 0.6629\n",
            "Epoch 29/50\n",
            "\u001b[1m4908/4908\u001b[0m \u001b[32m━━━━━━━━━━━━━━━━━━━━\u001b[0m\u001b[37m\u001b[0m \u001b[1m28s\u001b[0m 6ms/step - accuracy: 0.6748 - loss: 0.7056 - val_accuracy: 0.6955 - val_loss: 0.6643\n",
            "Epoch 30/50\n",
            "\u001b[1m4908/4908\u001b[0m \u001b[32m━━━━━━━━━━━━━━━━━━━━\u001b[0m\u001b[37m\u001b[0m \u001b[1m44s\u001b[0m 6ms/step - accuracy: 0.6758 - loss: 0.7042 - val_accuracy: 0.6984 - val_loss: 0.6557\n",
            "Epoch 31/50\n",
            "\u001b[1m4908/4908\u001b[0m \u001b[32m━━━━━━━━━━━━━━━━━━━━\u001b[0m\u001b[37m\u001b[0m \u001b[1m36s\u001b[0m 5ms/step - accuracy: 0.6761 - loss: 0.7021 - val_accuracy: 0.6983 - val_loss: 0.6566\n",
            "Epoch 32/50\n",
            "\u001b[1m4908/4908\u001b[0m \u001b[32m━━━━━━━━━━━━━━━━━━━━\u001b[0m\u001b[37m\u001b[0m \u001b[1m40s\u001b[0m 5ms/step - accuracy: 0.6763 - loss: 0.7007 - val_accuracy: 0.6999 - val_loss: 0.6537\n",
            "Epoch 33/50\n",
            "\u001b[1m4908/4908\u001b[0m \u001b[32m━━━━━━━━━━━━━━━━━━━━\u001b[0m\u001b[37m\u001b[0m \u001b[1m25s\u001b[0m 5ms/step - accuracy: 0.6768 - loss: 0.6997 - val_accuracy: 0.7006 - val_loss: 0.6541\n",
            "Epoch 34/50\n",
            "\u001b[1m4908/4908\u001b[0m \u001b[32m━━━━━━━━━━━━━━━━━━━━\u001b[0m\u001b[37m\u001b[0m \u001b[1m30s\u001b[0m 6ms/step - accuracy: 0.6791 - loss: 0.6992 - val_accuracy: 0.6993 - val_loss: 0.6515\n",
            "Epoch 35/50\n",
            "\u001b[1m4908/4908\u001b[0m \u001b[32m━━━━━━━━━━━━━━━━━━━━\u001b[0m\u001b[37m\u001b[0m \u001b[1m39s\u001b[0m 6ms/step - accuracy: 0.6784 - loss: 0.6972 - val_accuracy: 0.7018 - val_loss: 0.6531\n",
            "Epoch 36/50\n",
            "\u001b[1m4908/4908\u001b[0m \u001b[32m━━━━━━━━━━━━━━━━━━━━\u001b[0m\u001b[37m\u001b[0m \u001b[1m27s\u001b[0m 5ms/step - accuracy: 0.6783 - loss: 0.6979 - val_accuracy: 0.6989 - val_loss: 0.6545\n",
            "Epoch 37/50\n",
            "\u001b[1m4908/4908\u001b[0m \u001b[32m━━━━━━━━━━━━━━━━━━━━\u001b[0m\u001b[37m\u001b[0m \u001b[1m30s\u001b[0m 6ms/step - accuracy: 0.6801 - loss: 0.6936 - val_accuracy: 0.7029 - val_loss: 0.6483\n",
            "Epoch 38/50\n",
            "\u001b[1m4908/4908\u001b[0m \u001b[32m━━━━━━━━━━━━━━━━━━━━\u001b[0m\u001b[37m\u001b[0m \u001b[1m40s\u001b[0m 6ms/step - accuracy: 0.6797 - loss: 0.6950 - val_accuracy: 0.7040 - val_loss: 0.6462\n",
            "Epoch 39/50\n",
            "\u001b[1m4908/4908\u001b[0m \u001b[32m━━━━━━━━━━━━━━━━━━━━\u001b[0m\u001b[37m\u001b[0m \u001b[1m25s\u001b[0m 5ms/step - accuracy: 0.6811 - loss: 0.6913 - val_accuracy: 0.7026 - val_loss: 0.6484\n",
            "Epoch 40/50\n",
            "\u001b[1m4908/4908\u001b[0m \u001b[32m━━━━━━━━━━━━━━━━━━━━\u001b[0m\u001b[37m\u001b[0m \u001b[1m25s\u001b[0m 5ms/step - accuracy: 0.6809 - loss: 0.6930 - val_accuracy: 0.7044 - val_loss: 0.6440\n",
            "Epoch 41/50\n",
            "\u001b[1m4908/4908\u001b[0m \u001b[32m━━━━━━━━━━━━━━━━━━━━\u001b[0m\u001b[37m\u001b[0m \u001b[1m46s\u001b[0m 6ms/step - accuracy: 0.6809 - loss: 0.6900 - val_accuracy: 0.7065 - val_loss: 0.6428\n",
            "Epoch 42/50\n",
            "\u001b[1m4908/4908\u001b[0m \u001b[32m━━━━━━━━━━━━━━━━━━━━\u001b[0m\u001b[37m\u001b[0m \u001b[1m41s\u001b[0m 6ms/step - accuracy: 0.6813 - loss: 0.6898 - val_accuracy: 0.7053 - val_loss: 0.6411\n",
            "Epoch 43/50\n",
            "\u001b[1m4908/4908\u001b[0m \u001b[32m━━━━━━━━━━━━━━━━━━━━\u001b[0m\u001b[37m\u001b[0m \u001b[1m24s\u001b[0m 5ms/step - accuracy: 0.6820 - loss: 0.6882 - val_accuracy: 0.7070 - val_loss: 0.6425\n",
            "Epoch 44/50\n",
            "\u001b[1m4908/4908\u001b[0m \u001b[32m━━━━━━━━━━━━━━━━━━━━\u001b[0m\u001b[37m\u001b[0m \u001b[1m41s\u001b[0m 5ms/step - accuracy: 0.6827 - loss: 0.6875 - val_accuracy: 0.7051 - val_loss: 0.6442\n",
            "Epoch 45/50\n",
            "\u001b[1m4908/4908\u001b[0m \u001b[32m━━━━━━━━━━━━━━━━━━━━\u001b[0m\u001b[37m\u001b[0m \u001b[1m45s\u001b[0m 6ms/step - accuracy: 0.6835 - loss: 0.6852 - val_accuracy: 0.7076 - val_loss: 0.6438\n",
            "Epoch 46/50\n",
            "\u001b[1m4908/4908\u001b[0m \u001b[32m━━━━━━━━━━━━━━━━━━━━\u001b[0m\u001b[37m\u001b[0m \u001b[1m41s\u001b[0m 6ms/step - accuracy: 0.6827 - loss: 0.6874 - val_accuracy: 0.7089 - val_loss: 0.6358\n",
            "Epoch 47/50\n",
            "\u001b[1m4908/4908\u001b[0m \u001b[32m━━━━━━━━━━━━━━━━━━━━\u001b[0m\u001b[37m\u001b[0m \u001b[1m25s\u001b[0m 5ms/step - accuracy: 0.6853 - loss: 0.6819 - val_accuracy: 0.7077 - val_loss: 0.6367\n",
            "Epoch 48/50\n",
            "\u001b[1m4908/4908\u001b[0m \u001b[32m━━━━━━━━━━━━━━━━━━━━\u001b[0m\u001b[37m\u001b[0m \u001b[1m44s\u001b[0m 6ms/step - accuracy: 0.6855 - loss: 0.6820 - val_accuracy: 0.7096 - val_loss: 0.6345\n",
            "Epoch 49/50\n",
            "\u001b[1m4908/4908\u001b[0m \u001b[32m━━━━━━━━━━━━━━━━━━━━\u001b[0m\u001b[37m\u001b[0m \u001b[1m42s\u001b[0m 6ms/step - accuracy: 0.6857 - loss: 0.6815 - val_accuracy: 0.7087 - val_loss: 0.6386\n",
            "Epoch 50/50\n",
            "\u001b[1m4908/4908\u001b[0m \u001b[32m━━━━━━━━━━━━━━━━━━━━\u001b[0m\u001b[37m\u001b[0m \u001b[1m25s\u001b[0m 5ms/step - accuracy: 0.6868 - loss: 0.6802 - val_accuracy: 0.7116 - val_loss: 0.6344\n",
            "\u001b[1m6135/6135\u001b[0m \u001b[32m━━━━━━━━━━━━━━━━━━━━\u001b[0m\u001b[37m\u001b[0m \u001b[1m10s\u001b[0m 2ms/step - accuracy: 0.7114 - loss: 0.6323\n"
          ]
        },
        {
          "output_type": "stream",
          "name": "stderr",
          "text": [
            "WARNING:absl:You are saving your model as an HDF5 file via `model.save()` or `keras.saving.save_model(model)`. This file format is considered legacy. We recommend using instead the native Keras format, e.g. `model.save('my_model.keras')` or `keras.saving.save_model(model, 'my_model.keras')`. \n"
          ]
        },
        {
          "output_type": "stream",
          "name": "stdout",
          "text": [
            "Test Accuracy: 71.18%\n",
            "Test Loss: 0.6320\n",
            "Model saved as 'driver_behavior_model.h5'.\n"
          ]
        }
      ]
    },
    {
      "cell_type": "code",
      "source": [
        "from sklearn.metrics import classification_report\n",
        "\n",
        "# Generate predictions\n",
        "y_pred = model.predict(X_test)\n",
        "y_pred_classes = np.argmax(y_pred, axis=1)\n",
        "\n",
        "# Print classification report\n",
        "print(classification_report(y_test, y_pred_classes, target_names=['NORMAL', 'AGGRESSIVE', 'DROWSY']))\n"
      ],
      "metadata": {
        "colab": {
          "base_uri": "https://localhost:8080/"
        },
        "id": "WngJal9UXbJu",
        "outputId": "bcea5950-7be5-4351-828e-77da83806868"
      },
      "execution_count": 13,
      "outputs": [
        {
          "output_type": "stream",
          "name": "stdout",
          "text": [
            "\u001b[1m6135/6135\u001b[0m \u001b[32m━━━━━━━━━━━━━━━━━━━━\u001b[0m\u001b[37m\u001b[0m \u001b[1m10s\u001b[0m 2ms/step\n",
            "              precision    recall  f1-score   support\n",
            "\n",
            "      NORMAL       0.72      0.67      0.69     63562\n",
            "  AGGRESSIVE       0.76      0.78      0.77     79871\n",
            "      DROWSY       0.63      0.66      0.65     52874\n",
            "\n",
            "    accuracy                           0.71    196307\n",
            "   macro avg       0.70      0.70      0.70    196307\n",
            "weighted avg       0.71      0.71      0.71    196307\n",
            "\n"
          ]
        }
      ]
    },
    {
      "cell_type": "code",
      "source": [
        "from sklearn.metrics import confusion_matrix\n",
        "import seaborn as sns\n",
        "import matplotlib.pyplot as plt\n",
        "\n",
        "# Compute confusion matrix\n",
        "conf_matrix = confusion_matrix(y_test, y_pred_classes)\n",
        "\n",
        "# Plot confusion matrix\n",
        "plt.figure(figsize=(8, 6))\n",
        "sns.heatmap(conf_matrix, annot=True, fmt='d', cmap='Blues', xticklabels=['NORMAL', 'AGGRESSIVE', 'DROWSY'], yticklabels=['NORMAL', 'AGGRESSIVE', 'DROWSY'])\n",
        "plt.xlabel('Predicted Label')\n",
        "plt.ylabel('True Label')\n",
        "plt.title('Confusion Matrix')\n",
        "plt.show()\n"
      ],
      "metadata": {
        "colab": {
          "base_uri": "https://localhost:8080/",
          "height": 584
        },
        "id": "WGo-GXMvfBZ1",
        "outputId": "cbcaa161-2af0-40a4-a228-8c87cfd08002"
      },
      "execution_count": 14,
      "outputs": [
        {
          "output_type": "display_data",
          "data": {
            "text/plain": [
              "<Figure size 800x600 with 2 Axes>"
            ],
            "image/png": "[encoded data removed]"
          },
          "metadata": {}
        }
      ]
    },
    {
      "cell_type": "code",
      "source": [
        "import numpy as np\n",
        "import tensorflow as tf\n",
        "from sklearn.preprocessing import StandardScaler\n",
        "from tensorflow.keras.models import load_model\n",
        "\n",
        "# Load the saved processed data\n",
        "data = np.load('processed_data.npz')\n",
        "X_train, X_test, y_train, y_test = data['X_train'], data['X_test'], data['y_train'], data['y_test']\n",
        "\n",
        "# Save the mean and std of the training set for normalization\n",
        "X_train_mean = X_train.mean(axis=0)\n",
        "X_train_std = X_train.std(axis=0)\n",
        "\n",
        "# Load the trained model\n",
        "model = load_model('driver_behavior_model.h5')\n",
        "\n",
        "# Select some test data points for demonstration\n",
        "sample_indices = np.random.choice(len(X_test), 5, replace=False)\n",
        "sample_data = X_test[sample_indices]\n",
        "sample_labels = y_test[sample_indices]\n",
        "\n",
        "# Define a pipeline function to process individual data points\n",
        "def pipeline(data_point):\n",
        "    # Normalize using the training set statistics\n",
        "    normalized_data = (data_point - X_train_mean) / X_train_std\n",
        "    # Reshape the data to match the model's input shape\n",
        "    return normalized_data.reshape(1, -1)\n",
        "\n",
        "# Map encoded labels back to the original labels\n",
        "label_mapping = {0: 'NORMAL', 1: 'AGGRESSIVE', 2: 'DROWSY'}\n",
        "inverse_label_mapping = {v: k for k, v in label_mapping.items()}\n",
        "\n",
        "# Make predictions for the selected test data points\n",
        "for i, (data, true_label) in enumerate(zip(sample_data, sample_labels)):\n",
        "    # Process the data point through the pipeline\n",
        "    processed_data = pipeline(data)\n",
        "    # Predict using the model\n",
        "    prediction = model.predict(processed_data)\n",
        "    predicted_label = label_mapping[np.argmax(prediction)]\n",
        "    true_label_name = label_mapping[true_label]\n",
        "\n",
        "    # Display results\n",
        "    print(f\"Data Point {i + 1}:\")\n",
        "    print(f\"Original Features: {data}\")\n",
        "    print(f\"True Label: {true_label_name}, Predicted Label: {predicted_label}\")\n",
        "    print(\"-\" * 40)\n"
      ],
      "metadata": {
        "colab": {
          "base_uri": "https://localhost:8080/"
        },
        "id": "eH_TyAf-hhNJ",
        "outputId": "20bad0e0-9927-4497-f416-8e5abccee518"
      },
      "execution_count": 17,
      "outputs": [
        {
          "output_type": "stream",
          "name": "stderr",
          "text": [
            "WARNING:absl:Compiled the loaded model, but the compiled metrics have yet to be built. `model.compile_metrics` will be empty until you train or evaluate the model.\n"
          ]
        },
        {
          "output_type": "stream",
          "name": "stdout",
          "text": [
            "\u001b[1m1/1\u001b[0m \u001b[32m━━━━━━━━━━━━━━━━━━━━\u001b[0m\u001b[37m\u001b[0m \u001b[1m0s\u001b[0m 97ms/step\n",
            "Data Point 1:\n",
            "Original Features: [ 4.48378841e-02  2.81793511e-01  7.23196654e-01 -4.15330158e-04\n",
            "  4.63274140e-01 -1.23083641e+00  7.23652884e-01  2.62013410e-01\n",
            " -1.13788583e+00 -5.78257059e-01 -8.21160616e-02  2.54076506e-14\n",
            "  1.92292604e-14 -1.79560022e-16  1.36489936e-16  3.99997253e-17\n",
            " -1.11209844e-17  5.07195992e-16  1.29345517e-15]\n",
            "True Label: DROWSY, Predicted Label: DROWSY\n",
            "----------------------------------------\n",
            "\u001b[1m1/1\u001b[0m \u001b[32m━━━━━━━━━━━━━━━━━━━━\u001b[0m\u001b[37m\u001b[0m \u001b[1m0s\u001b[0m 31ms/step\n",
            "Data Point 2:\n",
            "Original Features: [ 1.82654411e+00 -9.71563170e-15  8.56583550e-17  2.71669866e-16\n",
            "  1.13658662e-15  2.21340151e-15 -1.86054896e-16 -5.50968463e-17\n",
            "  8.11135474e-14  2.61331266e-16  9.80887205e-17  2.54076506e-14\n",
            "  1.92292604e-14 -1.79560022e-16  1.36489936e-16  1.27768332e+00\n",
            "  2.27909207e-01  1.15557127e-01  3.45305235e-01]\n",
            "True Label: NORMAL, Predicted Label: AGGRESSIVE\n",
            "----------------------------------------\n",
            "\u001b[1m1/1\u001b[0m \u001b[32m━━━━━━━━━━━━━━━━━━━━\u001b[0m\u001b[37m\u001b[0m \u001b[1m0s\u001b[0m 35ms/step\n",
            "Data Point 3:\n",
            "Original Features: [ 7.20353714e-01 -9.71563170e-15  8.56583550e-17  2.71669866e-16\n",
            "  1.13658662e-15  2.21340151e-15 -1.86054896e-16 -5.50968463e-17\n",
            "  8.11135474e-14  2.61331266e-16  9.80887205e-17  2.54076506e-14\n",
            "  1.92292604e-14 -1.79560022e-16  1.36489936e-16 -4.09893948e-01\n",
            "  1.26938933e-01  2.77735873e-01  3.45305235e-01]\n",
            "True Label: DROWSY, Predicted Label: DROWSY\n",
            "----------------------------------------\n",
            "\u001b[1m1/1\u001b[0m \u001b[32m━━━━━━━━━━━━━━━━━━━━\u001b[0m\u001b[37m\u001b[0m \u001b[1m0s\u001b[0m 35ms/step\n",
            "Data Point 4:\n",
            "Original Features: [-4.98118881e-01  2.81793511e-01 -2.28890281e+00  9.13125592e-01\n",
            " -1.13198952e+00  1.46281280e+00  7.23652884e-01 -5.63776996e-01\n",
            "  1.05393182e+00  4.51165597e-01  1.34798347e+00  2.54076506e-14\n",
            "  1.92292604e-14 -1.79560022e-16  1.36489936e-16  3.99997253e-17\n",
            " -1.11209844e-17  5.07195992e-16  1.29345517e-15]\n",
            "True Label: AGGRESSIVE, Predicted Label: AGGRESSIVE\n",
            "----------------------------------------\n",
            "\u001b[1m1/1\u001b[0m \u001b[32m━━━━━━━━━━━━━━━━━━━━\u001b[0m\u001b[37m\u001b[0m \u001b[1m0s\u001b[0m 38ms/step\n",
            "Data Point 5:\n",
            "Original Features: [ 8.18586399e-01 -9.71563170e-15  8.56583550e-17  2.71669866e-16\n",
            "  1.13658662e-15  2.21340151e-15 -1.86054896e-16 -5.50968463e-17\n",
            "  8.11135474e-14  2.61331266e-16  9.80887205e-17  2.54076506e-14\n",
            "  1.92292604e-14 -1.79560022e-16  1.36489936e-16 -6.72181790e-01\n",
            "  3.75357860e-01 -4.63489520e-01  3.45305235e-01]\n",
            "True Label: DROWSY, Predicted Label: NORMAL\n",
            "----------------------------------------\n"
          ]
        }
      ]
    },
    {
      "cell_type": "code",
      "source": [
        "import numpy as np\n",
        "import json\n",
        "\n",
        "# Assuming X_train_mean and X_train_std are already computed\n",
        "X_train_mean = X_train.mean(axis=0)\n",
        "X_train_std = X_train.std(axis=0)\n",
        "\n",
        "# Save to JSON file\n",
        "scaling_params = {\n",
        "    \"mean\": X_train_mean.tolist(),\n",
        "    \"std\": X_train_std.tolist()\n",
        "}\n",
        "\n",
        "with open('scaling_params.json', 'w') as f:\n",
        "    json.dump(scaling_params, f)\n",
        "\n",
        "print(\"Training mean and standard deviation saved as 'scaling_params.json'.\")\n"
      ],
      "metadata": {
        "colab": {
          "base_uri": "https://localhost:8080/"
        },
        "id": "IsFjmtvTib7P",
        "outputId": "a94aaad9-4725-432e-c085-566286b21f7d"
      },
      "execution_count": 18,
      "outputs": [
        {
          "output_type": "stream",
          "name": "stdout",
          "text": [
            "Training mean and standard deviation saved as 'scaling_params.json'.\n"
          ]
        }
      ]
    },
    {
      "cell_type": "code",
      "source": [
        "import numpy as np\n",
        "import json\n",
        "from tensorflow.keras.models import load_model\n",
        "\n",
        "# Load the trained model\n",
        "model = load_model('driver_behavior_model.h5')\n",
        "\n",
        "# Load mean and standard deviation for normalization\n",
        "with open('scaling_params.json', 'r') as f:\n",
        "    scaling_params = json.load(f)\n",
        "\n",
        "X_train_mean = np.array(scaling_params[\"mean\"])\n",
        "X_train_std = np.array(scaling_params[\"std\"])\n",
        "\n",
        "# Define the feature names and values for the new data point\n",
        "data_point_features = {\n",
        "    \"Timestamp\": 0.5,\n",
        "    \"Activation Bool\": 0.0,\n",
        "    \"X Accel (Gs)\": 0.2,\n",
        "    \"Y Accel (Gs)\": -0.1,\n",
        "    \"Z Accel (Gs)\": 0.3,\n",
        "    \"X Accel KF (Gs)\": -0.4,\n",
        "    \"Y Accel KF (Gs)\": 0.1,\n",
        "    \"Z Accel KF (Gs)\": -0.2,\n",
        "    \"Roll (deg)\": 0.6,\n",
        "    \"Pitch (deg)\": -0.5,\n",
        "    \"Yaw (deg)\": 0.2,\n",
        "    \"Speed (km/h)\": 80.0,\n",
        "    \"GPS Speed (km/h)\": 78.0,\n",
        "    \"Distance to Vehicle (m)\": 25.0,\n",
        "    \"Impact Time (s)\": 0.5,\n",
        "    \"Car Position (m)\": -0.2,\n",
        "    \"Phi\": 0.1,\n",
        "    \"Road Width (m)\": 3.0,\n",
        "    \"Lane Estimator State\": 1.5\n",
        "}\n",
        "\n",
        "# Convert the feature dictionary into a NumPy array\n",
        "data_point_values = np.array(list(data_point_features.values()))\n",
        "\n",
        "# Normalize the data\n",
        "normalized_data = (data_point_values - X_train_mean) / X_train_std\n",
        "\n",
        "# Reshape to match the model input\n",
        "normalized_data = normalized_data.reshape(1, -1)\n",
        "\n",
        "# Make prediction\n",
        "prediction = model.predict(normalized_data)\n",
        "predicted_label_index = np.argmax(prediction, axis=1)[0]\n",
        "predicted_label = [\"NORMAL\", \"AGGRESSIVE\", \"DROWSY\"][predicted_label_index]\n",
        "\n",
        "# Display results\n",
        "print(\"Input Data Point:\")\n",
        "for feature, value in data_point_features.items():\n",
        "    print(f\"{feature}: {value}\")\n",
        "\n",
        "print(\"\\nModel Prediction:\")\n",
        "print(f\"Predicted Label: {predicted_label}\")\n"
      ],
      "metadata": {
        "colab": {
          "base_uri": "https://localhost:8080/"
        },
        "id": "MbHUp8CJjAhP",
        "outputId": "2df55a15-1d89-4faa-ba86-629678a5f6e5"
      },
      "execution_count": 19,
      "outputs": [
        {
          "output_type": "stream",
          "name": "stderr",
          "text": [
            "WARNING:absl:Compiled the loaded model, but the compiled metrics have yet to be built. `model.compile_metrics` will be empty until you train or evaluate the model.\n"
          ]
        },
        {
          "output_type": "stream",
          "name": "stdout",
          "text": [
            "\u001b[1m1/1\u001b[0m \u001b[32m━━━━━━━━━━━━━━━━━━━━\u001b[0m\u001b[37m\u001b[0m \u001b[1m0s\u001b[0m 62ms/step\n",
            "Input Data Point:\n",
            "Timestamp: 0.5\n",
            "Activation Bool: 0.0\n",
            "X Accel (Gs): 0.2\n",
            "Y Accel (Gs): -0.1\n",
            "Z Accel (Gs): 0.3\n",
            "X Accel KF (Gs): -0.4\n",
            "Y Accel KF (Gs): 0.1\n",
            "Z Accel KF (Gs): -0.2\n",
            "Roll (deg): 0.6\n",
            "Pitch (deg): -0.5\n",
            "Yaw (deg): 0.2\n",
            "Speed (km/h): 80.0\n",
            "GPS Speed (km/h): 78.0\n",
            "Distance to Vehicle (m): 25.0\n",
            "Impact Time (s): 0.5\n",
            "Car Position (m): -0.2\n",
            "Phi: 0.1\n",
            "Road Width (m): 3.0\n",
            "Lane Estimator State: 1.5\n",
            "\n",
            "Model Prediction:\n",
            "Predicted Label: NORMAL\n"
          ]
        }
      ]
    },
    {
      "cell_type": "code",
      "source": [
        "import numpy as np\n",
        "import json\n",
        "from tensorflow.keras.models import load_model\n",
        "\n",
        "# Load the trained model\n",
        "model = load_model('driver_behavior_model.h5')\n",
        "\n",
        "# Load mean and standard deviation for normalization\n",
        "with open('scaling_params.json', 'r') as f:\n",
        "    scaling_params = json.load(f)\n",
        "\n",
        "X_train_mean = np.array(scaling_params[\"mean\"])\n",
        "X_train_std = np.array(scaling_params[\"std\"])\n",
        "\n",
        "# Define the feature names and values for the given data point\n",
        "data_point_features = {\n",
        "    \"Timestamp\": 4.48378841e-02,\n",
        "    \"Activation Bool\": 2.81793511e-01,\n",
        "    \"X Accel (Gs)\": 7.23196654e-01,\n",
        "    \"Y Accel (Gs)\": -4.15330158e-04,\n",
        "    \"Z Accel (Gs)\": 4.63274140e-01,\n",
        "    \"X Accel KF (Gs)\": -1.23083641e+00,\n",
        "    \"Y Accel KF (Gs)\": 7.23652884e-01,\n",
        "    \"Z Accel KF (Gs)\": 2.62013410e-01,\n",
        "    \"Roll (deg)\": -1.13788583e+00,\n",
        "    \"Pitch (deg)\": -5.78257059e-01,\n",
        "    \"Yaw (deg)\": -8.21160616e-02,\n",
        "    \"Speed (km/h)\": 2.54076506e-14,\n",
        "    \"GPS Speed (km/h)\": 1.92292604e-14,\n",
        "    \"Distance to Vehicle (m)\": -1.79560022e-16,\n",
        "    \"Impact Time (s)\": 1.36489936e-16,\n",
        "    \"Car Position (m)\": 3.99997253e-17,\n",
        "    \"Phi\": -1.11209844e-17,\n",
        "    \"Road Width (m)\": 5.07195992e-16,\n",
        "    \"Lane Estimator State\": 1.29345517e-15\n",
        "}\n",
        "\n",
        "# Convert the feature dictionary into a NumPy array\n",
        "data_point_values = np.array(list(data_point_features.values()))\n",
        "\n",
        "# Normalize the data\n",
        "normalized_data = (data_point_values - X_train_mean) / X_train_std\n",
        "\n",
        "# Reshape to match the model input\n",
        "normalized_data = normalized_data.reshape(1, -1)\n",
        "\n",
        "# Make prediction\n",
        "prediction = model.predict(normalized_data)\n",
        "predicted_label_index = np.argmax(prediction, axis=1)[0]\n",
        "predicted_label = [\"NORMAL\", \"AGGRESSIVE\", \"DROWSY\"][predicted_label_index]\n",
        "\n",
        "# True label (given in the input description)\n",
        "true_label = \"DROWSY\"\n",
        "\n",
        "# Display results\n",
        "print(\"Input Data Point:\")\n",
        "for feature, value in data_point_features.items():\n",
        "    print(f\"{feature}: {value}\")\n",
        "\n",
        "print(\"\\nModel Prediction:\")\n",
        "print(f\"True Label: {true_label}\")\n",
        "print(f\"Predicted Label: {predicted_label}\")\n"
      ],
      "metadata": {
        "colab": {
          "base_uri": "https://localhost:8080/"
        },
        "id": "fQOWTCFOjxOR",
        "outputId": "278d45f7-7292-47ba-f21f-5317613f9583"
      },
      "execution_count": 20,
      "outputs": [
        {
          "output_type": "stream",
          "name": "stderr",
          "text": [
            "WARNING:absl:Compiled the loaded model, but the compiled metrics have yet to be built. `model.compile_metrics` will be empty until you train or evaluate the model.\n",
            "WARNING:tensorflow:5 out of the last 6142 calls to <function TensorFlowTrainer.make_predict_function.<locals>.one_step_on_data_distributed at 0x7d5bf1339240> triggered tf.function retracing. Tracing is expensive and the excessive number of tracings could be due to (1) creating @tf.function repeatedly in a loop, (2) passing tensors with different shapes, (3) passing Python objects instead of tensors. For (1), please define your @tf.function outside of the loop. For (2), @tf.function has reduce_retracing=True option that can avoid unnecessary retracing. For (3), please refer to https://www.tensorflow.org/guide/function#controlling_retracing and https://www.tensorflow.org/api_docs/python/tf/function for  more details.\n"
          ]
        },
        {
          "output_type": "stream",
          "name": "stdout",
          "text": [
            "\u001b[1m1/1\u001b[0m \u001b[32m━━━━━━━━━━━━━━━━━━━━\u001b[0m\u001b[37m\u001b[0m \u001b[1m0s\u001b[0m 116ms/step\n",
            "Input Data Point:\n",
            "Timestamp: 0.0448378841\n",
            "Activation Bool: 0.281793511\n",
            "X Accel (Gs): 0.723196654\n",
            "Y Accel (Gs): -0.000415330158\n",
            "Z Accel (Gs): 0.46327414\n",
            "X Accel KF (Gs): -1.23083641\n",
            "Y Accel KF (Gs): 0.723652884\n",
            "Z Accel KF (Gs): 0.26201341\n",
            "Roll (deg): -1.13788583\n",
            "Pitch (deg): -0.578257059\n",
            "Yaw (deg): -0.0821160616\n",
            "Speed (km/h): 2.54076506e-14\n",
            "GPS Speed (km/h): 1.92292604e-14\n",
            "Distance to Vehicle (m): -1.79560022e-16\n",
            "Impact Time (s): 1.36489936e-16\n",
            "Car Position (m): 3.99997253e-17\n",
            "Phi: -1.11209844e-17\n",
            "Road Width (m): 5.07195992e-16\n",
            "Lane Estimator State: 1.29345517e-15\n",
            "\n",
            "Model Prediction:\n",
            "True Label: DROWSY\n",
            "Predicted Label: DROWSY\n"
          ]
        }
      ]
    },
    {
      "cell_type": "code",
      "source": [],
      "metadata": {
        "id": "Mm7gjvQWkJyI"
      },
      "execution_count": null,
      "outputs": []
    }
  ]
}